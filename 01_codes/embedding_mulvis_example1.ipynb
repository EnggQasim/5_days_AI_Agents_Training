{
  "cells": [
    {
      "cell_type": "markdown",
      "id": "a7ab72552b8d7e3a",
      "metadata": {
        "id": "a7ab72552b8d7e3a"
      },
      "source": [
        "# Quickstart with Milvus Lite"
      ]
    },
    {
      "cell_type": "markdown",
      "id": "fa50f50f8c78cfe5",
      "metadata": {
        "collapsed": false,
        "jupyter": {
          "outputs_hidden": false
        },
        "id": "fa50f50f8c78cfe5"
      },
      "source": [
        "Vectors, the output data format of Neural Network models, can effectively encode information and serve a pivotal role in AI applications such as knowledge base, semantic search, Retrieval Augmented Generation (RAG) and more.\n",
        "\n",
        "Milvus is an open-source vector database that suits AI applications of every size from running a demo chatbot in Jupyter notebook to building web-scale search that serves billions of users. In this guide, we will walk you through how to set up Milvus locally within minutes and use the Python client library to generate, store and search vectors."
      ]
    },
    {
      "cell_type": "markdown",
      "id": "bc44bb33cc4950e3",
      "metadata": {
        "collapsed": false,
        "jupyter": {
          "outputs_hidden": false
        },
        "id": "bc44bb33cc4950e3"
      },
      "source": [
        "## Install Milvus\n",
        "In this guide we use Milvus Lite, a python library included in `pymilvus` that can be embedded into the client application. Milvus also supports deployment on [Docker](https://milvus.io/docs/install_standalone-docker.md) and [Kubernetes](https://milvus.io/docs/install_cluster-milvusoperator.md) for production use cases.\n",
        "\n",
        "Before starting, make sure you have Python 3.8+ available in the local environment. Install `pymilvus` which contains both the python client library and Milvus Lite:"
      ]
    },
    {
      "cell_type": "code",
      "execution_count": 1,
      "id": "initial_id",
      "metadata": {
        "collapsed": true,
        "jupyter": {
          "outputs_hidden": true
        },
        "id": "initial_id",
        "colab": {
          "base_uri": "https://localhost:8080/"
        },
        "outputId": "35505d35-eeaa-454b-c923-c01fcc6628ef"
      },
      "outputs": [
        {
          "output_type": "stream",
          "name": "stdout",
          "text": [
            "\u001b[2K   \u001b[90m━━━━━━━━━━━━━━━━━━━━━━━━━━━━━━━━━━━━━━━━\u001b[0m \u001b[32m198.6/198.6 kB\u001b[0m \u001b[31m6.9 MB/s\u001b[0m eta \u001b[36m0:00:00\u001b[0m\n",
            "\u001b[2K   \u001b[90m━━━━━━━━━━━━━━━━━━━━━━━━━━━━━━━━━━━━━━━━\u001b[0m \u001b[32m49.4/49.4 MB\u001b[0m \u001b[31m10.7 MB/s\u001b[0m eta \u001b[36m0:00:00\u001b[0m\n",
            "\u001b[2K   \u001b[90m━━━━━━━━━━━━━━━━━━━━━━━━━━━━━━━━━━━━━━━━\u001b[0m \u001b[32m53.6/53.6 kB\u001b[0m \u001b[31m2.4 MB/s\u001b[0m eta \u001b[36m0:00:00\u001b[0m\n",
            "\u001b[2K   \u001b[90m━━━━━━━━━━━━━━━━━━━━━━━━━━━━━━━━━━━━━━━━\u001b[0m \u001b[32m49.3/49.3 kB\u001b[0m \u001b[31m2.7 MB/s\u001b[0m eta \u001b[36m0:00:00\u001b[0m\n",
            "\u001b[?25h"
          ]
        }
      ],
      "source": [
        "!pip install -Uq pymilvus"
      ]
    },
    {
      "cell_type": "markdown",
      "id": "f5fdf63111967483",
      "metadata": {
        "id": "f5fdf63111967483"
      },
      "source": [
        "> If you are using Google Colab, to enable dependencies just installed, you may need to **restart the runtime** (click on the \"Runtime\" menu at the top of the screen, and select \"Restart session\" from the dropdown menu)."
      ]
    },
    {
      "cell_type": "markdown",
      "id": "43237e11f0c52425",
      "metadata": {
        "collapsed": false,
        "jupyter": {
          "outputs_hidden": false
        },
        "id": "43237e11f0c52425"
      },
      "source": [
        "## Set Up Vector Database\n",
        "To create a local Milvus vector database, simply instantiate a `MilvusClient` by specifying a file name to store all data, such as \"milvus_demo.db\"."
      ]
    },
    {
      "cell_type": "code",
      "execution_count": 2,
      "id": "640b036a572d02fd",
      "metadata": {
        "jupyter": {
          "outputs_hidden": false
        },
        "id": "640b036a572d02fd",
        "colab": {
          "base_uri": "https://localhost:8080/"
        },
        "outputId": "ede2ae89-f0fd-445b-f9c5-f003b7294494"
      },
      "outputs": [
        {
          "output_type": "stream",
          "name": "stderr",
          "text": [
            "DEBUG:pymilvus.milvus_client.milvus_client:Created new connection using: 04c5fbc3683245b4b3242926d716c643\n"
          ]
        }
      ],
      "source": [
        "from pymilvus import MilvusClient\n",
        "\n",
        "client = MilvusClient(\"milvus_demo.db\")"
      ]
    },
    {
      "cell_type": "markdown",
      "id": "492e2ca1652be245",
      "metadata": {
        "collapsed": false,
        "jupyter": {
          "outputs_hidden": false
        },
        "id": "492e2ca1652be245"
      },
      "source": [
        "## Create a Collection\n",
        "In Milvus, we need a collection to store vectors and their associated metadata. You can think of it as a table in traditional SQL databases. When creating a collection, you can define schema and index params to configure vector specs such as dimensionality, index types and distant metrics. There are also complex concepts to optimize the index for vector search performance. For now, let's just focus on the basics and use default for everything possible. At minimum, you only need to set the collection name and the dimension of the vector field of the collection."
      ]
    },
    {
      "cell_type": "code",
      "execution_count": 3,
      "id": "566d03c34d7ca94",
      "metadata": {
        "ExecuteTime": {
          "end_time": "2024-05-22T07:53:48.940418Z",
          "start_time": "2024-05-22T07:53:48.423742Z"
        },
        "jupyter": {
          "outputs_hidden": false
        },
        "id": "566d03c34d7ca94",
        "colab": {
          "base_uri": "https://localhost:8080/"
        },
        "outputId": "d2ca6782-860f-44ec-ba8f-97d15da7022a"
      },
      "outputs": [
        {
          "output_type": "stream",
          "name": "stderr",
          "text": [
            "DEBUG:pymilvus.milvus_client.milvus_client:Successfully created collection: demo_collection\n",
            "DEBUG:pymilvus.milvus_client.milvus_client:Successfully created an index on collection: demo_collection\n"
          ]
        }
      ],
      "source": [
        "if client.has_collection(collection_name=\"demo_collection\"):\n",
        "    client.drop_collection(collection_name=\"demo_collection\")\n",
        "\n",
        "client.create_collection(\n",
        "    collection_name=\"demo_collection\",\n",
        "    dimension=768,  # The vectors we will use in this demo has 768 dimensions\n",
        ")"
      ]
    },
    {
      "cell_type": "markdown",
      "id": "9d1498d5e5dc46a7",
      "metadata": {
        "collapsed": false,
        "jupyter": {
          "outputs_hidden": false
        },
        "id": "9d1498d5e5dc46a7"
      },
      "source": [
        "In the above setup,\n",
        "- The primary key and vector fields use their default names (\"id\" and \"vector\").\n",
        "- The metric type (vector distance definition) is set to its default value ([COSINE](https://milvus.io/docs/metric.md#Cosine-Similarity)).\n",
        "- The primary key field accepts integers and does not automatically increments (namely not using [auto-id feature](https://milvus.io/docs/schema.md))\n",
        "Alternatively, you can formally define the schema of the collection by following this [instruction](https://milvus.io/api-reference/pymilvus/v2.4.x/MilvusClient/Collections/create_schema.md)."
      ]
    },
    {
      "cell_type": "markdown",
      "id": "18e6a979541b1254",
      "metadata": {
        "collapsed": false,
        "jupyter": {
          "outputs_hidden": false
        },
        "id": "18e6a979541b1254"
      },
      "source": [
        "## Prepare Data\n",
        "In this guide, we use vectors to perform semantic search on text. We need to generate vectors for text by downloading embedding models. This can be easily done by using the utility functions from `pymilvus[model]` library."
      ]
    },
    {
      "cell_type": "markdown",
      "id": "865920755266b514",
      "metadata": {
        "collapsed": false,
        "jupyter": {
          "outputs_hidden": false
        },
        "id": "865920755266b514"
      },
      "source": [
        "## Represent text with vectors\n",
        "First, install the model library. This package includes essential ML tools such as PyTorch. The package download may take some time if your local environment has never installed PyTorch."
      ]
    },
    {
      "cell_type": "code",
      "execution_count": 4,
      "id": "c63363f1d4b8532e",
      "metadata": {
        "jupyter": {
          "outputs_hidden": false
        },
        "id": "c63363f1d4b8532e",
        "colab": {
          "base_uri": "https://localhost:8080/"
        },
        "outputId": "6acbdcb2-855c-4aaf-b4fb-244cafd152c8"
      },
      "outputs": [
        {
          "output_type": "stream",
          "name": "stdout",
          "text": [
            "\u001b[2K   \u001b[90m━━━━━━━━━━━━━━━━━━━━━━━━━━━━━━━━━━━━━━━━\u001b[0m \u001b[32m42.8/42.8 kB\u001b[0m \u001b[31m3.6 MB/s\u001b[0m eta \u001b[36m0:00:00\u001b[0m\n",
            "\u001b[2K   \u001b[90m━━━━━━━━━━━━━━━━━━━━━━━━━━━━━━━━━━━━━━━━\u001b[0m \u001b[32m13.2/13.2 MB\u001b[0m \u001b[31m80.7 MB/s\u001b[0m eta \u001b[36m0:00:00\u001b[0m\n",
            "\u001b[2K   \u001b[90m━━━━━━━━━━━━━━━━━━━━━━━━━━━━━━━━━━━━━━━━\u001b[0m \u001b[32m46.0/46.0 kB\u001b[0m \u001b[31m3.3 MB/s\u001b[0m eta \u001b[36m0:00:00\u001b[0m\n",
            "\u001b[2K   \u001b[90m━━━━━━━━━━━━━━━━━━━━━━━━━━━━━━━━━━━━━━━━\u001b[0m \u001b[32m86.8/86.8 kB\u001b[0m \u001b[31m7.2 MB/s\u001b[0m eta \u001b[36m0:00:00\u001b[0m\n",
            "\u001b[?25h"
          ]
        }
      ],
      "source": [
        "!pip install -Uq \"pymilvus[model]\""
      ]
    },
    {
      "cell_type": "markdown",
      "id": "2f6df7d93414560f",
      "metadata": {
        "collapsed": false,
        "jupyter": {
          "outputs_hidden": false
        },
        "id": "2f6df7d93414560f"
      },
      "source": [
        "Generate vector embeddings with default model. Milvus expects data to be inserted organized as a list of dictionaries, where each dictionary represents a data record, termed as an entity."
      ]
    },
    {
      "cell_type": "code",
      "execution_count": 5,
      "id": "a02a7ef763ef98a7",
      "metadata": {
        "is_executing": true,
        "jupyter": {
          "outputs_hidden": false
        },
        "id": "a02a7ef763ef98a7",
        "outputId": "30c54353-a163-4940-8e99-dd479af68b4d",
        "colab": {
          "base_uri": "https://localhost:8080/",
          "height": 420,
          "referenced_widgets": [
            "400c6539ebc64fd9b6f5ca7dc1a49831",
            "dd3a1d90877942858f6e05e171cfa993",
            "c2e8676a5bd5495796909dd762b17b0d",
            "ed0f678f12d947ff84fb499e1fffd9ef",
            "2ba951e62a3b4950a2672ef92e93f58c",
            "92749589922e4aa9840c767742e73577",
            "95b3e82c8edd4b98906017db3d0def6b",
            "1b2288b350cb4cb78f03b0eaef6d505d",
            "fc5dc0b39778467da73f59fda92b9c50",
            "d70504a2c5d84ccb93187ccaa15bf2a0",
            "7faaf51125c54749937fd1b771a259f3",
            "c12d2cc9550449b487ba69a2fbf2a9e0",
            "c1b4eda17d7b46739b856170a6ad605c",
            "01f08413a36149c9a574f926aaeda30e",
            "17e1d890afcf4e5cb7d17e0efccbef7b",
            "816398be575f464087e938408a2bebf7",
            "a62323306dcb47729f1b5c486e7eb90d",
            "a1f56230675b48a1abc6901754f06613",
            "f8da8adfc480483599b6c0ce2645f779",
            "5dc7f5dd1b3a425cb587cc823819d709",
            "395bf5667861482bbcbfc65fc7fe8e6d",
            "2de67813e8164f93bbde9b267045d0bd",
            "583d5568477d4c1a810b4a7f55d5af73",
            "ff486c82462843729bd050fc48005563",
            "f5eb35a77adf4d4aaaec637cc2cc04c4",
            "fffa4c715ae14836b64753ba9f049dcf",
            "a26c326426ef4726b1b6de882370202b",
            "daa2610e2a8744599a92eadafe5b160a",
            "b76503cca47f42e79294a30496b8c2f6",
            "47db0ba49b6340a08d4888183145a84c",
            "92c69c62ce1d4743b37278ad19d6569e",
            "3e73ef300e6a46e3a91b483a8c477c64",
            "b8921ebcbbfd4086ba0d1942493c8a2d",
            "ae560e31a25d4d689f13c20939c81b16",
            "0d78cd8aa86d45f2941f5edb66daea22",
            "e3455f58cebb498492fc5be592121ad9",
            "4d378105eae4413aade7d9e040a09fe5",
            "3449e4fbba2d44738b9df6cd7069cddb",
            "af945a80f4884fa88dbb71ca4e2e5224",
            "7310bf3cf54c46769209914246eef310",
            "b401e92d43504199b556bedce332f43e",
            "ec0b82bccc154f96a35cde65875992da",
            "00ae926d50a44e1398cfd07aad0fb9a7",
            "79f8aa8411774213bc62be643cca9cdb",
            "4ea0784c906744748c648b739337757b",
            "5b08f035eea14c8cbe447ca517d771c3",
            "a84d280aeaa94a8c9491a35ca3e4f39a",
            "5057e0419e0740ebacf5ab8c057c7361",
            "57a733680d8545d9a2aa823d38defbe0",
            "1de76a6c459d410dbd392a751f04bec5",
            "c19c53113ff54417a0dd9dba0b81bb08",
            "2f7592251bd240409e1879bd3de59b2a",
            "d0eaa74bdbeb471c8e0d9bf1a9b655c9",
            "72095d34d39e4ca889fc31ce26099afd",
            "3dc45ee38adc4c8696f52ccb4d2adad1",
            "50770fea12544f868847a7f8302c01ae",
            "5b864c7b6e444245b1c59c943d10cfc0",
            "191a1117c57f4d0d98959ff4cb75a1b2",
            "cb06557d0d36461caac21fdc7f0ddc3b",
            "cbd83a3602c343178ce5a843b3029f6b",
            "95c8ed1a5f2b431ea5208a50942b359c",
            "0400f7ac86564686a21e4cf8baa778be",
            "ce467348d293476089da0854bbbbf412",
            "158ed537ddce43b0a9c27d321da78da7",
            "f2eae74f1b274073aef23629729c88ac",
            "dd3e25f24c894102bd8d66686d0ea620"
          ]
        }
      },
      "outputs": [
        {
          "output_type": "stream",
          "name": "stderr",
          "text": [
            "/usr/local/lib/python3.10/dist-packages/huggingface_hub/utils/_token.py:89: UserWarning: \n",
            "The secret `HF_TOKEN` does not exist in your Colab secrets.\n",
            "To authenticate with the Hugging Face Hub, create a token in your settings tab (https://huggingface.co/settings/tokens), set it as secret in your Google Colab and restart your session.\n",
            "You will be able to reuse this secret in all of your notebooks.\n",
            "Please note that authentication is recommended but still optional to access public models or datasets.\n",
            "  warnings.warn(\n"
          ]
        },
        {
          "output_type": "display_data",
          "data": {
            "text/plain": [
              "tokenizer_config.json:   0%|          | 0.00/465 [00:00<?, ?B/s]"
            ],
            "application/vnd.jupyter.widget-view+json": {
              "version_major": 2,
              "version_minor": 0,
              "model_id": "400c6539ebc64fd9b6f5ca7dc1a49831"
            }
          },
          "metadata": {}
        },
        {
          "output_type": "display_data",
          "data": {
            "text/plain": [
              "config.json:   0%|          | 0.00/827 [00:00<?, ?B/s]"
            ],
            "application/vnd.jupyter.widget-view+json": {
              "version_major": 2,
              "version_minor": 0,
              "model_id": "c12d2cc9550449b487ba69a2fbf2a9e0"
            }
          },
          "metadata": {}
        },
        {
          "output_type": "display_data",
          "data": {
            "text/plain": [
              "spiece.model:   0%|          | 0.00/760k [00:00<?, ?B/s]"
            ],
            "application/vnd.jupyter.widget-view+json": {
              "version_major": 2,
              "version_minor": 0,
              "model_id": "583d5568477d4c1a810b4a7f55d5af73"
            }
          },
          "metadata": {}
        },
        {
          "output_type": "display_data",
          "data": {
            "text/plain": [
              "tokenizer.json:   0%|          | 0.00/1.31M [00:00<?, ?B/s]"
            ],
            "application/vnd.jupyter.widget-view+json": {
              "version_major": 2,
              "version_minor": 0,
              "model_id": "ae560e31a25d4d689f13c20939c81b16"
            }
          },
          "metadata": {}
        },
        {
          "output_type": "display_data",
          "data": {
            "text/plain": [
              "special_tokens_map.json:   0%|          | 0.00/245 [00:00<?, ?B/s]"
            ],
            "application/vnd.jupyter.widget-view+json": {
              "version_major": 2,
              "version_minor": 0,
              "model_id": "4ea0784c906744748c648b739337757b"
            }
          },
          "metadata": {}
        },
        {
          "output_type": "stream",
          "name": "stderr",
          "text": [
            "/usr/local/lib/python3.10/dist-packages/transformers/tokenization_utils_base.py:1601: FutureWarning: `clean_up_tokenization_spaces` was not set. It will be set to `True` by default. This behavior will be depracted in transformers v4.45, and will be then set to `False` by default. For more details check this issue: https://github.com/huggingface/transformers/issues/31884\n",
            "  warnings.warn(\n"
          ]
        },
        {
          "output_type": "display_data",
          "data": {
            "text/plain": [
              "model.onnx:   0%|          | 0.00/46.9M [00:00<?, ?B/s]"
            ],
            "application/vnd.jupyter.widget-view+json": {
              "version_major": 2,
              "version_minor": 0,
              "model_id": "50770fea12544f868847a7f8302c01ae"
            }
          },
          "metadata": {}
        },
        {
          "output_type": "stream",
          "name": "stdout",
          "text": [
            "Dim: 768 (768,)\n",
            "Data has 3 entities, each with fields:  dict_keys(['id', 'vector', 'text', 'subject'])\n",
            "Vector dim: 768\n"
          ]
        }
      ],
      "source": [
        "from pymilvus import model\n",
        "\n",
        "# If connection to https://huggingface.co/ failed, uncomment the following path\n",
        "# import os\n",
        "# os.environ['HF_ENDPOINT'] = 'https://hf-mirror.com'\n",
        "\n",
        "# This will download a small embedding model \"paraphrase-albert-small-v2\" (~50MB).\n",
        "embedding_fn = model.DefaultEmbeddingFunction()\n",
        "\n",
        "# Text strings to search from.\n",
        "docs = [\n",
        "    \"Artificial intelligence was founded as an academic discipline in 1956.\",\n",
        "    \"Alan Turing was the first person to conduct substantial research in AI.\",\n",
        "    \"Born in Maida Vale, London, Turing was raised in southern England.\",\n",
        "]\n",
        "\n",
        "vectors = embedding_fn.encode_documents(docs)\n",
        "# The output vector has 768 dimensions, matching the collection that we just created.\n",
        "print(\"Dim:\", embedding_fn.dim, vectors[0].shape)  # Dim: 768 (768,)\n",
        "\n",
        "# Each entity has id, vector representation, raw text, and a subject label that we use\n",
        "# to demo metadata filtering later.\n",
        "data = [\n",
        "    {\"id\": i, \"vector\": vectors[i], \"text\": docs[i], \"subject\": \"history\"}\n",
        "    for i in range(len(vectors))\n",
        "]\n",
        "\n",
        "print(\"Data has\", len(data), \"entities, each with fields: \", data[0].keys())\n",
        "print(\"Vector dim:\", len(data[0][\"vector\"]))"
      ]
    },
    {
      "cell_type": "code",
      "source": [
        "data[0].keys()"
      ],
      "metadata": {
        "colab": {
          "base_uri": "https://localhost:8080/"
        },
        "id": "ineqCGBJxg5A",
        "outputId": "7a725eee-78fe-4c60-c5e1-dcc6b0f81fd4"
      },
      "id": "ineqCGBJxg5A",
      "execution_count": 9,
      "outputs": [
        {
          "output_type": "execute_result",
          "data": {
            "text/plain": [
              "dict_keys(['id', 'vector', 'text', 'subject'])"
            ]
          },
          "metadata": {},
          "execution_count": 9
        }
      ]
    },
    {
      "cell_type": "code",
      "source": [
        "data[0]"
      ],
      "metadata": {
        "colab": {
          "base_uri": "https://localhost:8080/"
        },
        "id": "6_AdqErZxxfP",
        "outputId": "9989de54-1cea-48bd-9f8a-a8deb8728ee8"
      },
      "id": "6_AdqErZxxfP",
      "execution_count": 16,
      "outputs": [
        {
          "output_type": "execute_result",
          "data": {
            "text/plain": [
              "{'id': 0,\n",
              " 'vector': array([ 1.07278939e-02, -3.58951759e-02,  1.87497461e-02,  1.63488085e-02,\n",
              "         3.65168801e-02,  3.58821264e-03, -4.00498106e-04,  2.85293377e-02,\n",
              "         2.27454947e-03,  1.83625630e-03,  4.22585878e-03,  2.71739304e-02,\n",
              "        -3.68435160e-03,  3.07914796e-02,  4.50539470e-03,  4.42280975e-02,\n",
              "         1.05038412e-02, -2.94945016e-02, -6.70734499e-02, -2.05264806e-02,\n",
              "         1.53228286e-02, -6.00490652e-03, -6.22855023e-02, -3.96147850e-02,\n",
              "         1.42062852e-02,  3.27076642e-02, -2.08345547e-02, -4.41742883e-02,\n",
              "        -2.83398382e-02,  2.94244275e-02, -2.80872350e-02, -2.08090271e-02,\n",
              "         1.71597935e-02,  2.11166043e-03,  2.18237544e-02, -1.57766498e-03,\n",
              "        -3.76967330e-02,  4.14607652e-02, -2.50564208e-02,  8.33366984e-02,\n",
              "        -1.59791580e-02,  9.81383407e-03, -2.66054381e-02,  6.18987162e-04,\n",
              "         3.73582470e-03, -3.41552131e-02,  5.87082369e-02, -2.37218647e-02,\n",
              "         6.74597648e-03, -3.58418118e-02, -1.75600313e-02,  2.28030818e-02,\n",
              "         2.66461936e-03,  2.51192796e-02,  4.69451845e-02,  1.26227841e-02,\n",
              "         1.83374763e-02, -7.16557795e-03,  4.28112652e-02,  5.03102832e-03,\n",
              "         5.70555215e-02, -1.48660530e-02,  1.00454720e-01,  6.45736025e-03,\n",
              "        -6.83271784e-02, -1.69027336e-02,  1.19772184e-02, -1.57661470e-03,\n",
              "        -2.20616392e-02,  2.11565689e-02,  4.07108411e-02, -3.60099285e-02,\n",
              "         1.97239866e-02, -4.70733515e-02, -8.74420836e-02, -4.63500533e-03,\n",
              "         3.08350528e-02,  1.05151987e-01,  1.61669785e-02, -8.00113687e-03,\n",
              "         3.36739244e-02,  1.59855584e-02,  3.43802190e-02,  1.83429098e-02,\n",
              "         7.77001035e-02,  2.65015410e-02, -5.22142887e-02, -9.02192587e-02,\n",
              "        -1.23404441e-02,  5.30275686e-02, -1.12754206e-03, -5.95889295e-03,\n",
              "         4.79625286e-02, -7.96565934e-03, -2.84060448e-02,  2.85273101e-02,\n",
              "         6.75447334e-02, -2.88255811e-02, -3.41052255e-02,  8.48762350e-02,\n",
              "        -7.66478790e-03, -6.36343831e-02, -6.83110435e-02, -3.30391047e-02,\n",
              "        -2.76551095e-03,  1.58925044e-03,  1.37800753e-02, -1.85805191e-02,\n",
              "        -8.84461282e-03, -5.32250377e-02, -1.43891930e-02,  8.07742076e-03,\n",
              "        -3.12152034e-02,  1.87733220e-02,  4.93763695e-02,  7.31566445e-02,\n",
              "        -4.19017354e-02,  6.69027582e-02,  8.93379477e-03,  4.56845871e-02,\n",
              "         3.21352232e-02, -3.55952052e-03, -4.61431982e-02,  9.21022221e-03,\n",
              "         6.77902948e-02,  1.33748602e-02,  1.04540498e-02,  3.71990601e-02,\n",
              "         1.54208187e-02,  8.78668013e-03, -3.33493776e-02,  1.55517630e-02,\n",
              "         5.98769772e-02,  2.89782604e-02,  4.65330738e-02, -5.14590760e-03,\n",
              "         4.55568457e-03, -1.81957184e-03,  1.05392592e-02, -1.91321686e-02,\n",
              "         1.16216073e-02,  1.41618687e-02,  3.43695064e-03,  5.77896369e-03,\n",
              "         3.52893750e-02,  5.42629937e-02, -5.16060558e-02, -4.29244978e-02,\n",
              "        -1.54397347e-02,  1.46955427e-02,  1.29050609e-02, -6.80645302e-03,\n",
              "         5.43356894e-02,  3.52288057e-03, -2.57128332e-02,  6.31799393e-04,\n",
              "         1.61668960e-02, -6.96879533e-03, -4.29920078e-02,  2.06843781e-02,\n",
              "         8.36732149e-03, -2.70468408e-02,  8.86556615e-02, -5.28533475e-02,\n",
              "        -1.23843563e-02, -4.18237984e-02,  2.86809947e-02,  5.12698470e-02,\n",
              "         6.06863006e-02,  2.39550126e-02,  1.51687945e-02,  7.54211477e-02,\n",
              "         3.36993228e-02,  4.30679498e-02,  4.29494033e-02, -1.08622581e-02,\n",
              "        -2.36256402e-02, -6.97306156e-02, -7.05677122e-02, -2.02579253e-02,\n",
              "         1.58558859e-02, -3.36513828e-02, -4.81909770e-02,  5.67607153e-02,\n",
              "         1.87197781e-02, -7.42066131e-03,  7.48456597e-03,  4.21026472e-03,\n",
              "        -1.02257618e-02,  3.05436961e-02,  3.11523604e-02, -1.86801749e-02,\n",
              "         5.07432200e-02,  9.91032302e-04, -7.21559317e-03, -9.34556702e-03,\n",
              "         5.45732422e-02,  3.23442522e-02,  4.47654885e-02, -7.08616630e-02,\n",
              "         9.22811655e-03,  6.70052706e-03, -8.80964112e-02, -2.25781163e-02,\n",
              "         2.49847913e-02,  6.08310830e-02,  1.95219341e-02, -7.48026113e-02,\n",
              "         3.30761834e-02,  4.30498594e-03,  2.82655277e-02,  3.66412850e-02,\n",
              "         2.91634889e-02, -7.84101765e-03,  1.62649390e-02, -1.12636906e-02,\n",
              "        -1.76163510e-03, -1.28034785e-02,  2.04084731e-02,  1.97110984e-02,\n",
              "        -1.74349140e-03, -3.23705586e-02, -1.55003697e-02,  9.19922817e-05,\n",
              "        -2.97471857e-02, -3.98164021e-03,  7.83624160e-03,  6.14832398e-02,\n",
              "        -6.59236079e-02, -7.98581686e-03,  6.69311751e-02,  9.92655190e-03,\n",
              "        -3.43730953e-03, -3.60241354e-02, -2.79514888e-02, -4.65012295e-02,\n",
              "        -6.41206819e-02,  3.64269084e-02,  8.25344042e-02,  5.85784005e-02,\n",
              "        -5.03269301e-02, -4.55280017e-03,  5.73238745e-03,  3.25171450e-02,\n",
              "         4.03702310e-03, -4.21402098e-02, -3.08332071e-02, -3.19968715e-02,\n",
              "        -3.77097458e-02,  2.82969842e-02,  1.87846466e-02,  3.25988038e-02,\n",
              "         8.39497617e-03,  2.62545657e-02, -1.50560196e-02, -8.74374278e-03,\n",
              "         1.53221231e-02,  3.66402336e-02, -3.36323254e-02, -2.25265577e-02,\n",
              "         3.26400453e-02, -1.95998676e-02, -3.93727415e-02,  5.40288720e-02,\n",
              "        -6.21491821e-02,  4.09077613e-03,  4.43554769e-02, -1.44205535e-03,\n",
              "         1.41545158e-02,  4.07826880e-02, -3.20732437e-02,  1.87142478e-02,\n",
              "        -7.14250175e-03, -1.61268535e-02,  1.88098317e-02,  2.49412005e-02,\n",
              "        -3.31219386e-03, -3.01626758e-02, -6.93610814e-02, -2.91937906e-02,\n",
              "        -1.27889685e-02, -1.48146627e-02, -2.11071933e-02,  1.99808281e-03,\n",
              "        -3.58299078e-02,  3.94236887e-03, -6.65684780e-02,  3.26091039e-02,\n",
              "         2.09366664e-02, -1.64287674e-02, -4.33757420e-02,  2.25066643e-02,\n",
              "         3.75698045e-02,  2.16100187e-02, -1.00742056e-02, -2.97679043e-02,\n",
              "         3.60914503e-02, -4.88576374e-02, -6.73475571e-02, -2.86098967e-03,\n",
              "         4.70576454e-02,  6.38480099e-02,  3.33746757e-02,  2.84902949e-02,\n",
              "         8.58072262e-02,  2.76100743e-02, -1.16568343e-02,  4.28232622e-02,\n",
              "         7.72751673e-03,  5.53114027e-02,  2.35685522e-02, -5.22889791e-02,\n",
              "        -2.13905212e-02,  2.23364928e-02, -2.10494757e-02,  1.17133568e-01,\n",
              "        -8.43183652e-03, -9.81299875e-03,  2.24754906e-02, -1.54689147e-02,\n",
              "         4.29838953e-02,  2.17056890e-03,  4.10673872e-02,  3.45348246e-02,\n",
              "         2.21640075e-02, -1.47184747e-02,  9.89387869e-03, -7.47029728e-03,\n",
              "         4.38191382e-02,  7.96935250e-02, -8.17272844e-03,  2.11323725e-02,\n",
              "        -1.15282837e-02,  1.32409128e-02,  2.24337781e-02,  9.22947723e-04,\n",
              "         2.83545309e-02,  2.55046214e-02,  5.22059162e-02, -5.12198682e-02,\n",
              "        -1.18383619e-01,  1.53287223e-02, -9.11267009e-02, -6.56199736e-03,\n",
              "         2.87126579e-02, -2.30499563e-03, -6.27316485e-02, -6.24459563e-02,\n",
              "        -2.24968369e-04, -5.74323187e-02,  4.59354208e-02, -3.65144255e-03,\n",
              "         5.18678660e-02,  4.04453353e-02, -1.37851185e-02, -4.29559286e-02,\n",
              "        -2.70232986e-02,  2.23769908e-02, -2.58932121e-03,  1.21998187e-02,\n",
              "        -6.59200870e-02, -2.32381070e-02, -6.53867730e-02, -9.30026389e-03,\n",
              "        -6.41040530e-02, -1.28138188e-03, -3.77886127e-02, -2.58019599e-02,\n",
              "        -1.43500140e-02, -2.73565640e-02, -5.93694751e-03, -1.70616556e-02,\n",
              "        -2.95749367e-03,  5.72017195e-02, -3.61522729e-02, -3.92968113e-03,\n",
              "        -1.33788012e-02,  2.77676836e-03,  2.84873090e-02, -3.19765797e-02,\n",
              "        -1.56824037e-02,  4.25554340e-02,  2.41535221e-03, -4.01820569e-02,\n",
              "        -4.62521737e-02,  1.74017421e-02, -3.11000942e-03, -3.78864417e-02,\n",
              "        -3.00889505e-02,  2.18741495e-02, -5.03451131e-02,  7.49926318e-02,\n",
              "         6.06907199e-03,  1.65382415e-04, -2.20444901e-03,  4.03977589e-02,\n",
              "         4.48640923e-02,  4.48385693e-02,  1.67280147e-02,  1.94551143e-02,\n",
              "         9.70308184e-03, -7.13863988e-02,  4.54716397e-03,  1.18427759e-02,\n",
              "        -2.11199967e-02,  3.18622156e-02, -1.63164014e-02, -3.24529737e-02,\n",
              "         4.37342861e-02, -3.78095684e-02,  1.86286306e-02,  2.69229223e-03,\n",
              "         2.14396691e-02,  1.17816747e-02, -5.50603189e-02,  9.02232381e-02,\n",
              "        -1.10554152e-02,  6.96076114e-02, -3.59170980e-04, -8.54854431e-02,\n",
              "         2.38724807e-02, -1.18658422e-02,  1.55216487e-02, -4.64856215e-02,\n",
              "         1.54021782e-02,  4.59409920e-02, -7.00583745e-03, -9.85965088e-03,\n",
              "         1.86349052e-02, -1.05288633e-01,  8.27466184e-02,  4.83774304e-02,\n",
              "        -3.58580856e-02,  2.68603933e-02, -2.35119382e-02, -5.32224929e-02,\n",
              "         1.73202600e-02, -9.88007502e-03, -5.01683431e-02, -8.36687435e-02,\n",
              "        -7.00528077e-03, -2.04279578e-02,  1.16522385e-02, -5.18465333e-02,\n",
              "        -6.27817171e-03,  5.48246802e-02,  1.19882663e-02, -8.48006199e-03,\n",
              "         8.31990838e-02,  1.67687833e-02, -6.43358575e-03, -1.61078488e-03,\n",
              "        -5.10406348e-02,  7.48831860e-03, -1.79666800e-02, -4.72148154e-03,\n",
              "        -4.77071631e-02, -6.42593900e-03, -2.65007855e-02, -1.56091683e-03,\n",
              "         2.46589754e-02, -5.08178341e-02, -3.90081867e-02,  3.73261382e-02,\n",
              "         7.23966426e-03,  1.19159520e-02, -3.35996010e-02, -4.51121617e-03,\n",
              "         6.21449802e-02, -1.94494271e-02, -6.82840663e-03, -1.28916238e-02,\n",
              "        -2.75583774e-02,  5.66528792e-02, -4.44843653e-03, -1.55079753e-02,\n",
              "         1.20888761e-03, -2.18536775e-02,  2.41264537e-02, -7.94225401e-02,\n",
              "         1.01060582e-02,  2.33663825e-02, -5.49531463e-02,  2.20219980e-02,\n",
              "         1.00164283e-02,  9.91685987e-03,  1.61571047e-02, -2.08067179e-02,\n",
              "         1.75525224e-02,  7.04491706e-02,  6.96037440e-03, -8.59374408e-02,\n",
              "         1.06483983e-02, -2.82675848e-02,  3.06901370e-02, -5.30926196e-02,\n",
              "        -1.85457365e-02, -4.02618999e-02,  2.11654526e-02,  2.95090333e-02,\n",
              "        -8.14386077e-03,  1.83822531e-02,  1.95593605e-02, -4.92136258e-02,\n",
              "         4.32258347e-02,  7.70773164e-02, -2.24104389e-02,  1.04097148e-02,\n",
              "        -2.72318980e-03,  1.76862152e-03, -3.00843051e-02,  4.29961512e-02,\n",
              "         4.37200104e-03, -6.24169071e-03, -2.40697957e-04,  1.99539081e-02,\n",
              "        -2.99131235e-02, -3.68331224e-03,  7.22693455e-03,  9.17720310e-03,\n",
              "        -1.43581612e-02, -9.24194095e-03, -5.45570985e-02, -4.10306682e-02,\n",
              "        -3.16501067e-02, -1.71344922e-02, -7.74857036e-02,  3.98889308e-02,\n",
              "         3.92400007e-02,  4.89651827e-02, -3.32331853e-02, -5.65664194e-02,\n",
              "         6.67851831e-03,  4.35419645e-02, -3.84039087e-02,  1.01541480e-02,\n",
              "        -7.91413540e-02, -2.17973200e-02, -2.68384276e-02,  1.92214165e-02,\n",
              "        -4.08066011e-02, -3.56132661e-02,  1.40900006e-02,  7.67123695e-03,\n",
              "         2.96753026e-02, -6.88452391e-02, -5.62895773e-02,  5.66739490e-02,\n",
              "        -5.05102888e-02, -8.89974064e-04, -5.59894514e-03,  3.30651600e-03,\n",
              "         5.74173043e-03, -2.65550324e-02, -8.71542014e-03,  3.14341265e-02,\n",
              "         8.31301576e-02,  3.83947177e-02, -5.80664339e-02,  1.91830983e-02,\n",
              "        -9.72656434e-03,  2.84389309e-02, -2.88113795e-02, -8.97635668e-03,\n",
              "        -1.03424096e-01, -5.82229697e-02, -3.71198843e-02,  2.77004018e-02,\n",
              "        -4.58898591e-02, -3.03985473e-02, -3.97217834e-02, -3.05081474e-02,\n",
              "        -1.99511466e-02,  1.57393973e-03,  2.96765718e-02, -2.38649481e-02,\n",
              "         6.36768498e-02, -1.22875037e-03, -4.43689747e-03,  4.13774336e-02,\n",
              "        -1.39236642e-02, -8.68390251e-02, -2.58455811e-03,  4.46627715e-03,\n",
              "        -5.82401306e-02, -2.08486697e-02,  1.13247185e-02,  6.06763425e-02,\n",
              "         1.33253147e-03,  2.18934904e-02, -1.19637749e-02,  1.75777498e-02,\n",
              "         6.79513591e-04,  1.07108954e-02,  2.80060877e-03, -3.59482682e-02,\n",
              "        -4.31633257e-02, -1.02626074e-02,  2.44844622e-02,  3.71808613e-02,\n",
              "        -1.03365692e-02, -2.67699878e-02,  4.80041476e-02, -3.42033891e-02,\n",
              "        -1.47484190e-02, -6.31403643e-03, -2.85053540e-03,  2.85251262e-02,\n",
              "        -4.56100217e-02,  6.56824107e-02, -4.99707417e-02,  1.43794463e-02,\n",
              "         4.67670910e-02, -4.89660245e-04, -2.48310248e-03, -2.79723800e-02,\n",
              "         4.64573368e-02,  2.16732553e-02,  2.32663447e-03,  2.64314944e-03,\n",
              "         3.54241414e-02, -2.63334775e-02, -3.40393391e-02,  2.26246314e-02,\n",
              "        -3.29127471e-02,  1.83763120e-02, -2.76673914e-02,  1.67043681e-02,\n",
              "        -2.11903105e-03, -4.67849353e-02, -3.09457896e-02,  1.57106985e-02,\n",
              "         3.76085085e-02,  1.54579664e-02,  1.97118635e-02,  1.57631029e-03,\n",
              "        -1.22322908e-02, -2.53605238e-02, -2.25296858e-04,  4.61902231e-02,\n",
              "        -2.17664082e-02,  4.18655549e-02,  2.54601990e-02,  1.94760039e-02,\n",
              "         3.61545766e-03, -5.26899126e-02, -2.76860209e-02, -1.58558883e-03,\n",
              "        -4.06396938e-02,  1.00567629e-02,  2.74280768e-03,  1.68398546e-02,\n",
              "        -5.30066970e-02, -2.06626660e-02,  5.45209244e-02,  6.41878532e-03,\n",
              "        -9.98017034e-02, -1.35257605e-02, -4.31470223e-02, -5.65754232e-04,\n",
              "         1.66719900e-02, -1.44020592e-03, -5.04017223e-02,  1.46569488e-02,\n",
              "         1.62229900e-02, -6.69766253e-03,  4.08515541e-02,  4.09313274e-02,\n",
              "        -3.73268112e-02,  4.28442072e-02,  5.09043614e-02, -2.72813788e-02,\n",
              "         1.05714574e-02, -5.72397090e-02, -4.08597940e-03, -3.73174462e-02,\n",
              "        -2.69821596e-02, -8.64286970e-03,  4.97415681e-03,  2.60291926e-02,\n",
              "         2.02146431e-02,  3.27638123e-02,  1.69829697e-02,  6.40400229e-02,\n",
              "         7.22790924e-02, -8.39576827e-02,  1.35375606e-02, -2.75510795e-02,\n",
              "         7.74756679e-03, -1.80743280e-03, -1.54640706e-02,  3.39814989e-02,\n",
              "         3.49561818e-02, -8.31111109e-03,  1.79064366e-02,  5.99851037e-03,\n",
              "         3.73062744e-02,  2.04434578e-02, -1.97321106e-02, -5.37719458e-02,\n",
              "        -1.82258537e-02, -4.51104321e-02, -1.13639063e-02,  1.65959060e-02,\n",
              "        -8.44855483e-03, -3.83256120e-02, -1.44152943e-04,  3.91624718e-03,\n",
              "         1.46755543e-02, -5.16373086e-02,  1.74723262e-02, -1.45753225e-02,\n",
              "         9.66189076e-02, -1.15246964e-02, -3.20239708e-02, -3.09500072e-02,\n",
              "         7.30977441e-03, -2.88821719e-02,  1.53194537e-02,  6.28807675e-03,\n",
              "        -6.23698308e-02,  4.86299762e-02, -1.08245847e-03, -3.68169356e-02,\n",
              "        -4.56225712e-03,  1.29731462e-02,  1.96382026e-02, -2.81055475e-02,\n",
              "         2.30233012e-02, -9.49345420e-04, -1.70952134e-02, -4.41117457e-02,\n",
              "        -4.53481537e-03, -5.33101253e-03, -3.14838251e-02, -7.10583994e-02,\n",
              "         3.05311468e-02,  3.72614697e-03,  3.28105831e-03,  1.47180373e-02,\n",
              "         5.70475504e-02, -4.66180106e-02, -2.49352629e-04, -7.46031103e-02,\n",
              "         2.04389945e-02,  3.43774593e-02, -6.52767620e-02,  4.69905279e-02,\n",
              "         2.13834708e-02, -3.86032821e-03,  2.17594683e-02,  1.84601583e-03,\n",
              "        -1.03730341e-02, -7.58223124e-03, -7.25037241e-03,  2.58011568e-02,\n",
              "         7.26360672e-03, -2.59094673e-02, -1.76260890e-02, -2.29746219e-02,\n",
              "        -4.27685721e-03, -6.98569435e-03,  6.55514936e-02,  1.07395919e-03,\n",
              "         4.23430043e-02, -1.66257690e-02,  1.24657658e-02, -1.33581227e-02]),\n",
              " 'text': 'Artificial intelligence was founded as an academic discipline in 1956.',\n",
              " 'subject': 'history'}"
            ]
          },
          "metadata": {},
          "execution_count": 16
        }
      ]
    },
    {
      "cell_type": "markdown",
      "id": "d118f4fea6418e94",
      "metadata": {
        "collapsed": false,
        "jupyter": {
          "outputs_hidden": false
        },
        "id": "d118f4fea6418e94"
      },
      "source": [
        "## [Alternatively] Use fake representation with random vectors\n",
        "If you couldn't download the model due to network issues, as a walkaround, you can use random vectors to represent the text and still finish the example. Just note that the search result won't reflect semantic similarity as the vectors are fake ones."
      ]
    },
    {
      "cell_type": "code",
      "execution_count": 17,
      "id": "8d41beeb9dfb3f84",
      "metadata": {
        "ExecuteTime": {
          "end_time": "2024-05-22T07:53:05.724689Z",
          "start_time": "2024-05-22T07:53:05.718610Z"
        },
        "jupyter": {
          "outputs_hidden": false
        },
        "id": "8d41beeb9dfb3f84"
      },
      "outputs": [],
      "source": [
        "# import random\n",
        "\n",
        "# # Text strings to search from.\n",
        "# docs = [\n",
        "#     \"Artificial intelligence was founded as an academic discipline in 1956.\",\n",
        "#     \"Alan Turing was the first person to conduct substantial research in AI.\",\n",
        "#     \"Born in Maida Vale, London, Turing was raised in southern England.\",\n",
        "# ]\n",
        "# # Use fake representation with random vectors (768 dimension).\n",
        "# vectors = [[random.uniform(-1, 1) for _ in range(768)] for _ in docs]\n",
        "# data = [\n",
        "#     {\"id\": i, \"vector\": vectors[i], \"text\": docs[i], \"subject\": \"history\"}\n",
        "#     for i in range(len(vectors))\n",
        "# ]\n",
        "\n",
        "# print(\"Data has\", len(data), \"entities, each with fields: \", data[0].keys())\n",
        "# print(\"Vector dim:\", len(data[0][\"vector\"]))"
      ]
    },
    {
      "cell_type": "markdown",
      "id": "b65418003fe51a1d",
      "metadata": {
        "collapsed": false,
        "jupyter": {
          "outputs_hidden": false
        },
        "id": "b65418003fe51a1d"
      },
      "source": [
        "## Insert Data\n",
        "Let's insert the data into the collection:"
      ]
    },
    {
      "cell_type": "code",
      "execution_count": 18,
      "id": "49e17b12831018f3",
      "metadata": {
        "ExecuteTime": {
          "end_time": "2024-05-22T07:53:57.061772Z",
          "start_time": "2024-05-22T07:53:56.995602Z"
        },
        "jupyter": {
          "outputs_hidden": false
        },
        "id": "49e17b12831018f3",
        "outputId": "e75c3614-406e-400c-e990-3112b9d91439",
        "colab": {
          "base_uri": "https://localhost:8080/"
        }
      },
      "outputs": [
        {
          "output_type": "stream",
          "name": "stdout",
          "text": [
            "{'insert_count': 3, 'ids': [0, 1, 2]}\n"
          ]
        }
      ],
      "source": [
        "res = client.insert(collection_name=\"demo_collection\", data=data)\n",
        "\n",
        "print(res)"
      ]
    },
    {
      "cell_type": "markdown",
      "id": "cc955d6f66fa7b26",
      "metadata": {
        "collapsed": false,
        "jupyter": {
          "outputs_hidden": false
        },
        "id": "cc955d6f66fa7b26"
      },
      "source": [
        "## Semantic Search\n",
        "Now we can do semantic searches by representing the search query text as vector, and conduct vector similarity search on Milvus."
      ]
    },
    {
      "cell_type": "markdown",
      "id": "9c51c7dc6c1bec2f",
      "metadata": {
        "collapsed": false,
        "jupyter": {
          "outputs_hidden": false
        },
        "id": "9c51c7dc6c1bec2f"
      },
      "source": [
        "### Vector search\n",
        "Milvus accepts one or multiple vector search requests at the same time. The value of the query_vectors variable is a list of vectors, where each vector is an array of float numbers."
      ]
    },
    {
      "cell_type": "code",
      "source": [
        "[(i['id'],i['text'],i['subject']) for i in data]"
      ],
      "metadata": {
        "colab": {
          "base_uri": "https://localhost:8080/"
        },
        "id": "mPfa6I7Yy7sD",
        "outputId": "6e4df259-a344-4e1c-b7ef-4f531a0eb778"
      },
      "id": "mPfa6I7Yy7sD",
      "execution_count": 25,
      "outputs": [
        {
          "output_type": "execute_result",
          "data": {
            "text/plain": [
              "[(0,\n",
              "  'Artificial intelligence was founded as an academic discipline in 1956.',\n",
              "  'history'),\n",
              " (1,\n",
              "  'Alan Turing was the first person to conduct substantial research in AI.',\n",
              "  'history'),\n",
              " (2,\n",
              "  'Born in Maida Vale, London, Turing was raised in southern England.',\n",
              "  'history')]"
            ]
          },
          "metadata": {},
          "execution_count": 25
        }
      ]
    },
    {
      "cell_type": "code",
      "execution_count": 30,
      "id": "9331e044d109d8a9",
      "metadata": {
        "ExecuteTime": {
          "end_time": "2024-05-22T07:54:09.960354Z",
          "start_time": "2024-05-22T07:54:01.056095Z"
        },
        "jupyter": {
          "outputs_hidden": false
        },
        "id": "9331e044d109d8a9",
        "outputId": "5ffcddec-f474-4283-8efb-4e0893fd8725",
        "colab": {
          "base_uri": "https://localhost:8080/",
          "height": 69
        }
      },
      "outputs": [
        {
          "output_type": "display_data",
          "data": {
            "text/plain": [
              "data: [\"[{'id': 2, 'distance': 0.5859944820404053, 'entity': {'text': 'Born in Maida Vale, London, Turing was raised in southern England.', 'subject': 'history', 'id': 2}}, {'id': 1, 'distance': 0.5118255019187927, 'entity': {'text': 'Alan Turing was the first person to conduct substantial research in AI.', 'subject': 'history', 'id': 1}}]\"] "
            ]
          },
          "metadata": {}
        }
      ],
      "source": [
        "query_vectors = embedding_fn.encode_queries([\"Who is Alan Turing?\"])\n",
        "# If you don't have the embedding function you can use a fake vector to finish the demo:\n",
        "# query_vectors = [ [ random.uniform(-1, 1) for _ in range(768) ] ]\n",
        "\n",
        "res = client.search(\n",
        "    collection_name=\"demo_collection\",  # target collection\n",
        "    data=query_vectors,  # query vectors\n",
        "    limit=2,  # number of returned entities\n",
        "    output_fields=[\"id\",\"text\", \"subject\"],  # specifies fields to be returned\n",
        ")\n",
        "\n",
        "\n",
        "display(res)\n",
        "\n"
      ]
    },
    {
      "cell_type": "code",
      "source": [
        "query_vectors = embedding_fn.encode_queries([\"what is Artificial intelligence?\"])\n",
        "# If you don't have the embedding function you can use a fake vector to finish the demo:\n",
        "# query_vectors = [ [ random.uniform(-1, 1) for _ in range(768) ] ]\n",
        "\n",
        "res = client.search(\n",
        "    collection_name=\"demo_collection\",  # target collection\n",
        "    data=query_vectors,  # query vectors\n",
        "    limit=2,  # number of returned entities\n",
        "    output_fields=[\"id\",\"text\", \"subject\"],  # specifies fields to be returned\n",
        ")\n",
        "\n",
        "\n",
        "display(res)\n",
        "\n"
      ],
      "metadata": {
        "colab": {
          "base_uri": "https://localhost:8080/",
          "height": 69
        },
        "id": "DZ8rHErF0cQ6",
        "outputId": "34f0d567-017e-4a77-d0bc-f925a0cd1e45"
      },
      "id": "DZ8rHErF0cQ6",
      "execution_count": 33,
      "outputs": [
        {
          "output_type": "display_data",
          "data": {
            "text/plain": [
              "data: [\"[{'id': 0, 'distance': 0.5212745666503906, 'entity': {'text': 'Artificial intelligence was founded as an academic discipline in 1956.', 'subject': 'history', 'id': 0}}, {'id': 1, 'distance': 0.3195878863334656, 'entity': {'text': 'Alan Turing was the first person to conduct substantial research in AI.', 'subject': 'history', 'id': 1}}]\"] "
            ]
          },
          "metadata": {}
        }
      ]
    },
    {
      "cell_type": "markdown",
      "id": "aa7edf57d1b67710",
      "metadata": {
        "collapsed": false,
        "jupyter": {
          "outputs_hidden": false
        },
        "id": "aa7edf57d1b67710"
      },
      "source": [
        "The output is a list of results, each mapping to a vector search query. Each query contains a list of results, where each result contains the entity primary key, the distance to the query vector, and the entity details with specified `output_fields`."
      ]
    },
    {
      "cell_type": "markdown",
      "id": "229fc50d34ca6130",
      "metadata": {
        "collapsed": false,
        "jupyter": {
          "outputs_hidden": false
        },
        "id": "229fc50d34ca6130"
      },
      "source": [
        "## Vector Search with Metadata Filtering\n",
        "You can also conduct vector search while considering the values of the metadata (called \"scalar\" fields in Milvus, as scalar refers to non-vector data). This is done with a filter expression specifying certain criteria. Let's see how to search and filter with the `subject` field in the following example."
      ]
    },
    {
      "cell_type": "code",
      "execution_count": 34,
      "id": "a8bf39cbc3ee9d13",
      "metadata": {
        "ExecuteTime": {
          "end_time": "2024-05-22T07:54:18.582486Z",
          "start_time": "2024-05-22T07:54:17.405245Z"
        },
        "jupyter": {
          "outputs_hidden": false
        },
        "id": "a8bf39cbc3ee9d13",
        "outputId": "5521e31e-14a8-43e8-e7e1-d7977c6cfdb5",
        "colab": {
          "base_uri": "https://localhost:8080/"
        }
      },
      "outputs": [
        {
          "output_type": "stream",
          "name": "stdout",
          "text": [
            "data: [\"[{'id': 4, 'distance': 0.27030572295188904, 'entity': {'text': 'Computational synthesis with AI algorithms predicts molecular properties.', 'subject': 'biology'}}, {'id': 3, 'distance': 0.1642588973045349, 'entity': {'text': 'Machine learning has been used for drug design.', 'subject': 'biology'}}]\"] \n"
          ]
        }
      ],
      "source": [
        "# Insert more docs in another subject.\n",
        "docs = [\n",
        "    \"Machine learning has been used for drug design.\",\n",
        "    \"Computational synthesis with AI algorithms predicts molecular properties.\",\n",
        "    \"DDR1 is involved in cancers and fibrosis.\",\n",
        "]\n",
        "vectors = embedding_fn.encode_documents(docs)\n",
        "data = [\n",
        "    {\"id\": 3 + i, \"vector\": vectors[i], \"text\": docs[i], \"subject\": \"biology\"}\n",
        "    for i in range(len(vectors))\n",
        "]\n",
        "\n",
        "client.insert(collection_name=\"demo_collection\", data=data)\n",
        "\n",
        "# This will exclude any text in \"history\" subject despite close to the query vector.\n",
        "res = client.search(\n",
        "    collection_name=\"demo_collection\",\n",
        "    data=embedding_fn.encode_queries([\"tell me AI related information\"]),\n",
        "    filter=\"subject == 'biology'\",\n",
        "    limit=2,\n",
        "    output_fields=[\"text\", \"subject\"],\n",
        ")\n",
        "\n",
        "print(res)"
      ]
    },
    {
      "cell_type": "markdown",
      "id": "25c791ec71c7ec7e",
      "metadata": {
        "collapsed": false,
        "jupyter": {
          "outputs_hidden": false
        },
        "id": "25c791ec71c7ec7e"
      },
      "source": [
        "By default, the scalar fields are not indexed. If you need to perform metadata filtered search in large dataset, you can consider using fixed schema and also turn on the [index](https://milvus.io/docs/scalar_index.md) to improve the search performance.\n",
        "\n",
        "In addition to vector search, you can also perform other types of searches:"
      ]
    },
    {
      "cell_type": "markdown",
      "id": "d45b9796b5a84931",
      "metadata": {
        "collapsed": false,
        "jupyter": {
          "outputs_hidden": false
        },
        "id": "d45b9796b5a84931"
      },
      "source": [
        "### Query\n",
        "A query() is an operation that retrieves all entities matching a cretria, such as a [filter expression](https://milvus.io/docs/boolean.md) or matching some ids.\n",
        "\n",
        "For example, retrieving all entities whose scalar field has a particular value:"
      ]
    },
    {
      "cell_type": "code",
      "execution_count": 35,
      "id": "b1421d2f94b591c5",
      "metadata": {
        "jupyter": {
          "outputs_hidden": false
        },
        "id": "b1421d2f94b591c5"
      },
      "outputs": [],
      "source": [
        "res = client.query(\n",
        "    collection_name=\"demo_collection\",\n",
        "    filter=\"subject == 'history'\",\n",
        "    output_fields=[\"text\", \"subject\"],\n",
        ")"
      ]
    },
    {
      "cell_type": "markdown",
      "id": "d1c5fd1eac35e5d7",
      "metadata": {
        "collapsed": false,
        "jupyter": {
          "outputs_hidden": false
        },
        "id": "d1c5fd1eac35e5d7"
      },
      "source": [
        "Directly retrieve entities by primary key:"
      ]
    },
    {
      "cell_type": "code",
      "execution_count": 36,
      "id": "8f87707ba48df498",
      "metadata": {
        "jupyter": {
          "outputs_hidden": false
        },
        "id": "8f87707ba48df498",
        "colab": {
          "base_uri": "https://localhost:8080/"
        },
        "outputId": "320cd9d7-0d38-4503-c327-beb2f919137a"
      },
      "outputs": [
        {
          "output_type": "execute_result",
          "data": {
            "text/plain": [
              "data: [\"{'id': 0, 'text': 'Artificial intelligence was founded as an academic discipline in 1956.', 'subject': 'history', 'vector': [0.010727894, -0.035895176, 0.018749746, 0.016348809, 0.03651688, 0.0035882127, -0.0004004981, 0.028529339, 0.0022745496, 0.0018362562, 0.004225859, 0.02717393, -0.0036843517, 0.03079148, 0.0045053945, 0.0442281, 0.010503842, -0.029494502, -0.06707345, -0.02052648, 0.015322829, -0.0060049067, -0.0622855, -0.039614785, 0.014206286, 0.032707665, -0.020834554, -0.044174287, -0.028339839, 0.029424427, -0.028087234, -0.020809026, 0.017159794, 0.0021116603, 0.021823755, -0.001577665, -0.037696734, 0.041460764, -0.02505642, 0.083336696, -0.015979158, 0.009813834, -0.026605438, 0.00061898713, 0.0037358247, -0.034155212, 0.058708236, -0.023721864, 0.0067459764, -0.03584181, -0.017560031, 0.022803081, 0.0026646194, 0.02511928, 0.046945184, 0.012622784, 0.018337477, -0.0071655777, 0.042811263, 0.0050310283, 0.05705552, -0.014866053, 0.10045472, 0.0064573605, -0.06832718, -0.016902734, 0.011977218, -0.0015766147, -0.022061639, 0.021156568, 0.04071084, -0.03600993, 0.019723987, -0.047073353, -0.087442085, -0.0046350053, 0.030835053, 0.10515199, 0.016166978, -0.008001137, 0.033673923, 0.015985558, 0.03438022, 0.01834291, 0.0777001, 0.02650154, -0.052214287, -0.09021926, -0.012340444, 0.05302757, -0.0011275421, -0.005958893, 0.047962528, -0.00796566, -0.028406044, 0.02852731, 0.067544736, -0.028825581, -0.034105226, 0.08487623, -0.007664788, -0.06363438, -0.06831104, -0.033039104, -0.002765511, 0.0015892504, 0.013780075, -0.018580519, -0.008844613, -0.053225037, -0.014389193, 0.008077421, -0.031215204, 0.018773323, 0.04937637, 0.07315665, -0.041901734, 0.06690276, 0.008933795, 0.045684587, 0.032135222, -0.0035595205, -0.046143197, 0.009210222, 0.06779029, 0.01337486, 0.010454049, 0.03719906, 0.015420819, 0.00878668, -0.033349376, 0.015551763, 0.05987698, 0.02897826, 0.046533074, -0.0051459074, 0.0045556845, -0.0018195718, 0.010539259, -0.019132169, 0.0116216075, 0.014161869, 0.0034369507, 0.0057789637, 0.035289373, 0.054262992, -0.051606055, -0.042924497, -0.015439735, 0.014695543, 0.012905061, -0.006806453, 0.05433569, 0.0035228806, -0.025712833, 0.0006317994, 0.016166896, -0.0069687953, -0.042992007, 0.020684378, 0.008367321, -0.02704684, 0.08865566, -0.052853346, -0.012384356, -0.041823797, 0.028680995, 0.051269848, 0.0606863, 0.023955012, 0.015168794, 0.07542115, 0.033699322, 0.04306795, 0.042949405, -0.010862258, -0.02362564, -0.06973062, -0.07056771, -0.020257926, 0.015855886, -0.03365138, -0.048190977, 0.056760717, 0.018719777, -0.0074206614, 0.007484566, 0.004210265, -0.010225762, 0.030543696, 0.03115236, -0.018680176, 0.05074322, 0.0009910323, -0.007215593, -0.009345567, 0.05457324, 0.032344252, 0.044765487, -0.07086166, 0.009228117, 0.006700527, -0.08809641, -0.022578117, 0.024984792, 0.060831085, 0.019521935, -0.074802615, 0.033076182, 0.004304986, 0.028265528, 0.036641285, 0.02916349, -0.007841018, 0.01626494, -0.011263691, -0.0017616351, -0.012803478, 0.020408474, 0.019711098, -0.0017434914, -0.03237056, -0.0155003695, 9.199228e-05, -0.029747186, -0.00398164, 0.007836241, 0.06148324, -0.06592361, -0.007985817, 0.06693117, 0.009926552, -0.0034373095, -0.036024135, -0.027951488, -0.04650123, -0.06412068, 0.03642691, 0.0825344, 0.0585784, -0.05032693, -0.0045528, 0.0057323873, 0.032517146, 0.004037023, -0.04214021, -0.030833207, -0.031996872, -0.037709747, 0.028296985, 0.018784646, 0.032598805, 0.008394976, 0.026254566, -0.01505602, -0.0087437425, 0.015322123, 0.036640234, -0.033632327, -0.022526558, 0.032640044, -0.019599868, -0.039372742, 0.054028872, -0.062149182, 0.004090776, 0.04435548, -0.0014420553, 0.014154516, 0.040782686, -0.032073244, 0.018714247, -0.007142502, -0.016126854, 0.018809833, 0.0249412, -0.0033121938, -0.030162675, -0.06936108, -0.02919379, -0.012788968, -0.014814663, -0.021107193, 0.0019980827, -0.03582991, 0.003942369, -0.06656848, 0.032609105, 0.020936666, -0.016428767, -0.04337574, 0.022506664, 0.037569806, 0.021610018, -0.010074206, -0.029767904, 0.03609145, -0.048857637, -0.06734756, -0.0028609897, 0.047057647, 0.06384801, 0.033374675, 0.028490296, 0.08580723, 0.027610075, -0.011656835, 0.042823263, 0.007727517, 0.055311404, 0.023568552, -0.05228898, -0.021390522, 0.022336492, -0.021049475, 0.117133565, -0.008431837, -0.009812999, 0.02247549, -0.015468915, 0.042983897, 0.0021705688, 0.041067388, 0.034534823, 0.022164008, -0.014718475, 0.009893878, -0.007470297, 0.043819137, 0.079693526, -0.008172728, 0.021132372, -0.011528283, 0.013240913, 0.022433778, 0.0009229477, 0.028354531, 0.02550462, 0.052205916, -0.05121987, -0.118383616, 0.015328722, -0.0911267, -0.0065619973, 0.028712658, -0.0023049957, -0.062731646, -0.062445957, -0.00022496837, -0.05743232, 0.045935422, -0.0036514425, 0.051867865, 0.040445335, -0.013785118, -0.042955928, -0.027023299, 0.02237699, -0.0025893212, 0.012199819, -0.065920085, -0.023238108, -0.06538677, -0.009300264, -0.06410405, -0.0012813819, -0.03778861, -0.02580196, -0.014350014, -0.027356563, -0.0059369477, -0.017061656, -0.0029574938, 0.05720172, -0.036152273, -0.003929681, -0.013378801, 0.0027767683, 0.02848731, -0.03197658, -0.015682403, 0.042555433, 0.0024153523, -0.040182058, -0.046252172, 0.017401742, -0.0031100095, -0.03788644, -0.03008895, 0.02187415, -0.05034511, 0.074992634, 0.006069072, 0.00016538241, -0.002204449, 0.04039776, 0.044864092, 0.04483857, 0.016728014, 0.019455114, 0.009703082, -0.0713864, 0.004547164, 0.011842776, -0.021119997, 0.031862214, -0.0163164, -0.032452974, 0.043734286, -0.03780957, 0.01862863, 0.0026922922, 0.02143967, 0.011781675, -0.05506032, 0.09022324, -0.0110554155, 0.06960761, -0.00035917098, -0.08548544, 0.02387248, -0.011865842, 0.015521648, -0.04648562, 0.015402178, 0.04594099, -0.0070058373, -0.009859651, 0.018634906, -0.10528863, 0.08274662, 0.048377432, -0.035858087, 0.026860394, -0.023511939, -0.053222492, 0.01732026, -0.009880075, -0.050168343, -0.083668746, -0.007005281, -0.020427957, 0.011652239, -0.051846534, -0.0062781717, 0.05482468, 0.011988266, -0.008480062, 0.083199084, 0.016768783, -0.0064335857, -0.0016107849, -0.051040635, 0.0074883187, -0.01796668, -0.0047214814, -0.047707163, -0.006425939, -0.026500786, -0.0015609168, 0.024658976, -0.050817832, -0.039008185, 0.03732614, 0.0072396644, 0.011915952, -0.0335996, -0.004511216, 0.06214498, -0.019449428, -0.006828407, -0.012891624, -0.027558377, 0.056652877, -0.0044484367, -0.015507976, 0.0012088877, -0.021853678, 0.024126453, -0.07942254, 0.010106058, 0.023366382, -0.054953147, 0.022021998, 0.010016428, 0.00991686, 0.016157106, -0.020806719, 0.017552523, 0.07044917, 0.0069603743, -0.08593744, 0.010648399, -0.028267585, 0.030690137, -0.05309262, -0.018545736, -0.0402619, 0.021165453, 0.029509034, -0.008143861, 0.018382253, 0.019559361, -0.049213625, 0.043225836, 0.077077314, -0.02241044, 0.010409715, -0.0027231898, 0.0017686215, -0.030084305, 0.04299615, 0.004372001, -0.006241691, -0.00024069796, 0.019953908, -0.029913124, -0.0036833123, 0.0072269347, 0.009177203, -0.014358161, -0.009241941, -0.0545571, -0.041030668, -0.031650107, -0.017134491, -0.0774857, 0.03988893, 0.03924, 0.048965182, -0.033233184, -0.05656642, 0.0066785184, 0.043541964, -0.03840391, 0.010154148, -0.079141356, -0.02179732, -0.026838427, 0.019221416, -0.040806603, -0.035613265, 0.014090001, 0.007671237, 0.029675303, -0.06884524, -0.056289576, 0.056673948, -0.050510287, -0.00088997406, -0.005598945, 0.003306516, 0.0057417303, -0.026555032, -0.00871542, 0.031434126, 0.08313016, 0.03839472, -0.058066435, 0.019183097, -0.009726564, 0.028438931, -0.02881138, -0.008976357, -0.103424095, -0.058222968, -0.037119884, 0.027700402, -0.04588986, -0.030398548, -0.039721783, -0.030508148, -0.019951146, 0.0015739397, 0.029676571, -0.023864947, 0.06367685, -0.0012287503, -0.0044368976, 0.041377433, -0.013923665, -0.08683903, -0.0025845582, 0.004466277, -0.05824013, -0.02084867, 0.011324719, 0.060676344, 0.0013325315, 0.02189349, -0.011963774, 0.01757775, 0.0006795136, 0.010710895, 0.0028006088, -0.03594827, -0.043163326, -0.010262608, 0.024484463, 0.03718086, -0.0103365695, -0.026769988, 0.048004147, -0.034203388, -0.014748419, -0.0063140364, -0.0028505353, 0.028525125, -0.04561002, 0.06568241, -0.049970742, 0.014379446, 0.04676709, -0.00048966025, -0.0024831025, -0.02797238, 0.046457335, 0.021673255, 0.0023266345, 0.0026431493, 0.035424143, -0.026333477, -0.03403934, 0.02262463, -0.032912746, 0.018376311, -0.027667392, 0.016704367, -0.002119031, -0.046784934, -0.03094579, 0.015710698, 0.037608508, 0.015457966, 0.019711863, 0.0015763103, -0.012232291, -0.025360525, -0.00022529686, 0.046190225, -0.021766407, 0.041865554, 0.025460199, 0.019476004, 0.0036154576, -0.052689914, -0.02768602, -0.0015855888, -0.040639695, 0.010056763, 0.0027428076, 0.016839854, -0.053006697, -0.020662665, 0.054520924, 0.0064187855, -0.099801704, -0.013525761, -0.043147024, -0.00056575425, 0.01667199, -0.001440206, -0.05040172, 0.014656949, 0.01622299, -0.0066976626, 0.040851556, 0.04093133, -0.037326813, 0.042844206, 0.05090436, -0.02728138, 0.010571457, -0.057239708, -0.0040859794, -0.037317447, -0.02698216, -0.00864287, 0.0049741566, 0.026029192, 0.020214643, 0.032763813, 0.016982969, 0.06404002, 0.072279096, -0.08395768, 0.013537561, -0.02755108, 0.007747567, -0.0018074329, -0.01546407, 0.0339815, 0.034956183, -0.0083111115, 0.017906437, 0.0059985104, 0.037306275, 0.020443458, -0.01973211, -0.053771947, -0.018225854, -0.04511043, -0.011363906, 0.016595906, -0.008448555, -0.03832561, -0.00014415295, 0.0039162473, 0.014675554, -0.051637307, 0.017472327, -0.014575322, 0.096618906, -0.011524697, -0.03202397, -0.030950008, 0.0073097744, -0.028882172, 0.015319454, 0.0062880768, -0.06236983, 0.048629977, -0.0010824584, -0.036816936, -0.0045622573, 0.0129731465, 0.019638203, -0.028105548, 0.023023302, -0.0009493454, -0.017095214, -0.044111747, -0.0045348154, -0.0053310124, -0.031483825, -0.0710584, 0.030531147, 0.0037261469, 0.0032810583, 0.014718037, 0.05704755, -0.04661801, -0.00024935263, -0.07460311, 0.020438995, 0.03437746, -0.065276764, 0.04699053, 0.02138347, -0.003860328, 0.021759469, 0.0018460158, -0.0103730345, -0.0075822314, -0.0072503723, 0.025801158, 0.007263607, -0.025909467, -0.017626088, -0.022974622, -0.0042768572, -0.006985694, 0.0655515, 0.0010739592, 0.042343006, -0.01662577, 0.012465766, -0.013358123]}\", \"{'id': 2, 'text': 'Born in Maida Vale, London, Turing was raised in southern England.', 'subject': 'history', 'vector': [0.01928132, -0.028283134, -0.076756634, -0.017908158, 0.011845605, 0.054446023, 0.037965704, 0.057670522, 0.019603444, 0.001864883, -0.057416752, 0.021919288, -0.06079969, -0.037110284, -0.066613905, -0.0140132895, -0.0108436635, 0.0207526, -0.0052934373, 0.050541706, -0.035528608, -0.062134042, -0.0028828066, 0.007493747, 0.03822024, 0.009055198, -0.027246848, -0.01546384, -0.0024796815, 0.006007196, -0.016478654, -0.024107838, 0.009196095, 0.020115701, 0.021710597, -0.016634654, -0.029107507, -0.0066517536, 0.02190223, -0.004241811, -0.040101722, -0.010728994, -0.045173768, -0.0127574615, -0.016636854, -0.023162402, 0.013965435, 0.011016185, 0.014364127, 0.009491451, -0.026133534, -0.01771155, 0.00021035665, 0.004241989, -0.041517146, 0.018948393, -0.0030209776, -0.057330072, 0.019971834, -0.00059102767, -0.0038510258, 0.012202597, 0.00370682, -0.042360466, 0.058113772, -0.021250904, -0.008751346, -0.021307103, -0.017953329, 0.022048205, -0.0043379776, 0.06171638, -0.052218072, 0.01808729, -0.006340968, -0.034124732, -0.010159057, 0.08677441, -0.0697241, -0.056788474, 0.00018726924, -0.041030698, -0.04143924, 0.044522174, -0.025784412, -0.03702454, 0.002814293, -0.023263095, 0.0071519865, 0.016516551, -0.035700772, -0.0067627067, 0.0401162, 0.023779785, -0.037065245, 0.01716639, -0.0051541124, 0.044314835, -0.017476855, 0.0257309, -0.0007174209, -0.07070816, 0.023777891, 0.027851729, 0.007520131, -0.006730819, 0.030355124, 0.032252382, 0.04862772, 0.031450197, -0.004308816, 0.0474947, -0.05638126, 0.04505874, 0.054217316, -0.022450186, -0.023444965, 0.016400503, -0.100387625, -0.011314838, 0.030737503, 0.06998733, 0.007253895, 0.013823638, 0.009824805, 0.026957802, 0.016245192, 0.07178876, -0.038917065, -0.043909315, 0.016177883, 0.0352427, 0.063234925, 0.0032881736, 0.042217646, -0.0181308, 0.033415332, -0.016487902, -0.017070726, 0.04443124, 0.01268763, -0.026999243, 0.05391019, 0.03129961, 0.009924147, 0.049643546, -0.03330342, 0.021308495, 0.024575064, 0.0010056116, 0.014374934, 0.022674453, 0.03301133, 0.013506835, 0.0061712395, -0.07136216, 0.011003013, 0.0063664, 0.06173381, -0.0203297, 0.012794093, 0.052048232, 0.02007257, -0.0023672918, 0.014110045, -0.06598979, 0.008995854, -0.009364199, 0.013119163, -0.044613525, -0.0037816619, -0.010297596, 0.0390968, 0.030267406, -0.014214508, 0.021846127, -0.031738203, -0.090121865, -0.07074508, -0.013102654, -0.025164347, 0.042046953, 0.014155792, 0.0032734256, -0.003768719, -0.0246397, -0.026024584, -0.039417904, 0.045451533, -0.012366024, -0.008559595, 0.01358203, 0.038957626, 0.020395854, -0.06879367, 0.027147204, -0.012379973, -0.04164032, 0.022121843, -0.03440914, -0.028521638, -0.011365882, -0.010214699, -0.06331988, 0.007565643, -0.016511742, -0.077616654, -0.020514032, -0.05963874, 0.025096413, 0.018933205, 0.029662214, 0.037923604, 0.0040797624, -0.04151374, -0.04701485, -0.04185049, 0.050889734, 0.060534652, -0.017094668, -0.043227136, -0.012025339, -0.020766826, 0.002923822, -0.017963866, 0.02701654, 0.0571223, 0.03504643, -0.06014493, -0.009496869, 0.019804869, 0.06834456, -0.0375001, 0.0007730762, 0.030533422, 0.041223243, -0.03768708, 0.0037212663, 0.0057614814, -0.007742856, -0.0005202383, -0.006998176, 0.027690075, -0.004430184, -0.038880683, 0.02853508, -0.014973757, 0.046119586, -0.02877903, 0.020385886, 0.00963546, -0.08387159, -0.014588059, -0.028878763, 0.07109259, -0.03932675, -0.01436585, 0.033004392, -0.009965328, 0.07141566, -0.0008204623, 0.028451217, -0.019422563, 0.061431322, -0.045484476, -0.0035509686, 0.047535487, 0.011838801, 0.05034515, 0.029790366, 0.0080643445, 0.058105424, -0.031105768, -0.0196517, 0.0198744, 0.025774982, -0.03569162, -0.027814366, -0.030203916, 0.012086186, -0.012683637, -0.0123220505, 0.0078110294, 0.025085913, 0.021967843, 0.05730503, -0.0045646057, -0.059445318, 0.028725358, 0.03785791, -0.046775814, 0.038932495, 0.0011485511, 0.0009734635, -0.030015275, -0.051708803, 0.008896231, -0.019983146, 0.003460193, 0.00016652414, 0.0343437, 0.091479495, 0.033640705, -0.018500697, -0.021546215, -0.0030688262, 0.06652244, -0.04645688, 0.06729327, 0.007386368, -0.01255747, 0.011506484, -0.063269824, 0.03495058, 0.016623676, 0.011610495, 0.054197308, 0.023570627, 0.020201337, 0.032954425, -0.009367009, 0.031756576, -0.03862775, 0.0023692006, -0.0365765, 0.0346634, 0.020835934, 0.06288209, -0.020952495, 0.012533523, -0.01229496, 0.018241772, -0.017522706, -0.038971007, -0.014575268, 0.00049713603, -0.003509416, 0.006997096, 0.009521062, -0.004801555, -0.063236386, 0.004835361, 0.060904782, 0.025174329, -0.012250062, 0.023379032, -0.035775006, -0.014167625, -0.060607664, 0.042122852, 0.0008152978, 0.049050182, -0.0019857127, 0.08047495, 0.0057676206, 0.008000492, 0.00088607275, -0.09224466, -0.0035735911, 0.033174813, 0.03316191, 0.030172845, -0.07336381, 0.032652896, -0.0017743284, 0.008425127, 0.020061085, -0.02199042, -0.016464615, 0.030506331, 0.028185926, 0.03304109, 0.05061035, 0.0040052994, -0.011990773, -0.0014111936, 0.004871683, -0.017679587, 0.011224007, -0.007503262, 0.051549554, 0.033684254, -0.019103296, -0.014495814, -0.04405715, -0.017490767, -0.026463278, 0.022244675, 0.003745219, -0.056957856, 0.037728075, 0.086947665, -0.0314512, 0.0042295814, -0.02328865, 0.015838517, 0.012248901, 0.060716476, 0.047850903, 0.00082756736, 0.016686587, -0.04178582, -0.0131202685, 0.02486086, -0.021316633, -0.0053191343, -0.0024161313, 0.024024565, -0.0004212946, 0.0067559555, -0.022909142, -0.01557383, 0.003376452, -0.04956513, -0.040485818, 0.027869353, -0.032576866, -0.014498764, 0.006967026, 0.0028689418, -0.0089783175, -0.008862131, -0.01886686, 0.020647136, 0.026101653, 0.031148981, -0.013548334, -0.013473518, -0.005498509, -0.014773207, 0.010054698, -0.038752027, -0.098963544, -0.02753012, -0.026578253, 0.028769609, -0.01385797, -0.042473514, 0.095448695, 0.07489469, -0.011750152, -0.0023634285, 0.021629846, -0.010537842, 0.030459778, -0.013420974, 0.056415074, -0.032414448, 0.031780973, -0.0057657976, -0.022319784, -0.017656945, -0.047520682, 0.0315106, 0.037337776, -0.0022690033, -0.046423823, -0.099899314, -0.019410871, -0.05630979, -0.04306377, 0.014738983, 0.0035294967, 0.056083355, 0.041182224, -0.0009944617, 0.019502109, -0.012314956, 0.019051846, -0.0021367897, 0.029047268, 0.08030761, 0.025468566, 0.077044405, -0.021088261, -0.034028877, -0.04600943, 0.01870246, 0.029221503, -0.020849697, -0.026715524, 0.062095176, 0.00908399, 0.07070783, -0.033804093, 0.03254154, 0.0319244, 0.022672303, -0.036467236, -0.040837053, -0.0068595787, -0.11503363, -0.009350499, 0.009014508, 0.0133532155, -0.018204411, 0.028366223, 0.04306139, 0.032721736, 0.07117607, 0.0051602595, -0.009105586, 0.051027544, -0.029728225, 0.028516604, -0.0007249556, -0.0031720172, -0.048314925, -0.08206164, -0.012049668, -0.0005087412, -0.06358256, 0.029505042, 0.02560021, 0.045742396, -0.053212035, -0.0040377905, -0.06075344, -0.022661088, -0.02829125, -0.037066117, 0.0007270349, -0.05083876, 0.017698226, -0.023997832, -0.010647061, -0.015736721, 0.0052898894, 0.010293657, 0.0562834, -0.011544301, 0.00869393, 0.017598242, -0.08910386, -0.053315908, 0.012299874, 0.02929849, 0.046427235, -0.004307049, -0.009139646, 0.028048957, 0.010080027, -0.053101018, -0.03348091, -0.042200856, -0.018348832, -0.036279153, 0.013816288, -0.012592286, -0.011407184, -0.044283368, 0.010275402, 0.041653935, -0.007885807, 0.00081506686, 0.042987183, 0.018986305, -0.005667604, 0.00013609034, -0.029173996, -0.045636702, 0.05806422, 0.0006771087, -0.06999032, 0.018261304, 0.023546092, -0.028502936, -0.03725159, -0.060322244, -0.014855212, -0.027274564, 0.023729775, -0.040057573, 0.0042842305, 0.03432606, -0.014623746, -0.032212246, 0.006515742, -0.011694889, 0.020043185, -0.02779252, 0.02459559, 0.04603971, 0.0017809578, 0.0011758904, -0.050963048, -0.004327321, -0.008237006, 0.10511727, 0.017017456, 0.0025839368, 0.0069668046, 0.029160751, 0.03383504, 0.059127178, -0.036691852, -0.0040119337, -0.020522175, -0.005363784, 0.019748911, -0.017320251, -0.030784337, 0.06435051, -0.010488911, -0.011937983, -0.02660258, -0.03495733, 0.0012405216, -0.023529187, 0.018226761, 0.020290645, -0.01470923, -0.022692394, -0.03473594, -0.017820708, -0.028229916, 0.062015653, 0.013456629, 0.0597704, -0.051213544, -0.012989932, -0.056244362, -0.01582943, -0.030969368, -0.028269107, -0.05636289, -0.010924875, -0.0025288716, -0.022353332, -0.028143212, 0.017062005, -0.02674303, -0.04790178, -0.036730472, 0.068438485, -0.010193703, 0.00041673734, 0.022595916, 0.030753084, 0.019276487, 0.005791039, -0.005679631, 0.038219966, -0.016086983, 0.030691737, 0.004402707, -0.06539907, -0.039117258, 0.010204471, -0.05856692, 0.016563514, -0.0062368438, -0.13897523, -0.020793572, 0.048943117, 0.04077592, 0.030437147, -0.033128146, 0.042349543, 0.008859997, -0.015394097, 0.014986827, -0.013578109, 0.01390319, -0.0008359862, -0.001369733, 0.035542477, 0.008369099, 0.071336396, 0.025898794, -0.0044171857, -0.045489494, -0.019040015, 0.035701778, -0.100682, -0.066066526, -0.014355445, 0.0725289, 0.08530514, 0.042917743, -0.03145694, -0.03311507, -0.0065308223, 0.020159401, -0.005740753, -0.062109582, 0.032814592, 0.015026684, 0.0114084855, -0.08774348, 0.038908567, 0.006028075, -0.030558182, 0.042875804, -0.015549421, -0.07391272, -0.02213909, -0.03187861, -0.009522909, 0.009861278, -0.0115690045, 0.034390263, -0.08049486, 0.01404401, -0.076721095, -0.06714487, -0.010078421, 0.001568861, 0.030545972, -0.007257732, 0.10652495, 0.014890996, 0.015423008, 0.014039594, -0.010565452, 0.007091956, 0.036437277, -0.056037825, 0.061431304, 0.032687943, 0.005349112, -0.022130793, 0.033974133, -0.023533601, 0.024791226, 0.06143407, -0.039910477, -0.010899056, -0.0045481687, -0.0002974845, 0.019341996, 0.00593246, 0.0029546658, -0.070737034, 0.00433369, -0.057347856, 0.040620066, 0.04863906, -0.0076623945, 0.0068910285, 0.033559974, -0.01320542, -0.040718105, -0.04008697, -0.039773602, 0.04704179, -0.003156234, 0.0012057007, -0.018283186, 0.047002643, -0.08620519, -0.005580952, -0.072384015, 0.05291762, 0.03040403, 0.06543513, 0.04979306, 0.043401696, -0.049598154, 0.024344955, 0.019741794, 0.029212015, -0.046416856, 0.0034977535, 0.07581703, -0.058527898, -0.0071373787, -0.041292693]}\"] "
            ]
          },
          "metadata": {},
          "execution_count": 36
        }
      ],
      "source": [
        "res = client.query(\n",
        "    collection_name=\"demo_collection\",\n",
        "    ids=[0, 2],\n",
        "    output_fields=[\"vector\", \"text\", \"subject\"],\n",
        ")\n",
        "res"
      ]
    },
    {
      "cell_type": "markdown",
      "id": "881cb50a42d7f506",
      "metadata": {
        "collapsed": false,
        "jupyter": {
          "outputs_hidden": false
        },
        "id": "881cb50a42d7f506"
      },
      "source": [
        "## Delete Entities\n",
        "If you'd like to purge data, you can delete entities specifying the primary key or delete all entities matching a particular filter expression."
      ]
    },
    {
      "cell_type": "code",
      "execution_count": null,
      "id": "32f93de9bd68aa74",
      "metadata": {
        "ExecuteTime": {
          "end_time": "2024-05-22T07:54:32.290105Z",
          "start_time": "2024-05-22T07:54:32.271384Z"
        },
        "jupyter": {
          "outputs_hidden": false
        },
        "id": "32f93de9bd68aa74",
        "outputId": "5e744440-ef2b-4dd6-a00f-6fef73f5d3bc"
      },
      "outputs": [
        {
          "name": "stdout",
          "output_type": "stream",
          "text": [
            "[0, 2]\n",
            "[3, 4, 5]\n"
          ]
        }
      ],
      "source": [
        "# Delete entities by primary key\n",
        "res = client.delete(collection_name=\"demo_collection\", ids=[0, 2])\n",
        "\n",
        "print(res)\n",
        "\n",
        "# Delete entities by a filter expression\n",
        "res = client.delete(\n",
        "    collection_name=\"demo_collection\",\n",
        "    filter=\"subject == 'biology'\",\n",
        ")\n",
        "\n",
        "print(res)"
      ]
    },
    {
      "cell_type": "markdown",
      "id": "dfba75a81b8a80b1",
      "metadata": {
        "collapsed": false,
        "jupyter": {
          "outputs_hidden": false
        },
        "id": "dfba75a81b8a80b1"
      },
      "source": [
        "## Load Existing Data\n",
        "Since all data of Milvus Lite is stored in a local file, you can load all data into memory even after the program terminates, by creating a `MilvusClient` with the existing file. For example, this will recover the collections from \"milvus_demo.db\" file and continue to write data into it."
      ]
    },
    {
      "cell_type": "code",
      "execution_count": null,
      "id": "8bd995809ec6e25d",
      "metadata": {
        "jupyter": {
          "outputs_hidden": false
        },
        "id": "8bd995809ec6e25d"
      },
      "outputs": [],
      "source": [
        "from pymilvus import MilvusClient\n",
        "\n",
        "client = MilvusClient(\"milvus_demo.db\")"
      ]
    },
    {
      "cell_type": "markdown",
      "id": "ff2ba854e8980606",
      "metadata": {
        "collapsed": false,
        "jupyter": {
          "outputs_hidden": false
        },
        "id": "ff2ba854e8980606"
      },
      "source": [
        "## Drop the collection\n",
        "If you would like to delete all the data in a collection, you can drop the collection with"
      ]
    },
    {
      "cell_type": "code",
      "execution_count": null,
      "id": "5f1480c2c9bdfb35",
      "metadata": {
        "jupyter": {
          "outputs_hidden": false
        },
        "id": "5f1480c2c9bdfb35"
      },
      "outputs": [],
      "source": [
        "# Drop collection\n",
        "client.drop_collection(collection_name=\"demo_collection\")"
      ]
    },
    {
      "cell_type": "markdown",
      "id": "72a3e10144cc6981",
      "metadata": {
        "collapsed": false,
        "jupyter": {
          "outputs_hidden": false
        },
        "id": "72a3e10144cc6981"
      },
      "source": [
        "Learn More\n",
        "Milvus Lite is great for getting started with a local python program. If you have large scale data or would like to use Milvus in production, you can learn about deploying Milvus on [Docker](https://milvus.io/docs/install_standalone-docker.md) and [Kubernetes](https://milvus.io/docs/install_cluster-milvusoperator.md). All deployment modes of Milvus share the same API, so your client side code doesn't need to change much if moving to another deployment mode. Simply specify the [URI and Token](https://milvus.io/api-reference/pymilvus/v2.4.x/MilvusClient/Client/MilvusClient.md) of a Milvus server deployed anywhere:"
      ]
    },
    {
      "cell_type": "code",
      "execution_count": null,
      "id": "9d821310ac435b64",
      "metadata": {
        "jupyter": {
          "outputs_hidden": false
        },
        "id": "9d821310ac435b64"
      },
      "outputs": [],
      "source": [
        "client = MilvusClient(uri=\"http://localhost:19530\", token=\"root:Milvus\")"
      ]
    },
    {
      "cell_type": "markdown",
      "id": "1d32ff4fe58e97eb",
      "metadata": {
        "collapsed": false,
        "jupyter": {
          "outputs_hidden": false
        },
        "id": "1d32ff4fe58e97eb"
      },
      "source": [
        "Milvus provides REST and gRPC API, with client libraries in languages such as [Python](https://milvus.io/docs/install-pymilvus.md), [Java](https://milvus.io/docs/install-java.md), [Go](https://milvus.io/docs/install-go.md), C# and [Node.js](https://milvus.io/docs/install-node.md)."
      ]
    }
  ],
  "metadata": {
    "kernelspec": {
      "display_name": "Python 3 (ipykernel)",
      "language": "python",
      "name": "python3"
    },
    "language_info": {
      "codemirror_mode": {
        "name": "ipython",
        "version": 3
      },
      "file_extension": ".py",
      "mimetype": "text/x-python",
      "name": "python",
      "nbconvert_exporter": "python",
      "pygments_lexer": "ipython3",
      "version": "3.9.15"
    },
    "colab": {
      "provenance": []
    },
    "widgets": {
      "application/vnd.jupyter.widget-state+json": {
        "400c6539ebc64fd9b6f5ca7dc1a49831": {
          "model_module": "@jupyter-widgets/controls",
          "model_name": "HBoxModel",
          "model_module_version": "1.5.0",
          "state": {
            "_dom_classes": [],
            "_model_module": "@jupyter-widgets/controls",
            "_model_module_version": "1.5.0",
            "_model_name": "HBoxModel",
            "_view_count": null,
            "_view_module": "@jupyter-widgets/controls",
            "_view_module_version": "1.5.0",
            "_view_name": "HBoxView",
            "box_style": "",
            "children": [
              "IPY_MODEL_dd3a1d90877942858f6e05e171cfa993",
              "IPY_MODEL_c2e8676a5bd5495796909dd762b17b0d",
              "IPY_MODEL_ed0f678f12d947ff84fb499e1fffd9ef"
            ],
            "layout": "IPY_MODEL_2ba951e62a3b4950a2672ef92e93f58c"
          }
        },
        "dd3a1d90877942858f6e05e171cfa993": {
          "model_module": "@jupyter-widgets/controls",
          "model_name": "HTMLModel",
          "model_module_version": "1.5.0",
          "state": {
            "_dom_classes": [],
            "_model_module": "@jupyter-widgets/controls",
            "_model_module_version": "1.5.0",
            "_model_name": "HTMLModel",
            "_view_count": null,
            "_view_module": "@jupyter-widgets/controls",
            "_view_module_version": "1.5.0",
            "_view_name": "HTMLView",
            "description": "",
            "description_tooltip": null,
            "layout": "IPY_MODEL_92749589922e4aa9840c767742e73577",
            "placeholder": "​",
            "style": "IPY_MODEL_95b3e82c8edd4b98906017db3d0def6b",
            "value": "tokenizer_config.json: 100%"
          }
        },
        "c2e8676a5bd5495796909dd762b17b0d": {
          "model_module": "@jupyter-widgets/controls",
          "model_name": "FloatProgressModel",
          "model_module_version": "1.5.0",
          "state": {
            "_dom_classes": [],
            "_model_module": "@jupyter-widgets/controls",
            "_model_module_version": "1.5.0",
            "_model_name": "FloatProgressModel",
            "_view_count": null,
            "_view_module": "@jupyter-widgets/controls",
            "_view_module_version": "1.5.0",
            "_view_name": "ProgressView",
            "bar_style": "success",
            "description": "",
            "description_tooltip": null,
            "layout": "IPY_MODEL_1b2288b350cb4cb78f03b0eaef6d505d",
            "max": 465,
            "min": 0,
            "orientation": "horizontal",
            "style": "IPY_MODEL_fc5dc0b39778467da73f59fda92b9c50",
            "value": 465
          }
        },
        "ed0f678f12d947ff84fb499e1fffd9ef": {
          "model_module": "@jupyter-widgets/controls",
          "model_name": "HTMLModel",
          "model_module_version": "1.5.0",
          "state": {
            "_dom_classes": [],
            "_model_module": "@jupyter-widgets/controls",
            "_model_module_version": "1.5.0",
            "_model_name": "HTMLModel",
            "_view_count": null,
            "_view_module": "@jupyter-widgets/controls",
            "_view_module_version": "1.5.0",
            "_view_name": "HTMLView",
            "description": "",
            "description_tooltip": null,
            "layout": "IPY_MODEL_d70504a2c5d84ccb93187ccaa15bf2a0",
            "placeholder": "​",
            "style": "IPY_MODEL_7faaf51125c54749937fd1b771a259f3",
            "value": " 465/465 [00:00&lt;00:00, 25.7kB/s]"
          }
        },
        "2ba951e62a3b4950a2672ef92e93f58c": {
          "model_module": "@jupyter-widgets/base",
          "model_name": "LayoutModel",
          "model_module_version": "1.2.0",
          "state": {
            "_model_module": "@jupyter-widgets/base",
            "_model_module_version": "1.2.0",
            "_model_name": "LayoutModel",
            "_view_count": null,
            "_view_module": "@jupyter-widgets/base",
            "_view_module_version": "1.2.0",
            "_view_name": "LayoutView",
            "align_content": null,
            "align_items": null,
            "align_self": null,
            "border": null,
            "bottom": null,
            "display": null,
            "flex": null,
            "flex_flow": null,
            "grid_area": null,
            "grid_auto_columns": null,
            "grid_auto_flow": null,
            "grid_auto_rows": null,
            "grid_column": null,
            "grid_gap": null,
            "grid_row": null,
            "grid_template_areas": null,
            "grid_template_columns": null,
            "grid_template_rows": null,
            "height": null,
            "justify_content": null,
            "justify_items": null,
            "left": null,
            "margin": null,
            "max_height": null,
            "max_width": null,
            "min_height": null,
            "min_width": null,
            "object_fit": null,
            "object_position": null,
            "order": null,
            "overflow": null,
            "overflow_x": null,
            "overflow_y": null,
            "padding": null,
            "right": null,
            "top": null,
            "visibility": null,
            "width": null
          }
        },
        "92749589922e4aa9840c767742e73577": {
          "model_module": "@jupyter-widgets/base",
          "model_name": "LayoutModel",
          "model_module_version": "1.2.0",
          "state": {
            "_model_module": "@jupyter-widgets/base",
            "_model_module_version": "1.2.0",
            "_model_name": "LayoutModel",
            "_view_count": null,
            "_view_module": "@jupyter-widgets/base",
            "_view_module_version": "1.2.0",
            "_view_name": "LayoutView",
            "align_content": null,
            "align_items": null,
            "align_self": null,
            "border": null,
            "bottom": null,
            "display": null,
            "flex": null,
            "flex_flow": null,
            "grid_area": null,
            "grid_auto_columns": null,
            "grid_auto_flow": null,
            "grid_auto_rows": null,
            "grid_column": null,
            "grid_gap": null,
            "grid_row": null,
            "grid_template_areas": null,
            "grid_template_columns": null,
            "grid_template_rows": null,
            "height": null,
            "justify_content": null,
            "justify_items": null,
            "left": null,
            "margin": null,
            "max_height": null,
            "max_width": null,
            "min_height": null,
            "min_width": null,
            "object_fit": null,
            "object_position": null,
            "order": null,
            "overflow": null,
            "overflow_x": null,
            "overflow_y": null,
            "padding": null,
            "right": null,
            "top": null,
            "visibility": null,
            "width": null
          }
        },
        "95b3e82c8edd4b98906017db3d0def6b": {
          "model_module": "@jupyter-widgets/controls",
          "model_name": "DescriptionStyleModel",
          "model_module_version": "1.5.0",
          "state": {
            "_model_module": "@jupyter-widgets/controls",
            "_model_module_version": "1.5.0",
            "_model_name": "DescriptionStyleModel",
            "_view_count": null,
            "_view_module": "@jupyter-widgets/base",
            "_view_module_version": "1.2.0",
            "_view_name": "StyleView",
            "description_width": ""
          }
        },
        "1b2288b350cb4cb78f03b0eaef6d505d": {
          "model_module": "@jupyter-widgets/base",
          "model_name": "LayoutModel",
          "model_module_version": "1.2.0",
          "state": {
            "_model_module": "@jupyter-widgets/base",
            "_model_module_version": "1.2.0",
            "_model_name": "LayoutModel",
            "_view_count": null,
            "_view_module": "@jupyter-widgets/base",
            "_view_module_version": "1.2.0",
            "_view_name": "LayoutView",
            "align_content": null,
            "align_items": null,
            "align_self": null,
            "border": null,
            "bottom": null,
            "display": null,
            "flex": null,
            "flex_flow": null,
            "grid_area": null,
            "grid_auto_columns": null,
            "grid_auto_flow": null,
            "grid_auto_rows": null,
            "grid_column": null,
            "grid_gap": null,
            "grid_row": null,
            "grid_template_areas": null,
            "grid_template_columns": null,
            "grid_template_rows": null,
            "height": null,
            "justify_content": null,
            "justify_items": null,
            "left": null,
            "margin": null,
            "max_height": null,
            "max_width": null,
            "min_height": null,
            "min_width": null,
            "object_fit": null,
            "object_position": null,
            "order": null,
            "overflow": null,
            "overflow_x": null,
            "overflow_y": null,
            "padding": null,
            "right": null,
            "top": null,
            "visibility": null,
            "width": null
          }
        },
        "fc5dc0b39778467da73f59fda92b9c50": {
          "model_module": "@jupyter-widgets/controls",
          "model_name": "ProgressStyleModel",
          "model_module_version": "1.5.0",
          "state": {
            "_model_module": "@jupyter-widgets/controls",
            "_model_module_version": "1.5.0",
            "_model_name": "ProgressStyleModel",
            "_view_count": null,
            "_view_module": "@jupyter-widgets/base",
            "_view_module_version": "1.2.0",
            "_view_name": "StyleView",
            "bar_color": null,
            "description_width": ""
          }
        },
        "d70504a2c5d84ccb93187ccaa15bf2a0": {
          "model_module": "@jupyter-widgets/base",
          "model_name": "LayoutModel",
          "model_module_version": "1.2.0",
          "state": {
            "_model_module": "@jupyter-widgets/base",
            "_model_module_version": "1.2.0",
            "_model_name": "LayoutModel",
            "_view_count": null,
            "_view_module": "@jupyter-widgets/base",
            "_view_module_version": "1.2.0",
            "_view_name": "LayoutView",
            "align_content": null,
            "align_items": null,
            "align_self": null,
            "border": null,
            "bottom": null,
            "display": null,
            "flex": null,
            "flex_flow": null,
            "grid_area": null,
            "grid_auto_columns": null,
            "grid_auto_flow": null,
            "grid_auto_rows": null,
            "grid_column": null,
            "grid_gap": null,
            "grid_row": null,
            "grid_template_areas": null,
            "grid_template_columns": null,
            "grid_template_rows": null,
            "height": null,
            "justify_content": null,
            "justify_items": null,
            "left": null,
            "margin": null,
            "max_height": null,
            "max_width": null,
            "min_height": null,
            "min_width": null,
            "object_fit": null,
            "object_position": null,
            "order": null,
            "overflow": null,
            "overflow_x": null,
            "overflow_y": null,
            "padding": null,
            "right": null,
            "top": null,
            "visibility": null,
            "width": null
          }
        },
        "7faaf51125c54749937fd1b771a259f3": {
          "model_module": "@jupyter-widgets/controls",
          "model_name": "DescriptionStyleModel",
          "model_module_version": "1.5.0",
          "state": {
            "_model_module": "@jupyter-widgets/controls",
            "_model_module_version": "1.5.0",
            "_model_name": "DescriptionStyleModel",
            "_view_count": null,
            "_view_module": "@jupyter-widgets/base",
            "_view_module_version": "1.2.0",
            "_view_name": "StyleView",
            "description_width": ""
          }
        },
        "c12d2cc9550449b487ba69a2fbf2a9e0": {
          "model_module": "@jupyter-widgets/controls",
          "model_name": "HBoxModel",
          "model_module_version": "1.5.0",
          "state": {
            "_dom_classes": [],
            "_model_module": "@jupyter-widgets/controls",
            "_model_module_version": "1.5.0",
            "_model_name": "HBoxModel",
            "_view_count": null,
            "_view_module": "@jupyter-widgets/controls",
            "_view_module_version": "1.5.0",
            "_view_name": "HBoxView",
            "box_style": "",
            "children": [
              "IPY_MODEL_c1b4eda17d7b46739b856170a6ad605c",
              "IPY_MODEL_01f08413a36149c9a574f926aaeda30e",
              "IPY_MODEL_17e1d890afcf4e5cb7d17e0efccbef7b"
            ],
            "layout": "IPY_MODEL_816398be575f464087e938408a2bebf7"
          }
        },
        "c1b4eda17d7b46739b856170a6ad605c": {
          "model_module": "@jupyter-widgets/controls",
          "model_name": "HTMLModel",
          "model_module_version": "1.5.0",
          "state": {
            "_dom_classes": [],
            "_model_module": "@jupyter-widgets/controls",
            "_model_module_version": "1.5.0",
            "_model_name": "HTMLModel",
            "_view_count": null,
            "_view_module": "@jupyter-widgets/controls",
            "_view_module_version": "1.5.0",
            "_view_name": "HTMLView",
            "description": "",
            "description_tooltip": null,
            "layout": "IPY_MODEL_a62323306dcb47729f1b5c486e7eb90d",
            "placeholder": "​",
            "style": "IPY_MODEL_a1f56230675b48a1abc6901754f06613",
            "value": "config.json: 100%"
          }
        },
        "01f08413a36149c9a574f926aaeda30e": {
          "model_module": "@jupyter-widgets/controls",
          "model_name": "FloatProgressModel",
          "model_module_version": "1.5.0",
          "state": {
            "_dom_classes": [],
            "_model_module": "@jupyter-widgets/controls",
            "_model_module_version": "1.5.0",
            "_model_name": "FloatProgressModel",
            "_view_count": null,
            "_view_module": "@jupyter-widgets/controls",
            "_view_module_version": "1.5.0",
            "_view_name": "ProgressView",
            "bar_style": "success",
            "description": "",
            "description_tooltip": null,
            "layout": "IPY_MODEL_f8da8adfc480483599b6c0ce2645f779",
            "max": 827,
            "min": 0,
            "orientation": "horizontal",
            "style": "IPY_MODEL_5dc7f5dd1b3a425cb587cc823819d709",
            "value": 827
          }
        },
        "17e1d890afcf4e5cb7d17e0efccbef7b": {
          "model_module": "@jupyter-widgets/controls",
          "model_name": "HTMLModel",
          "model_module_version": "1.5.0",
          "state": {
            "_dom_classes": [],
            "_model_module": "@jupyter-widgets/controls",
            "_model_module_version": "1.5.0",
            "_model_name": "HTMLModel",
            "_view_count": null,
            "_view_module": "@jupyter-widgets/controls",
            "_view_module_version": "1.5.0",
            "_view_name": "HTMLView",
            "description": "",
            "description_tooltip": null,
            "layout": "IPY_MODEL_395bf5667861482bbcbfc65fc7fe8e6d",
            "placeholder": "​",
            "style": "IPY_MODEL_2de67813e8164f93bbde9b267045d0bd",
            "value": " 827/827 [00:00&lt;00:00, 57.8kB/s]"
          }
        },
        "816398be575f464087e938408a2bebf7": {
          "model_module": "@jupyter-widgets/base",
          "model_name": "LayoutModel",
          "model_module_version": "1.2.0",
          "state": {
            "_model_module": "@jupyter-widgets/base",
            "_model_module_version": "1.2.0",
            "_model_name": "LayoutModel",
            "_view_count": null,
            "_view_module": "@jupyter-widgets/base",
            "_view_module_version": "1.2.0",
            "_view_name": "LayoutView",
            "align_content": null,
            "align_items": null,
            "align_self": null,
            "border": null,
            "bottom": null,
            "display": null,
            "flex": null,
            "flex_flow": null,
            "grid_area": null,
            "grid_auto_columns": null,
            "grid_auto_flow": null,
            "grid_auto_rows": null,
            "grid_column": null,
            "grid_gap": null,
            "grid_row": null,
            "grid_template_areas": null,
            "grid_template_columns": null,
            "grid_template_rows": null,
            "height": null,
            "justify_content": null,
            "justify_items": null,
            "left": null,
            "margin": null,
            "max_height": null,
            "max_width": null,
            "min_height": null,
            "min_width": null,
            "object_fit": null,
            "object_position": null,
            "order": null,
            "overflow": null,
            "overflow_x": null,
            "overflow_y": null,
            "padding": null,
            "right": null,
            "top": null,
            "visibility": null,
            "width": null
          }
        },
        "a62323306dcb47729f1b5c486e7eb90d": {
          "model_module": "@jupyter-widgets/base",
          "model_name": "LayoutModel",
          "model_module_version": "1.2.0",
          "state": {
            "_model_module": "@jupyter-widgets/base",
            "_model_module_version": "1.2.0",
            "_model_name": "LayoutModel",
            "_view_count": null,
            "_view_module": "@jupyter-widgets/base",
            "_view_module_version": "1.2.0",
            "_view_name": "LayoutView",
            "align_content": null,
            "align_items": null,
            "align_self": null,
            "border": null,
            "bottom": null,
            "display": null,
            "flex": null,
            "flex_flow": null,
            "grid_area": null,
            "grid_auto_columns": null,
            "grid_auto_flow": null,
            "grid_auto_rows": null,
            "grid_column": null,
            "grid_gap": null,
            "grid_row": null,
            "grid_template_areas": null,
            "grid_template_columns": null,
            "grid_template_rows": null,
            "height": null,
            "justify_content": null,
            "justify_items": null,
            "left": null,
            "margin": null,
            "max_height": null,
            "max_width": null,
            "min_height": null,
            "min_width": null,
            "object_fit": null,
            "object_position": null,
            "order": null,
            "overflow": null,
            "overflow_x": null,
            "overflow_y": null,
            "padding": null,
            "right": null,
            "top": null,
            "visibility": null,
            "width": null
          }
        },
        "a1f56230675b48a1abc6901754f06613": {
          "model_module": "@jupyter-widgets/controls",
          "model_name": "DescriptionStyleModel",
          "model_module_version": "1.5.0",
          "state": {
            "_model_module": "@jupyter-widgets/controls",
            "_model_module_version": "1.5.0",
            "_model_name": "DescriptionStyleModel",
            "_view_count": null,
            "_view_module": "@jupyter-widgets/base",
            "_view_module_version": "1.2.0",
            "_view_name": "StyleView",
            "description_width": ""
          }
        },
        "f8da8adfc480483599b6c0ce2645f779": {
          "model_module": "@jupyter-widgets/base",
          "model_name": "LayoutModel",
          "model_module_version": "1.2.0",
          "state": {
            "_model_module": "@jupyter-widgets/base",
            "_model_module_version": "1.2.0",
            "_model_name": "LayoutModel",
            "_view_count": null,
            "_view_module": "@jupyter-widgets/base",
            "_view_module_version": "1.2.0",
            "_view_name": "LayoutView",
            "align_content": null,
            "align_items": null,
            "align_self": null,
            "border": null,
            "bottom": null,
            "display": null,
            "flex": null,
            "flex_flow": null,
            "grid_area": null,
            "grid_auto_columns": null,
            "grid_auto_flow": null,
            "grid_auto_rows": null,
            "grid_column": null,
            "grid_gap": null,
            "grid_row": null,
            "grid_template_areas": null,
            "grid_template_columns": null,
            "grid_template_rows": null,
            "height": null,
            "justify_content": null,
            "justify_items": null,
            "left": null,
            "margin": null,
            "max_height": null,
            "max_width": null,
            "min_height": null,
            "min_width": null,
            "object_fit": null,
            "object_position": null,
            "order": null,
            "overflow": null,
            "overflow_x": null,
            "overflow_y": null,
            "padding": null,
            "right": null,
            "top": null,
            "visibility": null,
            "width": null
          }
        },
        "5dc7f5dd1b3a425cb587cc823819d709": {
          "model_module": "@jupyter-widgets/controls",
          "model_name": "ProgressStyleModel",
          "model_module_version": "1.5.0",
          "state": {
            "_model_module": "@jupyter-widgets/controls",
            "_model_module_version": "1.5.0",
            "_model_name": "ProgressStyleModel",
            "_view_count": null,
            "_view_module": "@jupyter-widgets/base",
            "_view_module_version": "1.2.0",
            "_view_name": "StyleView",
            "bar_color": null,
            "description_width": ""
          }
        },
        "395bf5667861482bbcbfc65fc7fe8e6d": {
          "model_module": "@jupyter-widgets/base",
          "model_name": "LayoutModel",
          "model_module_version": "1.2.0",
          "state": {
            "_model_module": "@jupyter-widgets/base",
            "_model_module_version": "1.2.0",
            "_model_name": "LayoutModel",
            "_view_count": null,
            "_view_module": "@jupyter-widgets/base",
            "_view_module_version": "1.2.0",
            "_view_name": "LayoutView",
            "align_content": null,
            "align_items": null,
            "align_self": null,
            "border": null,
            "bottom": null,
            "display": null,
            "flex": null,
            "flex_flow": null,
            "grid_area": null,
            "grid_auto_columns": null,
            "grid_auto_flow": null,
            "grid_auto_rows": null,
            "grid_column": null,
            "grid_gap": null,
            "grid_row": null,
            "grid_template_areas": null,
            "grid_template_columns": null,
            "grid_template_rows": null,
            "height": null,
            "justify_content": null,
            "justify_items": null,
            "left": null,
            "margin": null,
            "max_height": null,
            "max_width": null,
            "min_height": null,
            "min_width": null,
            "object_fit": null,
            "object_position": null,
            "order": null,
            "overflow": null,
            "overflow_x": null,
            "overflow_y": null,
            "padding": null,
            "right": null,
            "top": null,
            "visibility": null,
            "width": null
          }
        },
        "2de67813e8164f93bbde9b267045d0bd": {
          "model_module": "@jupyter-widgets/controls",
          "model_name": "DescriptionStyleModel",
          "model_module_version": "1.5.0",
          "state": {
            "_model_module": "@jupyter-widgets/controls",
            "_model_module_version": "1.5.0",
            "_model_name": "DescriptionStyleModel",
            "_view_count": null,
            "_view_module": "@jupyter-widgets/base",
            "_view_module_version": "1.2.0",
            "_view_name": "StyleView",
            "description_width": ""
          }
        },
        "583d5568477d4c1a810b4a7f55d5af73": {
          "model_module": "@jupyter-widgets/controls",
          "model_name": "HBoxModel",
          "model_module_version": "1.5.0",
          "state": {
            "_dom_classes": [],
            "_model_module": "@jupyter-widgets/controls",
            "_model_module_version": "1.5.0",
            "_model_name": "HBoxModel",
            "_view_count": null,
            "_view_module": "@jupyter-widgets/controls",
            "_view_module_version": "1.5.0",
            "_view_name": "HBoxView",
            "box_style": "",
            "children": [
              "IPY_MODEL_ff486c82462843729bd050fc48005563",
              "IPY_MODEL_f5eb35a77adf4d4aaaec637cc2cc04c4",
              "IPY_MODEL_fffa4c715ae14836b64753ba9f049dcf"
            ],
            "layout": "IPY_MODEL_a26c326426ef4726b1b6de882370202b"
          }
        },
        "ff486c82462843729bd050fc48005563": {
          "model_module": "@jupyter-widgets/controls",
          "model_name": "HTMLModel",
          "model_module_version": "1.5.0",
          "state": {
            "_dom_classes": [],
            "_model_module": "@jupyter-widgets/controls",
            "_model_module_version": "1.5.0",
            "_model_name": "HTMLModel",
            "_view_count": null,
            "_view_module": "@jupyter-widgets/controls",
            "_view_module_version": "1.5.0",
            "_view_name": "HTMLView",
            "description": "",
            "description_tooltip": null,
            "layout": "IPY_MODEL_daa2610e2a8744599a92eadafe5b160a",
            "placeholder": "​",
            "style": "IPY_MODEL_b76503cca47f42e79294a30496b8c2f6",
            "value": "spiece.model: 100%"
          }
        },
        "f5eb35a77adf4d4aaaec637cc2cc04c4": {
          "model_module": "@jupyter-widgets/controls",
          "model_name": "FloatProgressModel",
          "model_module_version": "1.5.0",
          "state": {
            "_dom_classes": [],
            "_model_module": "@jupyter-widgets/controls",
            "_model_module_version": "1.5.0",
            "_model_name": "FloatProgressModel",
            "_view_count": null,
            "_view_module": "@jupyter-widgets/controls",
            "_view_module_version": "1.5.0",
            "_view_name": "ProgressView",
            "bar_style": "success",
            "description": "",
            "description_tooltip": null,
            "layout": "IPY_MODEL_47db0ba49b6340a08d4888183145a84c",
            "max": 760289,
            "min": 0,
            "orientation": "horizontal",
            "style": "IPY_MODEL_92c69c62ce1d4743b37278ad19d6569e",
            "value": 760289
          }
        },
        "fffa4c715ae14836b64753ba9f049dcf": {
          "model_module": "@jupyter-widgets/controls",
          "model_name": "HTMLModel",
          "model_module_version": "1.5.0",
          "state": {
            "_dom_classes": [],
            "_model_module": "@jupyter-widgets/controls",
            "_model_module_version": "1.5.0",
            "_model_name": "HTMLModel",
            "_view_count": null,
            "_view_module": "@jupyter-widgets/controls",
            "_view_module_version": "1.5.0",
            "_view_name": "HTMLView",
            "description": "",
            "description_tooltip": null,
            "layout": "IPY_MODEL_3e73ef300e6a46e3a91b483a8c477c64",
            "placeholder": "​",
            "style": "IPY_MODEL_b8921ebcbbfd4086ba0d1942493c8a2d",
            "value": " 760k/760k [00:00&lt;00:00, 21.8MB/s]"
          }
        },
        "a26c326426ef4726b1b6de882370202b": {
          "model_module": "@jupyter-widgets/base",
          "model_name": "LayoutModel",
          "model_module_version": "1.2.0",
          "state": {
            "_model_module": "@jupyter-widgets/base",
            "_model_module_version": "1.2.0",
            "_model_name": "LayoutModel",
            "_view_count": null,
            "_view_module": "@jupyter-widgets/base",
            "_view_module_version": "1.2.0",
            "_view_name": "LayoutView",
            "align_content": null,
            "align_items": null,
            "align_self": null,
            "border": null,
            "bottom": null,
            "display": null,
            "flex": null,
            "flex_flow": null,
            "grid_area": null,
            "grid_auto_columns": null,
            "grid_auto_flow": null,
            "grid_auto_rows": null,
            "grid_column": null,
            "grid_gap": null,
            "grid_row": null,
            "grid_template_areas": null,
            "grid_template_columns": null,
            "grid_template_rows": null,
            "height": null,
            "justify_content": null,
            "justify_items": null,
            "left": null,
            "margin": null,
            "max_height": null,
            "max_width": null,
            "min_height": null,
            "min_width": null,
            "object_fit": null,
            "object_position": null,
            "order": null,
            "overflow": null,
            "overflow_x": null,
            "overflow_y": null,
            "padding": null,
            "right": null,
            "top": null,
            "visibility": null,
            "width": null
          }
        },
        "daa2610e2a8744599a92eadafe5b160a": {
          "model_module": "@jupyter-widgets/base",
          "model_name": "LayoutModel",
          "model_module_version": "1.2.0",
          "state": {
            "_model_module": "@jupyter-widgets/base",
            "_model_module_version": "1.2.0",
            "_model_name": "LayoutModel",
            "_view_count": null,
            "_view_module": "@jupyter-widgets/base",
            "_view_module_version": "1.2.0",
            "_view_name": "LayoutView",
            "align_content": null,
            "align_items": null,
            "align_self": null,
            "border": null,
            "bottom": null,
            "display": null,
            "flex": null,
            "flex_flow": null,
            "grid_area": null,
            "grid_auto_columns": null,
            "grid_auto_flow": null,
            "grid_auto_rows": null,
            "grid_column": null,
            "grid_gap": null,
            "grid_row": null,
            "grid_template_areas": null,
            "grid_template_columns": null,
            "grid_template_rows": null,
            "height": null,
            "justify_content": null,
            "justify_items": null,
            "left": null,
            "margin": null,
            "max_height": null,
            "max_width": null,
            "min_height": null,
            "min_width": null,
            "object_fit": null,
            "object_position": null,
            "order": null,
            "overflow": null,
            "overflow_x": null,
            "overflow_y": null,
            "padding": null,
            "right": null,
            "top": null,
            "visibility": null,
            "width": null
          }
        },
        "b76503cca47f42e79294a30496b8c2f6": {
          "model_module": "@jupyter-widgets/controls",
          "model_name": "DescriptionStyleModel",
          "model_module_version": "1.5.0",
          "state": {
            "_model_module": "@jupyter-widgets/controls",
            "_model_module_version": "1.5.0",
            "_model_name": "DescriptionStyleModel",
            "_view_count": null,
            "_view_module": "@jupyter-widgets/base",
            "_view_module_version": "1.2.0",
            "_view_name": "StyleView",
            "description_width": ""
          }
        },
        "47db0ba49b6340a08d4888183145a84c": {
          "model_module": "@jupyter-widgets/base",
          "model_name": "LayoutModel",
          "model_module_version": "1.2.0",
          "state": {
            "_model_module": "@jupyter-widgets/base",
            "_model_module_version": "1.2.0",
            "_model_name": "LayoutModel",
            "_view_count": null,
            "_view_module": "@jupyter-widgets/base",
            "_view_module_version": "1.2.0",
            "_view_name": "LayoutView",
            "align_content": null,
            "align_items": null,
            "align_self": null,
            "border": null,
            "bottom": null,
            "display": null,
            "flex": null,
            "flex_flow": null,
            "grid_area": null,
            "grid_auto_columns": null,
            "grid_auto_flow": null,
            "grid_auto_rows": null,
            "grid_column": null,
            "grid_gap": null,
            "grid_row": null,
            "grid_template_areas": null,
            "grid_template_columns": null,
            "grid_template_rows": null,
            "height": null,
            "justify_content": null,
            "justify_items": null,
            "left": null,
            "margin": null,
            "max_height": null,
            "max_width": null,
            "min_height": null,
            "min_width": null,
            "object_fit": null,
            "object_position": null,
            "order": null,
            "overflow": null,
            "overflow_x": null,
            "overflow_y": null,
            "padding": null,
            "right": null,
            "top": null,
            "visibility": null,
            "width": null
          }
        },
        "92c69c62ce1d4743b37278ad19d6569e": {
          "model_module": "@jupyter-widgets/controls",
          "model_name": "ProgressStyleModel",
          "model_module_version": "1.5.0",
          "state": {
            "_model_module": "@jupyter-widgets/controls",
            "_model_module_version": "1.5.0",
            "_model_name": "ProgressStyleModel",
            "_view_count": null,
            "_view_module": "@jupyter-widgets/base",
            "_view_module_version": "1.2.0",
            "_view_name": "StyleView",
            "bar_color": null,
            "description_width": ""
          }
        },
        "3e73ef300e6a46e3a91b483a8c477c64": {
          "model_module": "@jupyter-widgets/base",
          "model_name": "LayoutModel",
          "model_module_version": "1.2.0",
          "state": {
            "_model_module": "@jupyter-widgets/base",
            "_model_module_version": "1.2.0",
            "_model_name": "LayoutModel",
            "_view_count": null,
            "_view_module": "@jupyter-widgets/base",
            "_view_module_version": "1.2.0",
            "_view_name": "LayoutView",
            "align_content": null,
            "align_items": null,
            "align_self": null,
            "border": null,
            "bottom": null,
            "display": null,
            "flex": null,
            "flex_flow": null,
            "grid_area": null,
            "grid_auto_columns": null,
            "grid_auto_flow": null,
            "grid_auto_rows": null,
            "grid_column": null,
            "grid_gap": null,
            "grid_row": null,
            "grid_template_areas": null,
            "grid_template_columns": null,
            "grid_template_rows": null,
            "height": null,
            "justify_content": null,
            "justify_items": null,
            "left": null,
            "margin": null,
            "max_height": null,
            "max_width": null,
            "min_height": null,
            "min_width": null,
            "object_fit": null,
            "object_position": null,
            "order": null,
            "overflow": null,
            "overflow_x": null,
            "overflow_y": null,
            "padding": null,
            "right": null,
            "top": null,
            "visibility": null,
            "width": null
          }
        },
        "b8921ebcbbfd4086ba0d1942493c8a2d": {
          "model_module": "@jupyter-widgets/controls",
          "model_name": "DescriptionStyleModel",
          "model_module_version": "1.5.0",
          "state": {
            "_model_module": "@jupyter-widgets/controls",
            "_model_module_version": "1.5.0",
            "_model_name": "DescriptionStyleModel",
            "_view_count": null,
            "_view_module": "@jupyter-widgets/base",
            "_view_module_version": "1.2.0",
            "_view_name": "StyleView",
            "description_width": ""
          }
        },
        "ae560e31a25d4d689f13c20939c81b16": {
          "model_module": "@jupyter-widgets/controls",
          "model_name": "HBoxModel",
          "model_module_version": "1.5.0",
          "state": {
            "_dom_classes": [],
            "_model_module": "@jupyter-widgets/controls",
            "_model_module_version": "1.5.0",
            "_model_name": "HBoxModel",
            "_view_count": null,
            "_view_module": "@jupyter-widgets/controls",
            "_view_module_version": "1.5.0",
            "_view_name": "HBoxView",
            "box_style": "",
            "children": [
              "IPY_MODEL_0d78cd8aa86d45f2941f5edb66daea22",
              "IPY_MODEL_e3455f58cebb498492fc5be592121ad9",
              "IPY_MODEL_4d378105eae4413aade7d9e040a09fe5"
            ],
            "layout": "IPY_MODEL_3449e4fbba2d44738b9df6cd7069cddb"
          }
        },
        "0d78cd8aa86d45f2941f5edb66daea22": {
          "model_module": "@jupyter-widgets/controls",
          "model_name": "HTMLModel",
          "model_module_version": "1.5.0",
          "state": {
            "_dom_classes": [],
            "_model_module": "@jupyter-widgets/controls",
            "_model_module_version": "1.5.0",
            "_model_name": "HTMLModel",
            "_view_count": null,
            "_view_module": "@jupyter-widgets/controls",
            "_view_module_version": "1.5.0",
            "_view_name": "HTMLView",
            "description": "",
            "description_tooltip": null,
            "layout": "IPY_MODEL_af945a80f4884fa88dbb71ca4e2e5224",
            "placeholder": "​",
            "style": "IPY_MODEL_7310bf3cf54c46769209914246eef310",
            "value": "tokenizer.json: 100%"
          }
        },
        "e3455f58cebb498492fc5be592121ad9": {
          "model_module": "@jupyter-widgets/controls",
          "model_name": "FloatProgressModel",
          "model_module_version": "1.5.0",
          "state": {
            "_dom_classes": [],
            "_model_module": "@jupyter-widgets/controls",
            "_model_module_version": "1.5.0",
            "_model_name": "FloatProgressModel",
            "_view_count": null,
            "_view_module": "@jupyter-widgets/controls",
            "_view_module_version": "1.5.0",
            "_view_name": "ProgressView",
            "bar_style": "success",
            "description": "",
            "description_tooltip": null,
            "layout": "IPY_MODEL_b401e92d43504199b556bedce332f43e",
            "max": 1311010,
            "min": 0,
            "orientation": "horizontal",
            "style": "IPY_MODEL_ec0b82bccc154f96a35cde65875992da",
            "value": 1311010
          }
        },
        "4d378105eae4413aade7d9e040a09fe5": {
          "model_module": "@jupyter-widgets/controls",
          "model_name": "HTMLModel",
          "model_module_version": "1.5.0",
          "state": {
            "_dom_classes": [],
            "_model_module": "@jupyter-widgets/controls",
            "_model_module_version": "1.5.0",
            "_model_name": "HTMLModel",
            "_view_count": null,
            "_view_module": "@jupyter-widgets/controls",
            "_view_module_version": "1.5.0",
            "_view_name": "HTMLView",
            "description": "",
            "description_tooltip": null,
            "layout": "IPY_MODEL_00ae926d50a44e1398cfd07aad0fb9a7",
            "placeholder": "​",
            "style": "IPY_MODEL_79f8aa8411774213bc62be643cca9cdb",
            "value": " 1.31M/1.31M [00:00&lt;00:00, 12.7MB/s]"
          }
        },
        "3449e4fbba2d44738b9df6cd7069cddb": {
          "model_module": "@jupyter-widgets/base",
          "model_name": "LayoutModel",
          "model_module_version": "1.2.0",
          "state": {
            "_model_module": "@jupyter-widgets/base",
            "_model_module_version": "1.2.0",
            "_model_name": "LayoutModel",
            "_view_count": null,
            "_view_module": "@jupyter-widgets/base",
            "_view_module_version": "1.2.0",
            "_view_name": "LayoutView",
            "align_content": null,
            "align_items": null,
            "align_self": null,
            "border": null,
            "bottom": null,
            "display": null,
            "flex": null,
            "flex_flow": null,
            "grid_area": null,
            "grid_auto_columns": null,
            "grid_auto_flow": null,
            "grid_auto_rows": null,
            "grid_column": null,
            "grid_gap": null,
            "grid_row": null,
            "grid_template_areas": null,
            "grid_template_columns": null,
            "grid_template_rows": null,
            "height": null,
            "justify_content": null,
            "justify_items": null,
            "left": null,
            "margin": null,
            "max_height": null,
            "max_width": null,
            "min_height": null,
            "min_width": null,
            "object_fit": null,
            "object_position": null,
            "order": null,
            "overflow": null,
            "overflow_x": null,
            "overflow_y": null,
            "padding": null,
            "right": null,
            "top": null,
            "visibility": null,
            "width": null
          }
        },
        "af945a80f4884fa88dbb71ca4e2e5224": {
          "model_module": "@jupyter-widgets/base",
          "model_name": "LayoutModel",
          "model_module_version": "1.2.0",
          "state": {
            "_model_module": "@jupyter-widgets/base",
            "_model_module_version": "1.2.0",
            "_model_name": "LayoutModel",
            "_view_count": null,
            "_view_module": "@jupyter-widgets/base",
            "_view_module_version": "1.2.0",
            "_view_name": "LayoutView",
            "align_content": null,
            "align_items": null,
            "align_self": null,
            "border": null,
            "bottom": null,
            "display": null,
            "flex": null,
            "flex_flow": null,
            "grid_area": null,
            "grid_auto_columns": null,
            "grid_auto_flow": null,
            "grid_auto_rows": null,
            "grid_column": null,
            "grid_gap": null,
            "grid_row": null,
            "grid_template_areas": null,
            "grid_template_columns": null,
            "grid_template_rows": null,
            "height": null,
            "justify_content": null,
            "justify_items": null,
            "left": null,
            "margin": null,
            "max_height": null,
            "max_width": null,
            "min_height": null,
            "min_width": null,
            "object_fit": null,
            "object_position": null,
            "order": null,
            "overflow": null,
            "overflow_x": null,
            "overflow_y": null,
            "padding": null,
            "right": null,
            "top": null,
            "visibility": null,
            "width": null
          }
        },
        "7310bf3cf54c46769209914246eef310": {
          "model_module": "@jupyter-widgets/controls",
          "model_name": "DescriptionStyleModel",
          "model_module_version": "1.5.0",
          "state": {
            "_model_module": "@jupyter-widgets/controls",
            "_model_module_version": "1.5.0",
            "_model_name": "DescriptionStyleModel",
            "_view_count": null,
            "_view_module": "@jupyter-widgets/base",
            "_view_module_version": "1.2.0",
            "_view_name": "StyleView",
            "description_width": ""
          }
        },
        "b401e92d43504199b556bedce332f43e": {
          "model_module": "@jupyter-widgets/base",
          "model_name": "LayoutModel",
          "model_module_version": "1.2.0",
          "state": {
            "_model_module": "@jupyter-widgets/base",
            "_model_module_version": "1.2.0",
            "_model_name": "LayoutModel",
            "_view_count": null,
            "_view_module": "@jupyter-widgets/base",
            "_view_module_version": "1.2.0",
            "_view_name": "LayoutView",
            "align_content": null,
            "align_items": null,
            "align_self": null,
            "border": null,
            "bottom": null,
            "display": null,
            "flex": null,
            "flex_flow": null,
            "grid_area": null,
            "grid_auto_columns": null,
            "grid_auto_flow": null,
            "grid_auto_rows": null,
            "grid_column": null,
            "grid_gap": null,
            "grid_row": null,
            "grid_template_areas": null,
            "grid_template_columns": null,
            "grid_template_rows": null,
            "height": null,
            "justify_content": null,
            "justify_items": null,
            "left": null,
            "margin": null,
            "max_height": null,
            "max_width": null,
            "min_height": null,
            "min_width": null,
            "object_fit": null,
            "object_position": null,
            "order": null,
            "overflow": null,
            "overflow_x": null,
            "overflow_y": null,
            "padding": null,
            "right": null,
            "top": null,
            "visibility": null,
            "width": null
          }
        },
        "ec0b82bccc154f96a35cde65875992da": {
          "model_module": "@jupyter-widgets/controls",
          "model_name": "ProgressStyleModel",
          "model_module_version": "1.5.0",
          "state": {
            "_model_module": "@jupyter-widgets/controls",
            "_model_module_version": "1.5.0",
            "_model_name": "ProgressStyleModel",
            "_view_count": null,
            "_view_module": "@jupyter-widgets/base",
            "_view_module_version": "1.2.0",
            "_view_name": "StyleView",
            "bar_color": null,
            "description_width": ""
          }
        },
        "00ae926d50a44e1398cfd07aad0fb9a7": {
          "model_module": "@jupyter-widgets/base",
          "model_name": "LayoutModel",
          "model_module_version": "1.2.0",
          "state": {
            "_model_module": "@jupyter-widgets/base",
            "_model_module_version": "1.2.0",
            "_model_name": "LayoutModel",
            "_view_count": null,
            "_view_module": "@jupyter-widgets/base",
            "_view_module_version": "1.2.0",
            "_view_name": "LayoutView",
            "align_content": null,
            "align_items": null,
            "align_self": null,
            "border": null,
            "bottom": null,
            "display": null,
            "flex": null,
            "flex_flow": null,
            "grid_area": null,
            "grid_auto_columns": null,
            "grid_auto_flow": null,
            "grid_auto_rows": null,
            "grid_column": null,
            "grid_gap": null,
            "grid_row": null,
            "grid_template_areas": null,
            "grid_template_columns": null,
            "grid_template_rows": null,
            "height": null,
            "justify_content": null,
            "justify_items": null,
            "left": null,
            "margin": null,
            "max_height": null,
            "max_width": null,
            "min_height": null,
            "min_width": null,
            "object_fit": null,
            "object_position": null,
            "order": null,
            "overflow": null,
            "overflow_x": null,
            "overflow_y": null,
            "padding": null,
            "right": null,
            "top": null,
            "visibility": null,
            "width": null
          }
        },
        "79f8aa8411774213bc62be643cca9cdb": {
          "model_module": "@jupyter-widgets/controls",
          "model_name": "DescriptionStyleModel",
          "model_module_version": "1.5.0",
          "state": {
            "_model_module": "@jupyter-widgets/controls",
            "_model_module_version": "1.5.0",
            "_model_name": "DescriptionStyleModel",
            "_view_count": null,
            "_view_module": "@jupyter-widgets/base",
            "_view_module_version": "1.2.0",
            "_view_name": "StyleView",
            "description_width": ""
          }
        },
        "4ea0784c906744748c648b739337757b": {
          "model_module": "@jupyter-widgets/controls",
          "model_name": "HBoxModel",
          "model_module_version": "1.5.0",
          "state": {
            "_dom_classes": [],
            "_model_module": "@jupyter-widgets/controls",
            "_model_module_version": "1.5.0",
            "_model_name": "HBoxModel",
            "_view_count": null,
            "_view_module": "@jupyter-widgets/controls",
            "_view_module_version": "1.5.0",
            "_view_name": "HBoxView",
            "box_style": "",
            "children": [
              "IPY_MODEL_5b08f035eea14c8cbe447ca517d771c3",
              "IPY_MODEL_a84d280aeaa94a8c9491a35ca3e4f39a",
              "IPY_MODEL_5057e0419e0740ebacf5ab8c057c7361"
            ],
            "layout": "IPY_MODEL_57a733680d8545d9a2aa823d38defbe0"
          }
        },
        "5b08f035eea14c8cbe447ca517d771c3": {
          "model_module": "@jupyter-widgets/controls",
          "model_name": "HTMLModel",
          "model_module_version": "1.5.0",
          "state": {
            "_dom_classes": [],
            "_model_module": "@jupyter-widgets/controls",
            "_model_module_version": "1.5.0",
            "_model_name": "HTMLModel",
            "_view_count": null,
            "_view_module": "@jupyter-widgets/controls",
            "_view_module_version": "1.5.0",
            "_view_name": "HTMLView",
            "description": "",
            "description_tooltip": null,
            "layout": "IPY_MODEL_1de76a6c459d410dbd392a751f04bec5",
            "placeholder": "​",
            "style": "IPY_MODEL_c19c53113ff54417a0dd9dba0b81bb08",
            "value": "special_tokens_map.json: 100%"
          }
        },
        "a84d280aeaa94a8c9491a35ca3e4f39a": {
          "model_module": "@jupyter-widgets/controls",
          "model_name": "FloatProgressModel",
          "model_module_version": "1.5.0",
          "state": {
            "_dom_classes": [],
            "_model_module": "@jupyter-widgets/controls",
            "_model_module_version": "1.5.0",
            "_model_name": "FloatProgressModel",
            "_view_count": null,
            "_view_module": "@jupyter-widgets/controls",
            "_view_module_version": "1.5.0",
            "_view_name": "ProgressView",
            "bar_style": "success",
            "description": "",
            "description_tooltip": null,
            "layout": "IPY_MODEL_2f7592251bd240409e1879bd3de59b2a",
            "max": 245,
            "min": 0,
            "orientation": "horizontal",
            "style": "IPY_MODEL_d0eaa74bdbeb471c8e0d9bf1a9b655c9",
            "value": 245
          }
        },
        "5057e0419e0740ebacf5ab8c057c7361": {
          "model_module": "@jupyter-widgets/controls",
          "model_name": "HTMLModel",
          "model_module_version": "1.5.0",
          "state": {
            "_dom_classes": [],
            "_model_module": "@jupyter-widgets/controls",
            "_model_module_version": "1.5.0",
            "_model_name": "HTMLModel",
            "_view_count": null,
            "_view_module": "@jupyter-widgets/controls",
            "_view_module_version": "1.5.0",
            "_view_name": "HTMLView",
            "description": "",
            "description_tooltip": null,
            "layout": "IPY_MODEL_72095d34d39e4ca889fc31ce26099afd",
            "placeholder": "​",
            "style": "IPY_MODEL_3dc45ee38adc4c8696f52ccb4d2adad1",
            "value": " 245/245 [00:00&lt;00:00, 12.7kB/s]"
          }
        },
        "57a733680d8545d9a2aa823d38defbe0": {
          "model_module": "@jupyter-widgets/base",
          "model_name": "LayoutModel",
          "model_module_version": "1.2.0",
          "state": {
            "_model_module": "@jupyter-widgets/base",
            "_model_module_version": "1.2.0",
            "_model_name": "LayoutModel",
            "_view_count": null,
            "_view_module": "@jupyter-widgets/base",
            "_view_module_version": "1.2.0",
            "_view_name": "LayoutView",
            "align_content": null,
            "align_items": null,
            "align_self": null,
            "border": null,
            "bottom": null,
            "display": null,
            "flex": null,
            "flex_flow": null,
            "grid_area": null,
            "grid_auto_columns": null,
            "grid_auto_flow": null,
            "grid_auto_rows": null,
            "grid_column": null,
            "grid_gap": null,
            "grid_row": null,
            "grid_template_areas": null,
            "grid_template_columns": null,
            "grid_template_rows": null,
            "height": null,
            "justify_content": null,
            "justify_items": null,
            "left": null,
            "margin": null,
            "max_height": null,
            "max_width": null,
            "min_height": null,
            "min_width": null,
            "object_fit": null,
            "object_position": null,
            "order": null,
            "overflow": null,
            "overflow_x": null,
            "overflow_y": null,
            "padding": null,
            "right": null,
            "top": null,
            "visibility": null,
            "width": null
          }
        },
        "1de76a6c459d410dbd392a751f04bec5": {
          "model_module": "@jupyter-widgets/base",
          "model_name": "LayoutModel",
          "model_module_version": "1.2.0",
          "state": {
            "_model_module": "@jupyter-widgets/base",
            "_model_module_version": "1.2.0",
            "_model_name": "LayoutModel",
            "_view_count": null,
            "_view_module": "@jupyter-widgets/base",
            "_view_module_version": "1.2.0",
            "_view_name": "LayoutView",
            "align_content": null,
            "align_items": null,
            "align_self": null,
            "border": null,
            "bottom": null,
            "display": null,
            "flex": null,
            "flex_flow": null,
            "grid_area": null,
            "grid_auto_columns": null,
            "grid_auto_flow": null,
            "grid_auto_rows": null,
            "grid_column": null,
            "grid_gap": null,
            "grid_row": null,
            "grid_template_areas": null,
            "grid_template_columns": null,
            "grid_template_rows": null,
            "height": null,
            "justify_content": null,
            "justify_items": null,
            "left": null,
            "margin": null,
            "max_height": null,
            "max_width": null,
            "min_height": null,
            "min_width": null,
            "object_fit": null,
            "object_position": null,
            "order": null,
            "overflow": null,
            "overflow_x": null,
            "overflow_y": null,
            "padding": null,
            "right": null,
            "top": null,
            "visibility": null,
            "width": null
          }
        },
        "c19c53113ff54417a0dd9dba0b81bb08": {
          "model_module": "@jupyter-widgets/controls",
          "model_name": "DescriptionStyleModel",
          "model_module_version": "1.5.0",
          "state": {
            "_model_module": "@jupyter-widgets/controls",
            "_model_module_version": "1.5.0",
            "_model_name": "DescriptionStyleModel",
            "_view_count": null,
            "_view_module": "@jupyter-widgets/base",
            "_view_module_version": "1.2.0",
            "_view_name": "StyleView",
            "description_width": ""
          }
        },
        "2f7592251bd240409e1879bd3de59b2a": {
          "model_module": "@jupyter-widgets/base",
          "model_name": "LayoutModel",
          "model_module_version": "1.2.0",
          "state": {
            "_model_module": "@jupyter-widgets/base",
            "_model_module_version": "1.2.0",
            "_model_name": "LayoutModel",
            "_view_count": null,
            "_view_module": "@jupyter-widgets/base",
            "_view_module_version": "1.2.0",
            "_view_name": "LayoutView",
            "align_content": null,
            "align_items": null,
            "align_self": null,
            "border": null,
            "bottom": null,
            "display": null,
            "flex": null,
            "flex_flow": null,
            "grid_area": null,
            "grid_auto_columns": null,
            "grid_auto_flow": null,
            "grid_auto_rows": null,
            "grid_column": null,
            "grid_gap": null,
            "grid_row": null,
            "grid_template_areas": null,
            "grid_template_columns": null,
            "grid_template_rows": null,
            "height": null,
            "justify_content": null,
            "justify_items": null,
            "left": null,
            "margin": null,
            "max_height": null,
            "max_width": null,
            "min_height": null,
            "min_width": null,
            "object_fit": null,
            "object_position": null,
            "order": null,
            "overflow": null,
            "overflow_x": null,
            "overflow_y": null,
            "padding": null,
            "right": null,
            "top": null,
            "visibility": null,
            "width": null
          }
        },
        "d0eaa74bdbeb471c8e0d9bf1a9b655c9": {
          "model_module": "@jupyter-widgets/controls",
          "model_name": "ProgressStyleModel",
          "model_module_version": "1.5.0",
          "state": {
            "_model_module": "@jupyter-widgets/controls",
            "_model_module_version": "1.5.0",
            "_model_name": "ProgressStyleModel",
            "_view_count": null,
            "_view_module": "@jupyter-widgets/base",
            "_view_module_version": "1.2.0",
            "_view_name": "StyleView",
            "bar_color": null,
            "description_width": ""
          }
        },
        "72095d34d39e4ca889fc31ce26099afd": {
          "model_module": "@jupyter-widgets/base",
          "model_name": "LayoutModel",
          "model_module_version": "1.2.0",
          "state": {
            "_model_module": "@jupyter-widgets/base",
            "_model_module_version": "1.2.0",
            "_model_name": "LayoutModel",
            "_view_count": null,
            "_view_module": "@jupyter-widgets/base",
            "_view_module_version": "1.2.0",
            "_view_name": "LayoutView",
            "align_content": null,
            "align_items": null,
            "align_self": null,
            "border": null,
            "bottom": null,
            "display": null,
            "flex": null,
            "flex_flow": null,
            "grid_area": null,
            "grid_auto_columns": null,
            "grid_auto_flow": null,
            "grid_auto_rows": null,
            "grid_column": null,
            "grid_gap": null,
            "grid_row": null,
            "grid_template_areas": null,
            "grid_template_columns": null,
            "grid_template_rows": null,
            "height": null,
            "justify_content": null,
            "justify_items": null,
            "left": null,
            "margin": null,
            "max_height": null,
            "max_width": null,
            "min_height": null,
            "min_width": null,
            "object_fit": null,
            "object_position": null,
            "order": null,
            "overflow": null,
            "overflow_x": null,
            "overflow_y": null,
            "padding": null,
            "right": null,
            "top": null,
            "visibility": null,
            "width": null
          }
        },
        "3dc45ee38adc4c8696f52ccb4d2adad1": {
          "model_module": "@jupyter-widgets/controls",
          "model_name": "DescriptionStyleModel",
          "model_module_version": "1.5.0",
          "state": {
            "_model_module": "@jupyter-widgets/controls",
            "_model_module_version": "1.5.0",
            "_model_name": "DescriptionStyleModel",
            "_view_count": null,
            "_view_module": "@jupyter-widgets/base",
            "_view_module_version": "1.2.0",
            "_view_name": "StyleView",
            "description_width": ""
          }
        },
        "50770fea12544f868847a7f8302c01ae": {
          "model_module": "@jupyter-widgets/controls",
          "model_name": "HBoxModel",
          "model_module_version": "1.5.0",
          "state": {
            "_dom_classes": [],
            "_model_module": "@jupyter-widgets/controls",
            "_model_module_version": "1.5.0",
            "_model_name": "HBoxModel",
            "_view_count": null,
            "_view_module": "@jupyter-widgets/controls",
            "_view_module_version": "1.5.0",
            "_view_name": "HBoxView",
            "box_style": "",
            "children": [
              "IPY_MODEL_5b864c7b6e444245b1c59c943d10cfc0",
              "IPY_MODEL_191a1117c57f4d0d98959ff4cb75a1b2",
              "IPY_MODEL_cb06557d0d36461caac21fdc7f0ddc3b"
            ],
            "layout": "IPY_MODEL_cbd83a3602c343178ce5a843b3029f6b"
          }
        },
        "5b864c7b6e444245b1c59c943d10cfc0": {
          "model_module": "@jupyter-widgets/controls",
          "model_name": "HTMLModel",
          "model_module_version": "1.5.0",
          "state": {
            "_dom_classes": [],
            "_model_module": "@jupyter-widgets/controls",
            "_model_module_version": "1.5.0",
            "_model_name": "HTMLModel",
            "_view_count": null,
            "_view_module": "@jupyter-widgets/controls",
            "_view_module_version": "1.5.0",
            "_view_name": "HTMLView",
            "description": "",
            "description_tooltip": null,
            "layout": "IPY_MODEL_95c8ed1a5f2b431ea5208a50942b359c",
            "placeholder": "​",
            "style": "IPY_MODEL_0400f7ac86564686a21e4cf8baa778be",
            "value": "model.onnx: 100%"
          }
        },
        "191a1117c57f4d0d98959ff4cb75a1b2": {
          "model_module": "@jupyter-widgets/controls",
          "model_name": "FloatProgressModel",
          "model_module_version": "1.5.0",
          "state": {
            "_dom_classes": [],
            "_model_module": "@jupyter-widgets/controls",
            "_model_module_version": "1.5.0",
            "_model_name": "FloatProgressModel",
            "_view_count": null,
            "_view_module": "@jupyter-widgets/controls",
            "_view_module_version": "1.5.0",
            "_view_name": "ProgressView",
            "bar_style": "success",
            "description": "",
            "description_tooltip": null,
            "layout": "IPY_MODEL_ce467348d293476089da0854bbbbf412",
            "max": 46865550,
            "min": 0,
            "orientation": "horizontal",
            "style": "IPY_MODEL_158ed537ddce43b0a9c27d321da78da7",
            "value": 46865550
          }
        },
        "cb06557d0d36461caac21fdc7f0ddc3b": {
          "model_module": "@jupyter-widgets/controls",
          "model_name": "HTMLModel",
          "model_module_version": "1.5.0",
          "state": {
            "_dom_classes": [],
            "_model_module": "@jupyter-widgets/controls",
            "_model_module_version": "1.5.0",
            "_model_name": "HTMLModel",
            "_view_count": null,
            "_view_module": "@jupyter-widgets/controls",
            "_view_module_version": "1.5.0",
            "_view_name": "HTMLView",
            "description": "",
            "description_tooltip": null,
            "layout": "IPY_MODEL_f2eae74f1b274073aef23629729c88ac",
            "placeholder": "​",
            "style": "IPY_MODEL_dd3e25f24c894102bd8d66686d0ea620",
            "value": " 46.9M/46.9M [00:00&lt;00:00, 188MB/s]"
          }
        },
        "cbd83a3602c343178ce5a843b3029f6b": {
          "model_module": "@jupyter-widgets/base",
          "model_name": "LayoutModel",
          "model_module_version": "1.2.0",
          "state": {
            "_model_module": "@jupyter-widgets/base",
            "_model_module_version": "1.2.0",
            "_model_name": "LayoutModel",
            "_view_count": null,
            "_view_module": "@jupyter-widgets/base",
            "_view_module_version": "1.2.0",
            "_view_name": "LayoutView",
            "align_content": null,
            "align_items": null,
            "align_self": null,
            "border": null,
            "bottom": null,
            "display": null,
            "flex": null,
            "flex_flow": null,
            "grid_area": null,
            "grid_auto_columns": null,
            "grid_auto_flow": null,
            "grid_auto_rows": null,
            "grid_column": null,
            "grid_gap": null,
            "grid_row": null,
            "grid_template_areas": null,
            "grid_template_columns": null,
            "grid_template_rows": null,
            "height": null,
            "justify_content": null,
            "justify_items": null,
            "left": null,
            "margin": null,
            "max_height": null,
            "max_width": null,
            "min_height": null,
            "min_width": null,
            "object_fit": null,
            "object_position": null,
            "order": null,
            "overflow": null,
            "overflow_x": null,
            "overflow_y": null,
            "padding": null,
            "right": null,
            "top": null,
            "visibility": null,
            "width": null
          }
        },
        "95c8ed1a5f2b431ea5208a50942b359c": {
          "model_module": "@jupyter-widgets/base",
          "model_name": "LayoutModel",
          "model_module_version": "1.2.0",
          "state": {
            "_model_module": "@jupyter-widgets/base",
            "_model_module_version": "1.2.0",
            "_model_name": "LayoutModel",
            "_view_count": null,
            "_view_module": "@jupyter-widgets/base",
            "_view_module_version": "1.2.0",
            "_view_name": "LayoutView",
            "align_content": null,
            "align_items": null,
            "align_self": null,
            "border": null,
            "bottom": null,
            "display": null,
            "flex": null,
            "flex_flow": null,
            "grid_area": null,
            "grid_auto_columns": null,
            "grid_auto_flow": null,
            "grid_auto_rows": null,
            "grid_column": null,
            "grid_gap": null,
            "grid_row": null,
            "grid_template_areas": null,
            "grid_template_columns": null,
            "grid_template_rows": null,
            "height": null,
            "justify_content": null,
            "justify_items": null,
            "left": null,
            "margin": null,
            "max_height": null,
            "max_width": null,
            "min_height": null,
            "min_width": null,
            "object_fit": null,
            "object_position": null,
            "order": null,
            "overflow": null,
            "overflow_x": null,
            "overflow_y": null,
            "padding": null,
            "right": null,
            "top": null,
            "visibility": null,
            "width": null
          }
        },
        "0400f7ac86564686a21e4cf8baa778be": {
          "model_module": "@jupyter-widgets/controls",
          "model_name": "DescriptionStyleModel",
          "model_module_version": "1.5.0",
          "state": {
            "_model_module": "@jupyter-widgets/controls",
            "_model_module_version": "1.5.0",
            "_model_name": "DescriptionStyleModel",
            "_view_count": null,
            "_view_module": "@jupyter-widgets/base",
            "_view_module_version": "1.2.0",
            "_view_name": "StyleView",
            "description_width": ""
          }
        },
        "ce467348d293476089da0854bbbbf412": {
          "model_module": "@jupyter-widgets/base",
          "model_name": "LayoutModel",
          "model_module_version": "1.2.0",
          "state": {
            "_model_module": "@jupyter-widgets/base",
            "_model_module_version": "1.2.0",
            "_model_name": "LayoutModel",
            "_view_count": null,
            "_view_module": "@jupyter-widgets/base",
            "_view_module_version": "1.2.0",
            "_view_name": "LayoutView",
            "align_content": null,
            "align_items": null,
            "align_self": null,
            "border": null,
            "bottom": null,
            "display": null,
            "flex": null,
            "flex_flow": null,
            "grid_area": null,
            "grid_auto_columns": null,
            "grid_auto_flow": null,
            "grid_auto_rows": null,
            "grid_column": null,
            "grid_gap": null,
            "grid_row": null,
            "grid_template_areas": null,
            "grid_template_columns": null,
            "grid_template_rows": null,
            "height": null,
            "justify_content": null,
            "justify_items": null,
            "left": null,
            "margin": null,
            "max_height": null,
            "max_width": null,
            "min_height": null,
            "min_width": null,
            "object_fit": null,
            "object_position": null,
            "order": null,
            "overflow": null,
            "overflow_x": null,
            "overflow_y": null,
            "padding": null,
            "right": null,
            "top": null,
            "visibility": null,
            "width": null
          }
        },
        "158ed537ddce43b0a9c27d321da78da7": {
          "model_module": "@jupyter-widgets/controls",
          "model_name": "ProgressStyleModel",
          "model_module_version": "1.5.0",
          "state": {
            "_model_module": "@jupyter-widgets/controls",
            "_model_module_version": "1.5.0",
            "_model_name": "ProgressStyleModel",
            "_view_count": null,
            "_view_module": "@jupyter-widgets/base",
            "_view_module_version": "1.2.0",
            "_view_name": "StyleView",
            "bar_color": null,
            "description_width": ""
          }
        },
        "f2eae74f1b274073aef23629729c88ac": {
          "model_module": "@jupyter-widgets/base",
          "model_name": "LayoutModel",
          "model_module_version": "1.2.0",
          "state": {
            "_model_module": "@jupyter-widgets/base",
            "_model_module_version": "1.2.0",
            "_model_name": "LayoutModel",
            "_view_count": null,
            "_view_module": "@jupyter-widgets/base",
            "_view_module_version": "1.2.0",
            "_view_name": "LayoutView",
            "align_content": null,
            "align_items": null,
            "align_self": null,
            "border": null,
            "bottom": null,
            "display": null,
            "flex": null,
            "flex_flow": null,
            "grid_area": null,
            "grid_auto_columns": null,
            "grid_auto_flow": null,
            "grid_auto_rows": null,
            "grid_column": null,
            "grid_gap": null,
            "grid_row": null,
            "grid_template_areas": null,
            "grid_template_columns": null,
            "grid_template_rows": null,
            "height": null,
            "justify_content": null,
            "justify_items": null,
            "left": null,
            "margin": null,
            "max_height": null,
            "max_width": null,
            "min_height": null,
            "min_width": null,
            "object_fit": null,
            "object_position": null,
            "order": null,
            "overflow": null,
            "overflow_x": null,
            "overflow_y": null,
            "padding": null,
            "right": null,
            "top": null,
            "visibility": null,
            "width": null
          }
        },
        "dd3e25f24c894102bd8d66686d0ea620": {
          "model_module": "@jupyter-widgets/controls",
          "model_name": "DescriptionStyleModel",
          "model_module_version": "1.5.0",
          "state": {
            "_model_module": "@jupyter-widgets/controls",
            "_model_module_version": "1.5.0",
            "_model_name": "DescriptionStyleModel",
            "_view_count": null,
            "_view_module": "@jupyter-widgets/base",
            "_view_module_version": "1.2.0",
            "_view_name": "StyleView",
            "description_width": ""
          }
        }
      }
    }
  },
  "nbformat": 4,
  "nbformat_minor": 5
}