{
 "cells": [
  {
   "cell_type": "code",
   "execution_count": 1,
   "metadata": {
    "id": "IzyYUm9noGjZ"
   },
   "outputs": [],
   "source": [
    "import torch\n",
    "import torch.nn as nn\n",
    "import torchvision.models as models\n",
    "import torchvision.transforms as transforms\n",
    "from PIL import Image"
   ]
  },
  {
   "cell_type": "code",
   "execution_count": 2,
   "metadata": {
    "id": "B1GeR-dKyzVF"
   },
   "outputs": [],
   "source": [
    "# dir(models)"
   ]
  },
  {
   "cell_type": "code",
   "execution_count": 3,
   "metadata": {
    "colab": {
     "base_uri": "https://localhost:8080/"
    },
    "id": "G_ZwwEyNoGja",
    "outputId": "6196804c-a98a-4776-dbdc-30452b015cd6"
   },
   "outputs": [
    {
     "name": "stderr",
     "output_type": "stream",
     "text": [
      "/Users/m.qasim/anaconda3/lib/python3.11/site-packages/torchvision/models/_utils.py:208: UserWarning: The parameter 'pretrained' is deprecated since 0.13 and may be removed in the future, please use 'weights' instead.\n",
      "  warnings.warn(\n",
      "/Users/m.qasim/anaconda3/lib/python3.11/site-packages/torchvision/models/_utils.py:223: UserWarning: Arguments other than a weight enum or `None` for 'weights' are deprecated since 0.13 and may be removed in the future. The current behavior is equivalent to passing `weights=ResNet18_Weights.IMAGENET1K_V1`. You can also use `weights=ResNet18_Weights.DEFAULT` to get the most up-to-date weights.\n",
      "  warnings.warn(msg)\n"
     ]
    },
    {
     "data": {
      "text/plain": [
       "Sequential(\n",
       "  (0): Conv2d(3, 64, kernel_size=(7, 7), stride=(2, 2), padding=(3, 3), bias=False)\n",
       "  (1): BatchNorm2d(64, eps=1e-05, momentum=0.1, affine=True, track_running_stats=True)\n",
       "  (2): ReLU(inplace=True)\n",
       "  (3): MaxPool2d(kernel_size=3, stride=2, padding=1, dilation=1, ceil_mode=False)\n",
       "  (4): Sequential(\n",
       "    (0): BasicBlock(\n",
       "      (conv1): Conv2d(64, 64, kernel_size=(3, 3), stride=(1, 1), padding=(1, 1), bias=False)\n",
       "      (bn1): BatchNorm2d(64, eps=1e-05, momentum=0.1, affine=True, track_running_stats=True)\n",
       "      (relu): ReLU(inplace=True)\n",
       "      (conv2): Conv2d(64, 64, kernel_size=(3, 3), stride=(1, 1), padding=(1, 1), bias=False)\n",
       "      (bn2): BatchNorm2d(64, eps=1e-05, momentum=0.1, affine=True, track_running_stats=True)\n",
       "    )\n",
       "    (1): BasicBlock(\n",
       "      (conv1): Conv2d(64, 64, kernel_size=(3, 3), stride=(1, 1), padding=(1, 1), bias=False)\n",
       "      (bn1): BatchNorm2d(64, eps=1e-05, momentum=0.1, affine=True, track_running_stats=True)\n",
       "      (relu): ReLU(inplace=True)\n",
       "      (conv2): Conv2d(64, 64, kernel_size=(3, 3), stride=(1, 1), padding=(1, 1), bias=False)\n",
       "      (bn2): BatchNorm2d(64, eps=1e-05, momentum=0.1, affine=True, track_running_stats=True)\n",
       "    )\n",
       "  )\n",
       "  (5): Sequential(\n",
       "    (0): BasicBlock(\n",
       "      (conv1): Conv2d(64, 128, kernel_size=(3, 3), stride=(2, 2), padding=(1, 1), bias=False)\n",
       "      (bn1): BatchNorm2d(128, eps=1e-05, momentum=0.1, affine=True, track_running_stats=True)\n",
       "      (relu): ReLU(inplace=True)\n",
       "      (conv2): Conv2d(128, 128, kernel_size=(3, 3), stride=(1, 1), padding=(1, 1), bias=False)\n",
       "      (bn2): BatchNorm2d(128, eps=1e-05, momentum=0.1, affine=True, track_running_stats=True)\n",
       "      (downsample): Sequential(\n",
       "        (0): Conv2d(64, 128, kernel_size=(1, 1), stride=(2, 2), bias=False)\n",
       "        (1): BatchNorm2d(128, eps=1e-05, momentum=0.1, affine=True, track_running_stats=True)\n",
       "      )\n",
       "    )\n",
       "    (1): BasicBlock(\n",
       "      (conv1): Conv2d(128, 128, kernel_size=(3, 3), stride=(1, 1), padding=(1, 1), bias=False)\n",
       "      (bn1): BatchNorm2d(128, eps=1e-05, momentum=0.1, affine=True, track_running_stats=True)\n",
       "      (relu): ReLU(inplace=True)\n",
       "      (conv2): Conv2d(128, 128, kernel_size=(3, 3), stride=(1, 1), padding=(1, 1), bias=False)\n",
       "      (bn2): BatchNorm2d(128, eps=1e-05, momentum=0.1, affine=True, track_running_stats=True)\n",
       "    )\n",
       "  )\n",
       "  (6): Sequential(\n",
       "    (0): BasicBlock(\n",
       "      (conv1): Conv2d(128, 256, kernel_size=(3, 3), stride=(2, 2), padding=(1, 1), bias=False)\n",
       "      (bn1): BatchNorm2d(256, eps=1e-05, momentum=0.1, affine=True, track_running_stats=True)\n",
       "      (relu): ReLU(inplace=True)\n",
       "      (conv2): Conv2d(256, 256, kernel_size=(3, 3), stride=(1, 1), padding=(1, 1), bias=False)\n",
       "      (bn2): BatchNorm2d(256, eps=1e-05, momentum=0.1, affine=True, track_running_stats=True)\n",
       "      (downsample): Sequential(\n",
       "        (0): Conv2d(128, 256, kernel_size=(1, 1), stride=(2, 2), bias=False)\n",
       "        (1): BatchNorm2d(256, eps=1e-05, momentum=0.1, affine=True, track_running_stats=True)\n",
       "      )\n",
       "    )\n",
       "    (1): BasicBlock(\n",
       "      (conv1): Conv2d(256, 256, kernel_size=(3, 3), stride=(1, 1), padding=(1, 1), bias=False)\n",
       "      (bn1): BatchNorm2d(256, eps=1e-05, momentum=0.1, affine=True, track_running_stats=True)\n",
       "      (relu): ReLU(inplace=True)\n",
       "      (conv2): Conv2d(256, 256, kernel_size=(3, 3), stride=(1, 1), padding=(1, 1), bias=False)\n",
       "      (bn2): BatchNorm2d(256, eps=1e-05, momentum=0.1, affine=True, track_running_stats=True)\n",
       "    )\n",
       "  )\n",
       "  (7): Sequential(\n",
       "    (0): BasicBlock(\n",
       "      (conv1): Conv2d(256, 512, kernel_size=(3, 3), stride=(2, 2), padding=(1, 1), bias=False)\n",
       "      (bn1): BatchNorm2d(512, eps=1e-05, momentum=0.1, affine=True, track_running_stats=True)\n",
       "      (relu): ReLU(inplace=True)\n",
       "      (conv2): Conv2d(512, 512, kernel_size=(3, 3), stride=(1, 1), padding=(1, 1), bias=False)\n",
       "      (bn2): BatchNorm2d(512, eps=1e-05, momentum=0.1, affine=True, track_running_stats=True)\n",
       "      (downsample): Sequential(\n",
       "        (0): Conv2d(256, 512, kernel_size=(1, 1), stride=(2, 2), bias=False)\n",
       "        (1): BatchNorm2d(512, eps=1e-05, momentum=0.1, affine=True, track_running_stats=True)\n",
       "      )\n",
       "    )\n",
       "    (1): BasicBlock(\n",
       "      (conv1): Conv2d(512, 512, kernel_size=(3, 3), stride=(1, 1), padding=(1, 1), bias=False)\n",
       "      (bn1): BatchNorm2d(512, eps=1e-05, momentum=0.1, affine=True, track_running_stats=True)\n",
       "      (relu): ReLU(inplace=True)\n",
       "      (conv2): Conv2d(512, 512, kernel_size=(3, 3), stride=(1, 1), padding=(1, 1), bias=False)\n",
       "      (bn2): BatchNorm2d(512, eps=1e-05, momentum=0.1, affine=True, track_running_stats=True)\n",
       "    )\n",
       "  )\n",
       "  (8): AdaptiveAvgPool2d(output_size=(1, 1))\n",
       ")"
      ]
     },
     "execution_count": 3,
     "metadata": {},
     "output_type": "execute_result"
    }
   ],
   "source": [
    "# Load the pre-trained ResNet model\n",
    "model = models.resnet18(pretrained=True)\n",
    "model = nn.Sequential(*list(model.children())[:-1])  # Remove the last fully connected layer\n",
    "\n",
    "# Set the model in evaluation mode (important when using pre-trained models)\n",
    "model.eval()\n",
    "\n"
   ]
  },
  {
   "cell_type": "code",
   "execution_count": 4,
   "metadata": {
    "id": "5dQInOsn5e1r"
   },
   "outputs": [],
   "source": [
    "# # Example usage\n",
    "# image_path = \"./images/q2.jpg\"\n",
    "# q2 = create_image_embedding(image_path)\n",
    "\n",
    "# # 'embedding' now contains a dense vector representation of the image\n",
    "# print(\"Image Embedding Shape:\", q2.shape)\n",
    "# print(\"Image Embedding:\", q2[0])"
   ]
  },
  {
   "cell_type": "code",
   "execution_count": 5,
   "metadata": {
    "id": "1VngYmPd56Rp"
   },
   "outputs": [],
   "source": [
    "# # prompt: create function which take np array and display in matplotlib\n",
    "\n",
    "# import matplotlib.pyplot as plt\n",
    "# import numpy as np\n",
    "\n",
    "# def display_np_array(np_array):\n",
    "#   \"\"\"\n",
    "#   Displays a NumPy array as an image using matplotlib.\n",
    "\n",
    "#   Args:\n",
    "#     np_array: The NumPy array to display.\n",
    "#   \"\"\"\n",
    "#   plt.imshow(np_array)\n",
    "#   plt.axis('off')  # Hide axis labels\n",
    "#   plt.show()\n",
    "\n",
    "# # Example usage:\n",
    "# for i in q2[:10]:\n",
    "#   display_np_array(i)"
   ]
  },
  {
   "cell_type": "code",
   "execution_count": 6,
   "metadata": {
    "id": "lI0W5fdXoGja"
   },
   "outputs": [],
   "source": [
    "# Preprocessing function to transform the image into a tensor\n",
    "def preprocess_image(image_path):\n",
    "    image = Image.open(image_path).convert('RGB')\n",
    "    preprocess = transforms.Compose([\n",
    "        transforms.Resize((224, 224)),\n",
    "        transforms.ToTensor(),\n",
    "        transforms.Normalize(mean=[0.485, 0.456, 0.406], std=[0.229, 0.224, 0.225]),\n",
    "    ])\n",
    "    return preprocess(image).unsqueeze(0)\n",
    "\n",
    "# Function to create image embeddings\n",
    "def create_image_embedding(image_path):\n",
    "    try:\n",
    "        input_tensor = preprocess_image(image_path)\n",
    "        with torch.no_grad():\n",
    "            embeddings = model(input_tensor)\n",
    "        return embeddings.squeeze().numpy()\n",
    "    except Exception as e:\n",
    "        print(\"Error:\", e)\n",
    "        return None"
   ]
  },
  {
   "cell_type": "code",
   "execution_count": 7,
   "metadata": {},
   "outputs": [],
   "source": [
    "!mkdir images"
   ]
  },
  {
   "cell_type": "code",
   "execution_count": 8,
   "metadata": {
    "colab": {
     "base_uri": "https://localhost:8080/"
    },
    "id": "5FJHxL_V2RTt",
    "outputId": "86630518-10c2-407c-a29e-194099755543"
   },
   "outputs": [
    {
     "name": "stdout",
     "output_type": "stream",
     "text": [
      "Image saved to: images/q1.jpg\n",
      "Image saved to: images/q2.jpg\n",
      "Image saved to: images/h1.jpg\n",
      "Image saved to: images/h2.jpg\n",
      "Image saved to: images/A1.jpg\n"
     ]
    }
   ],
   "source": [
    "# prompt: create python function where we provide image url and imag_name then it save in images folder\n",
    "\n",
    "import requests\n",
    "import os\n",
    "\n",
    "def save_image_from_url(image_url, image_name):\n",
    "  \"\"\"\n",
    "  Downloads an image from a URL and saves it to the 'images' folder.\n",
    "\n",
    "  Args:\n",
    "    image_url: The URL of the image to download.\n",
    "    image_name: The name of the file to save the image as.\n",
    "  \"\"\"\n",
    "  try:\n",
    "    if not os.path.exists(\"images\"):\n",
    "      os.makedirs(\"images\")\n",
    "\n",
    "    image_path = os.path.join(\"images\", image_name)\n",
    "\n",
    "    response = requests.get(image_url, stream=True)\n",
    "    response.raise_for_status()  # Raise an exception for bad status codes\n",
    "\n",
    "    with open(image_path, 'wb') as file:\n",
    "      for chunk in response.iter_content(chunk_size=8192):\n",
    "        file.write(chunk)\n",
    "\n",
    "    print(f\"Image saved to: {image_path}\")\n",
    "  except requests.exceptions.RequestException as e:\n",
    "    print(f\"Error downloading image: {e}\")\n",
    "  except Exception as e:\n",
    "    print(f\"An error occurred: {e}\")\n",
    "\n",
    "# Example usage:\n",
    "save_image_from_url(\"https://avatars.githubusercontent.com/u/10209765?v=4\", \"q1.jpg\")\n",
    "save_image_from_url(\"https://scontent.flhe5-1.fna.fbcdn.net/v/t39.30808-6/275917794_2482492235218885_4631272504791956142_n.jpg?_nc_cat=103&ccb=1-7&_nc_sid=833d8c&_nc_eui2=AeHWuAbPJsRKclcWUiLf-78jMiaC2CiK4ZgyJoLYKIrhmMdy2cLHzWmpcFVskYm2ChfuyhdVN9VMPs55LhPMDm-6&_nc_ohc=rTXzYJIY6R4Q7kNvgHeCZhU&_nc_ht=scontent.flhe5-1.fna&_nc_gid=Ak7A0qn1buL26YLzRmYBUIQ&oh=00_AYDzPBEgY-tyYYe9DC819siNMBwnxEB9woRpEh91lyD6cw&oe=670BEB7F\",\"q2.jpg\")\n",
    "save_image_from_url(\"https://scontent.flhe5-1.fna.fbcdn.net/v/t1.6435-9/80770231_10158241831915110_2824355560248311808_n.jpg?_nc_cat=102&ccb=1-7&_nc_sid=53a332&_nc_eui2=AeHxgLWZH6mZs3OJZueXokAPbBBX0JxSoV1sEFfQnFKhXVQQEpG0a47SMMmu7nqO0CC_TEa-Nrz6cLqc_FoFhAWM&_nc_ohc=AFb7RaP27z8Q7kNvgG-rPiE&_nc_ht=scontent.flhe5-1.fna&_nc_gid=A-ZJO7l_HWmWLMRPFKkhiiL&oh=00_AYBu1YcF9aupbOH6SO-y0dMyklGfn_FTgS-SUH9myo-cbw&oe=672D7322\", \"h1.jpg\")\n",
    "\n",
    "save_image_from_url(\"https://scontent.flhe5-1.fna.fbcdn.net/v/t1.6435-9/57852293_10157567842240110_2049896192829030400_n.jpg?_nc_cat=107&ccb=1-7&_nc_sid=53a332&_nc_eui2=AeEk4kVaDhD8ghq2pE2VWHEvoIBfz4kPusWggF_PiQ-6xc95tElCENMHaVjT4rqx4loWXPjEBs9uS2TyF3L6qrPN&_nc_ohc=bIrCwv4iw-QQ7kNvgG-g1rV&_nc_ht=scontent.flhe5-1.fna&_nc_gid=APG5eTMipqurWuTWOT0sLfC&oh=00_AYDOPUUSqr4qLJKIjS4AwmGl3uTOmCpke5hR_PGZZG00sA&oe=672DA3AA\", \"h2.jpg\")\n",
    "\n",
    "\n",
    "save_image_from_url(\"https://scontent.flhe5-1.fna.fbcdn.net/v/t1.6435-9/47425086_2240250332965313_3527440100285743104_n.jpg?_nc_cat=103&ccb=1-7&_nc_sid=1d70fc&_nc_eui2=AeFHMD0V-pT550US1hioWspj6om7m_QzEgHqibub9DMSAf1_3V8DBfRGbI3TECCZAAuqZGAPyqXTc6Jeo4f08mni&_nc_ohc=spkDK-weatwQ7kNvgH9MGeE&_nc_ht=scontent.flhe5-1.fna&_nc_gid=Ak4ceYw7zLnpVTD1UQf31dE&oh=00_AYB6X9A-fi5RVN3lieGslRv43oaw8jjYG0i-iNN4lKt3qA&oe=672D85D3\",'A1.jpg')"
   ]
  },
  {
   "cell_type": "code",
   "execution_count": 9,
   "metadata": {
    "colab": {
     "base_uri": "https://localhost:8080/"
    },
    "id": "_bZbg16koGja",
    "outputId": "7e0c92ec-d526-4a03-d622-e819a36e4717"
   },
   "outputs": [
    {
     "name": "stdout",
     "output_type": "stream",
     "text": [
      "Image Embedding Shape: (512,)\n",
      "Image Embedding: [8.15839171e-01 5.99342659e-02 4.96222824e-01 8.64529967e-01\n",
      " 1.40455589e-02 6.40409207e-03 4.05770749e-01 1.67771891e-01\n",
      " 8.38165104e-01 6.70196533e-01 1.52981508e+00 6.17084280e-03\n",
      " 1.52186775e+00 2.08340064e-01 1.62150085e-01 2.40143910e-02\n",
      " 1.47622263e+00 1.07876372e+00 2.76438057e-01 4.41021889e-01\n",
      " 5.28484117e-03 1.25692439e+00 1.49261560e-02 5.82586348e-01\n",
      " 8.62076223e-01 8.37341487e-01 2.61781216e-01 3.25079989e+00\n",
      " 2.73344696e-01 7.22388104e-02 1.04975605e+00 4.78689298e-02\n",
      " 2.55416274e-01 2.42821622e+00 2.25349069e+00 1.79393315e+00\n",
      " 2.29173899e-01 4.68205422e-01 8.29575300e-01 2.73627996e-01\n",
      " 1.22443236e-01 7.51835704e-01 1.64560705e-01 1.08503246e+00\n",
      " 5.57830691e-01 3.29012513e-01 1.09556997e+00 6.17739856e-01\n",
      " 9.24212694e-01 1.82330155e+00 3.91783118e-01 2.41398625e-03\n",
      " 5.41148782e-02 3.77172559e-01 1.86459795e-01 8.11138391e-01\n",
      " 6.48537397e-01 8.82646203e-01 9.42807674e-01 1.74094498e+00\n",
      " 1.91725218e+00 3.85530926e-02 1.05112517e+00 9.83009577e-01\n",
      " 2.50445902e-01 1.17961764e+00 5.22009611e-01 3.85745734e-01\n",
      " 3.94717515e-01 6.97812811e-02 1.15876734e+00 1.16735804e+00\n",
      " 6.17380179e-02 1.23775192e-01 4.86021549e-01 1.16207816e-01\n",
      " 4.00293440e-01 2.34302139e+00 1.07098472e+00 3.06499219e+00\n",
      " 1.13229620e+00 5.90006292e-01 6.65468514e-01 2.81721997e+00\n",
      " 3.81082386e-01 5.79701848e-02 5.19795120e-01 3.37777250e-02\n",
      " 2.03679413e-01 2.77328300e+00 4.25380945e-01 1.56254280e+00\n",
      " 4.81431335e-02 2.87807178e+00 6.84967875e-01 9.35587585e-01\n",
      " 1.49258482e+00 9.22856152e-01 8.72244760e-02 4.60215032e-01\n",
      " 2.97085226e-01 3.44357461e-01 1.76115662e-01 6.04141176e-01\n",
      " 1.06803286e+00 2.64218301e-02 2.67529917e+00 1.05891287e-01\n",
      " 7.30725646e-01 5.58584034e-02 1.45149231e+00 5.29993176e-01\n",
      " 2.79282421e-01 1.20860875e+00 2.93379998e+00 4.85194335e-03\n",
      " 1.16856384e+00 8.71748030e-01 2.11811438e-01 2.04675883e-01\n",
      " 1.93081677e+00 4.62964028e-01 4.67119068e-01 2.96723787e-02\n",
      " 5.77634871e-01 1.88304305e+00 3.39093804e-02 8.55784416e-02\n",
      " 2.75711417e-01 1.70305580e-01 1.75381374e+00 2.02482224e-01\n",
      " 5.85098751e-02 1.00793958e+00 5.56628287e-01 4.03380573e-01\n",
      " 3.10468167e-01 9.78254616e-01 1.16927958e+00 2.41417050e+00\n",
      " 2.16295648e+00 1.38671196e+00 4.02756706e-02 2.26696387e-01\n",
      " 2.64677536e-02 3.18367660e-01 9.77215528e-01 1.01227510e+00\n",
      " 8.61437321e-01 5.55805624e-01 2.50871748e-01 3.95763777e-02\n",
      " 2.05767393e+00 1.66689825e+00 1.09332335e+00 1.44454610e+00\n",
      " 2.22932410e+00 8.42889957e-03 4.59586799e-01 5.19585609e-01\n",
      " 4.98139203e-01 7.92167664e-01 9.84170854e-01 6.30627394e-01\n",
      " 3.85644615e-01 5.98360538e-01 6.71276748e-02 3.52235407e-01\n",
      " 9.85996544e-01 9.36913311e-01 7.17917979e-01 5.66863179e-01\n",
      " 1.55342510e-02 5.50872684e-01 2.84534004e-02 9.06931579e-01\n",
      " 9.84126478e-02 2.11267665e-01 6.64300978e-01 9.94873524e-01\n",
      " 5.37403345e-01 1.17476308e+00 1.02272677e+00 1.96843100e+00\n",
      " 1.80091619e+00 1.59141016e+00 8.59259605e-01 4.11830366e-01\n",
      " 3.60641003e-01 8.72031569e-01 2.43472725e-01 3.04252774e-01\n",
      " 7.01558471e-01 1.88444078e-01 7.20743299e-01 2.15565610e+00\n",
      " 7.89436877e-01 7.25999773e-02 1.33961880e+00 3.16546381e-01\n",
      " 3.99222612e+00 7.15533376e-01 2.41346359e+00 6.49445891e-01\n",
      " 1.49935472e+00 7.36055970e-02 7.71402299e-01 5.16724825e-01\n",
      " 6.03977263e-01 1.34647894e+00 5.72640263e-03 8.44920158e-01\n",
      " 1.15507007e-01 2.90217102e-01 1.72369134e+00 1.45149338e+00\n",
      " 1.75177634e-01 7.83476710e-01 1.35944441e-01 2.67796993e-01\n",
      " 4.14517701e-01 4.28234190e-01 4.20410465e-03 2.35611111e-01\n",
      " 8.24980438e-01 6.77573979e-01 2.56149220e+00 1.99049339e-03\n",
      " 3.83104873e+00 1.85037732e+00 7.02246666e-01 6.30549714e-02\n",
      " 6.25705719e-01 1.92207348e+00 9.53505188e-02 4.64383483e-01\n",
      " 2.46651101e+00 0.00000000e+00 1.47523975e+00 3.19648099e+00\n",
      " 1.14717774e-01 7.88863540e-01 5.92502020e-03 4.21573132e-01\n",
      " 8.94081116e-01 3.22528303e-01 1.75791025e+00 2.54757702e-01\n",
      " 6.85879290e-01 2.20711231e+00 3.56310654e+00 5.37053086e-02\n",
      " 2.00072862e-02 1.05315042e+00 3.96265566e-01 1.53761256e+00\n",
      " 7.73627818e-01 4.50448334e-01 6.85033977e-01 1.04072678e+00\n",
      " 5.62741570e-02 1.01151869e-01 1.42422533e+00 3.66336405e-02\n",
      " 2.97423661e-01 4.54117870e-03 4.14555311e-01 2.63458848e-01\n",
      " 2.04400495e-01 3.12715739e-01 2.35651568e-01 2.55119979e-01\n",
      " 5.16662776e-01 1.97222340e+00 3.31622779e-01 1.89841077e-01\n",
      " 2.40222383e+00 1.85557902e+00 7.57400990e-01 8.28491509e-01\n",
      " 6.81393504e-01 1.29787064e+00 7.13792861e-01 5.90725422e-01\n",
      " 1.91963881e-01 6.87746704e-02 5.62105894e-01 2.17197880e-01\n",
      " 2.28485894e+00 5.18764794e-01 3.26011516e-02 3.26889127e-01\n",
      " 4.83145356e-01 1.54357806e-01 1.13806057e+00 6.85209259e-02\n",
      " 1.82411093e-02 3.41911745e+00 1.50822651e+00 7.08871782e-01\n",
      " 8.22762787e-01 6.51270568e-01 3.30748153e+00 4.16560024e-01\n",
      " 1.34529841e+00 1.41818178e+00 5.15307784e-02 1.80018917e-01\n",
      " 8.85425285e-02 1.92969370e+00 9.83867273e-02 2.95021683e-01\n",
      " 2.48167217e-01 6.99245274e-01 5.15952110e-01 6.14408791e-01\n",
      " 0.00000000e+00 1.11515142e-01 3.24167037e+00 4.85537946e-01\n",
      " 1.40597987e+00 2.76499003e-01 1.68417349e-01 1.81958154e-01\n",
      " 6.35841310e-01 9.59613979e-01 1.11433065e+00 0.00000000e+00\n",
      " 1.37883604e-01 4.86234248e-01 4.18922335e-01 1.62581235e-01\n",
      " 5.40538669e-01 1.89118937e-01 3.02803129e-01 2.42567845e-02\n",
      " 7.40928829e-01 9.08629894e-01 2.81527615e+00 8.62260103e-01\n",
      " 1.04795313e+00 6.08439207e-01 2.27997828e+00 2.90662909e+00\n",
      " 9.08688545e-01 2.18549922e-01 1.92361546e+00 1.05788672e+00\n",
      " 9.27811146e-01 1.82320550e-01 1.70850515e-01 5.65918565e-01\n",
      " 3.15606967e-02 3.39742541e-01 1.50020027e+00 1.98712677e-01\n",
      " 1.24630421e-01 1.55060434e+00 6.47362828e-01 1.03080153e+00\n",
      " 6.74262345e-02 4.20333445e-01 1.29735744e+00 1.49240047e-01\n",
      " 8.08350921e-01 3.03166807e-01 1.54097068e+00 1.63575017e+00\n",
      " 1.47891343e+00 2.83277810e-01 9.28106904e-01 5.06301165e-01\n",
      " 1.27239299e+00 5.89414179e-01 2.72811860e-01 2.17964530e-01\n",
      " 3.98923367e-01 2.03798696e-01 1.84698927e+00 1.30295908e+00\n",
      " 2.64237142e+00 1.16412230e-01 2.21292168e-01 1.18122673e+00\n",
      " 3.69519424e+00 2.54202574e-01 6.18375778e-01 3.16376984e-02\n",
      " 1.28525460e+00 3.30515534e-01 5.48271477e-01 9.91692364e-01\n",
      " 3.28385097e-04 1.24254072e+00 7.54910231e-01 1.13914371e+00\n",
      " 4.65631127e-01 8.49727541e-02 5.57543933e-01 1.13039160e+00\n",
      " 3.54127121e+00 2.22210860e+00 5.31036794e-01 2.34718397e-01\n",
      " 7.09779281e-03 1.26059318e+00 1.27830553e+00 7.07253039e-01\n",
      " 4.41915274e-01 3.16375285e-01 6.58983648e-01 7.88980663e-01\n",
      " 9.36507165e-01 2.67558485e-01 2.41244435e-01 4.48648572e-01\n",
      " 5.34309387e-01 1.92205936e-01 1.46918344e+00 4.58112955e-01\n",
      " 4.39672261e-01 7.41833374e-02 4.78641599e-01 3.70872200e-01\n",
      " 6.86728895e-01 1.38358474e-01 4.02450860e-01 5.87790787e-01\n",
      " 6.42448068e-02 5.06823003e-01 5.34494460e-01 1.06442317e-01\n",
      " 1.43146062e+00 1.11001641e-01 1.60228562e+00 3.81540805e-02\n",
      " 2.27840692e-02 2.11907268e-01 4.94768053e-01 1.50613821e+00\n",
      " 3.01014315e-02 8.70606899e-01 1.51859367e+00 1.16769719e+00\n",
      " 1.41572320e+00 1.51182190e-01 8.20444673e-02 6.94207191e-01\n",
      " 2.16715876e-02 1.72133470e+00 4.22850907e-01 8.30716789e-01\n",
      " 3.23839605e-01 3.88435900e-01 5.76068342e-01 3.24282497e-01\n",
      " 6.40872478e-01 5.97036481e-01 1.06827922e-01 6.83786452e-01\n",
      " 2.99133152e-01 1.01558939e-01 4.82382298e-01 4.87346910e-02\n",
      " 1.04252517e+00 3.34361106e-01 1.32016107e-01 2.19934471e-02\n",
      " 1.04859400e+00 6.34462714e-01 2.48734608e-01 1.11563766e+00\n",
      " 3.78168821e-01 1.06410690e-01 6.85184523e-02 1.57709926e-01\n",
      " 1.12051392e+00 1.89654171e-01 6.79597557e-01 5.82704067e-01\n",
      " 3.93840313e-01 9.34624135e-01 6.03990614e-01 2.30046675e-01\n",
      " 7.45170355e-01 2.08019629e-01 1.54197145e+00 2.26260471e+00\n",
      " 6.20196104e-01 1.37610078e-01 6.79384649e-01 6.87461672e-03\n",
      " 0.00000000e+00 6.84567988e-01 1.08156607e-01 1.72904730e-02\n",
      " 1.04479313e-01 5.31530738e-01 2.38369823e+00 7.62621537e-02\n",
      " 0.00000000e+00 5.59043825e-01 1.11940145e+00 5.54684401e-01\n",
      " 4.61852938e-01 2.69797707e+00 1.20368087e+00 5.90488851e-01\n",
      " 3.05021465e-01 5.90237558e-01 8.18941951e-01 5.57961285e-01]\n"
     ]
    }
   ],
   "source": [
    "# Example usage\n",
    "image_path = \"./images/q2.jpg\"\n",
    "q2 = create_image_embedding(image_path)\n",
    "\n",
    "# 'embedding' now contains a dense vector representation of the image\n",
    "print(\"Image Embedding Shape:\", q2.shape)\n",
    "print(\"Image Embedding:\", q2)\n",
    "\n",
    "\n"
   ]
  },
  {
   "cell_type": "code",
   "execution_count": 10,
   "metadata": {
    "colab": {
     "base_uri": "https://localhost:8080/"
    },
    "id": "yB6ppsekoGja",
    "outputId": "f3b99449-e4f2-4a1c-bd3c-e63510d01dfa"
   },
   "outputs": [
    {
     "name": "stdout",
     "output_type": "stream",
     "text": [
      "Image Embedding Shape: (512,)\n",
      "Image Embedding: [0.66461974 1.0776907  2.842596   0.47239444 0.09007876 1.0155346\n",
      " 0.3252502  0.62564135 1.6339132  1.0756283  0.71392465 0.7788116\n",
      " 1.1411136  0.30818292 0.0176854  1.8105357  0.5976567  0.903887\n",
      " 0.59660727 1.4534682  0.16470361 0.5382543  1.329266   1.1528758\n",
      " 2.6216471  1.0712352  1.1509106  1.4645187  0.10954981 0.65705395\n",
      " 0.9971711  1.4712696  0.2980436  0.9768344  0.4773276  0.23019211\n",
      " 1.302235   2.5726805  1.9723454  1.0166452  1.2847421  0.84519094\n",
      " 0.24210693 1.6802368  0.5608097  1.410241   0.31798977 1.4098611\n",
      " 1.6402403  0.76656085 0.34416196 0.56826186 2.0646176  1.2095245\n",
      " 0.80738926 2.3430095  1.653821   0.78640246 0.8354698  1.1179738\n",
      " 1.0032481  1.1911346  0.60796297 0.95372754 1.494098   2.1836443\n",
      " 0.7511724  0.5852939  1.42187    0.8150975  1.8586379  1.4138505\n",
      " 1.0811646  0.612026   1.1477702  1.973402   1.3778391  0.2897499\n",
      " 0.43296316 0.7296425  0.0904782  1.4593393  0.9366533  2.1007078\n",
      " 0.98236614 0.8425104  0.76473176 0.69257146 2.8940601  2.1725447\n",
      " 1.6742527  0.2868284  0.829978   1.4357793  0.27610418 0.17776112\n",
      " 1.1108705  3.8042367  0.4210588  1.1153097  1.9579954  0.2689358\n",
      " 0.8838676  0.5523394  1.8542602  0.21777359 2.9970663  0.9534335\n",
      " 0.18259837 1.2024158  1.2886903  1.8955642  0.29376015 1.3776602\n",
      " 0.3030211  0.8598406  0.76000035 0.58956164 0.38953188 0.3783806\n",
      " 0.37425953 1.633292   1.1065412  0.839576   0.72751904 1.9961689\n",
      " 1.3210236  1.2594858  0.63867515 0.25330955 0.99174315 0.30277753\n",
      " 0.53173476 0.89307636 0.2813975  0.78283364 0.3198144  0.2140188\n",
      " 1.2817153  0.09796026 0.9673427  1.2113128  0.33223367 0.61705875\n",
      " 0.11662109 0.23007926 0.2672485  0.25412098 0.15029721 3.0827568\n",
      " 1.0427448  0.9315374  0.52575636 0.8999166  0.8631342  0.2784027\n",
      " 1.6500465  2.3544457  1.5107622  1.3347492  0.3463665  1.902222\n",
      " 0.10611204 0.55791044 0.86495185 0.5747314  0.39307392 0.25909814\n",
      " 0.5386864  1.1369152  0.6613355  1.0751032  1.249535   0.28633797\n",
      " 1.3429565  0.6448251  0.47192514 0.6856298  2.0903625  1.1101617\n",
      " 0.9107783  0.09068419 3.0994937  1.7910091  3.0221782  0.8295301\n",
      " 0.5468561  0.7769759  0.48528978 0.9601306  0.83101076 0.91406107\n",
      " 0.5663697  1.7203747  0.35958466 2.062013   0.34782067 1.7927185\n",
      " 1.486736   1.1516619  1.9766295  1.5692463  0.43158635 0.46445513\n",
      " 1.2066873  1.7716421  0.62248874 0.39145932 0.23591475 1.6571009\n",
      " 0.26573062 1.2781578  1.6370503  0.13341515 0.6669299  1.5483568\n",
      " 1.0914572  0.4351278  0.6116964  0.4908073  1.4861587  0.86902845\n",
      " 0.41753924 2.1922982  0.7288754  1.2592366  1.0142424  1.0813998\n",
      " 0.54233676 2.2488575  0.14393145 0.9923762  1.194092   0.2819479\n",
      " 0.30243862 0.99589723 1.8675848  0.08028921 0.38625377 1.2035806\n",
      " 1.4388474  1.8567413  0.5448454  0.5314076  1.1598631  0.9079977\n",
      " 1.6303241  0.8059557  0.6433058  2.1529126  0.7469627  0.2318765\n",
      " 0.16794606 0.40410253 0.2036536  1.2373145  0.8841614  0.47219375\n",
      " 0.81754154 0.3118313  0.9176611  0.32308206 1.3883793  0.4643697\n",
      " 0.2857066  2.3827608  0.7414521  1.70226    1.0429486  0.37606877\n",
      " 0.9001766  0.6419386  0.90474325 2.3303194  1.0666225  2.599425\n",
      " 2.6091387  0.5603406  0.9345593  0.52475876 0.3396046  2.493277\n",
      " 0.67535883 0.4495823  1.7788105  0.4761897  0.6712488  0.7203796\n",
      " 1.27734    0.7044517  0.32754397 1.3058794  0.7886675  1.6435634\n",
      " 0.5141742  1.7394927  1.6091337  1.1823198  1.7272984  1.0210466\n",
      " 0.         0.30573627 0.40236515 2.0143874  1.5842127  0.9826856\n",
      " 0.20223802 1.6728622  1.5554994  0.5918768  0.75535077 0.59261644\n",
      " 6.1470575  1.4622476  0.80492914 0.5604393  0.20498677 0.538852\n",
      " 1.9038684  1.3201351  0.8036717  0.40030798 0.854072   0.03662362\n",
      " 1.3093033  0.20287779 1.8921986  0.8355229  1.1861275  0.5816533\n",
      " 2.096003   0.5171221  0.3430468  0.05429034 2.297225   0.1348752\n",
      " 0.77638566 0.13317545 0.31630576 0.25596184 1.2128484  1.2000884\n",
      " 0.5291207  1.4059495  0.6550048  0.76942146 0.6373383  0.4996121\n",
      " 1.7109677  0.3071245  0.31834212 1.2085103  0.6333735  0.05871237\n",
      " 0.02730861 0.22301656 0.6146875  1.3153702  1.1818467  0.521914\n",
      " 1.2282526  0.40712735 1.5247335  0.35199127 0.9915281  1.8708733\n",
      " 0.8312233  1.0549135  2.121359   0.08755751 0.9846262  1.1570116\n",
      " 0.89182436 1.1649963  0.9345068  1.2947623  1.3106691  1.3230864\n",
      " 0.49339598 2.531242   1.3577433  0.00615871 2.8603444  1.73619\n",
      " 1.9503298  0.9902372  2.3341815  0.36869064 0.9663846  1.8997946\n",
      " 1.4459255  1.549928   1.6446015  0.39142433 1.1355981  0.38072765\n",
      " 0.40457436 0.8063397  0.15345347 0.83875436 4.2553186  1.1590328\n",
      " 0.07778269 0.7905546  0.6455798  0.44166213 0.9226343  1.7561854\n",
      " 0.73013026 0.4187278  0.59147304 2.2522974  1.7603537  0.26972082\n",
      " 0.10170211 0.5265527  2.3748608  0.5444563  0.29482508 0.8166323\n",
      " 0.63871676 0.5654063  0.33350945 0.9951432  0.11330806 0.5213387\n",
      " 1.5681819  1.8138638  1.4413713  0.46980277 1.3758956  1.6224008\n",
      " 0.3600455  0.45101437 0.23928961 0.47506636 0.973419   0.34043092\n",
      " 1.0606396  0.22552465 0.13698463 0.8853907  2.666679   0.5645552\n",
      " 1.0928752  0.91088647 0.83013433 0.23673202 1.4674249  0.79691195\n",
      " 1.3436275  0.19730167 1.160321   1.0467039  0.9253372  1.0914007\n",
      " 1.1727467  0.59256613 0.16607852 1.1234163  0.8482308  0.60379326\n",
      " 3.174418   0.4225282  1.2306246  1.6105076  0.6797893  0.20390154\n",
      " 1.0359225  0.20090169 1.4926223  0.49863595 0.13483463 0.6630544\n",
      " 0.91886985 0.29349187 0.8225573  0.8184128  1.0368458  0.32691863\n",
      " 2.3458004  1.25169    0.5439089  0.7210403  0.5757356  0.39715934\n",
      " 0.92112094 0.8213527  1.8670146  0.3086649  1.0441918  0.4361006\n",
      " 0.15595733 1.2079294  0.12052003 0.68662786 0.24502753 1.3085098\n",
      " 2.0881171  0.98306036 0.02518408 1.9975134  0.7100799  0.16207014\n",
      " 0.61023235 1.0527653  1.5374628  1.9996967  0.356127   0.48492894\n",
      " 2.9594908  1.4632964 ]\n"
     ]
    }
   ],
   "source": [
    "image_path = \"./images/h2.jpg\"\n",
    "cat2 = create_image_embedding(image_path)\n",
    "\n",
    "# 'embedding' now contains a dense vector representation of the image\n",
    "print(\"Image Embedding Shape:\", cat2.shape)\n",
    "print(\"Image Embedding:\", cat2)\n",
    "\n"
   ]
  },
  {
   "cell_type": "code",
   "execution_count": 11,
   "metadata": {
    "id": "sYJYMgVWoGja"
   },
   "outputs": [],
   "source": [
    "q1 = create_image_embedding(\"./images/q1.jpg\")\n",
    "q2 = create_image_embedding(\"./images/q2.jpg\")\n",
    "h1 = create_image_embedding(\"./images/h1.jpg\")\n",
    "h2 = create_image_embedding(\"./images/h2.jpg\")\n",
    "a1 = create_image_embedding(\"./images/A1.jpg\")"
   ]
  },
  {
   "cell_type": "code",
   "execution_count": 12,
   "metadata": {
    "colab": {
     "base_uri": "https://localhost:8080/"
    },
    "id": "uXt8PPUooGja",
    "outputId": "85fdb036-a6c2-4009-8a75-5fa1b8258271"
   },
   "outputs": [
    {
     "data": {
      "text/plain": [
       "(512,)"
      ]
     },
     "execution_count": 12,
     "metadata": {},
     "output_type": "execute_result"
    }
   ],
   "source": [
    "q1.shape"
   ]
  },
  {
   "cell_type": "code",
   "execution_count": 13,
   "metadata": {
    "colab": {
     "base_uri": "https://localhost:8080/"
    },
    "id": "H_jA96Xq8bdh",
    "outputId": "da787f07-307c-40ee-9cdd-fdf7b97de439"
   },
   "outputs": [],
   "source": [
    "!pip install -Uq pymilvus"
   ]
  },
  {
   "cell_type": "code",
   "execution_count": 14,
   "metadata": {
    "id": "lOVsHPi-oGja"
   },
   "outputs": [],
   "source": [
    "#Imports a PyMilvus package:\n",
    "from pymilvus import (\n",
    "    connections,\n",
    "    utility,\n",
    "    FieldSchema,\n",
    "    CollectionSchema,\n",
    "    DataType,\n",
    "    Collection,\n",
    ")"
   ]
  },
  {
   "cell_type": "code",
   "execution_count": 15,
   "metadata": {
    "colab": {
     "base_uri": "https://localhost:8080/",
     "height": 449
    },
    "id": "J5uW2Gr1oGja",
    "outputId": "18ee1f1a-855f-4282-94af-dfdf00f5b2fd"
   },
   "outputs": [],
   "source": [
    "#Connect to the Milvus\n",
    "connections.connect(\"default\", host=\"localhost\", port=\"19530\")\n"
   ]
  },
  {
   "cell_type": "code",
   "execution_count": null,
   "metadata": {
    "id": "NfdfX6tCoGja"
   },
   "outputs": [],
   "source": [
    "#Creates a collection:\n",
    "fields = [\n",
    "    FieldSchema(name=\"pk\", dtype=DataType.INT64, is_primary=True, auto_id=False),\n",
    "    FieldSchema(name=\"words\", dtype=DataType.VARCHAR, max_length=50),\n",
    "    FieldSchema(name=\"embeddings\", dtype=DataType.FLOAT_VECTOR, dim=512)\n",
    "]\n",
    "schema = CollectionSchema(fields, \"Simple Demo for image similar search\")\n",
    "image = Collection(\"image\", schema)"
   ]
  },
  {
   "cell_type": "code",
   "execution_count": null,
   "metadata": {
    "id": "BX8I2W9UoGja"
   },
   "outputs": [],
   "source": [
    "# Builds indexes on the entities:\n",
    "\n",
    "index = {\n",
    "    \"index_type\": \"IVF_FLAT\",\n",
    "    \"metric_type\": \"L2\",\n",
    "    \"params\": {\"nlist\": 128},\n",
    "}\n",
    "\n",
    "image.create_index(\"embeddings\", index)"
   ]
  },
  {
   "cell_type": "code",
   "execution_count": null,
   "metadata": {
    "id": "mTUdfW01oGjb"
   },
   "outputs": [],
   "source": [
    "#Insert data in collection\n",
    "data = [\n",
    "    [1,2,3,4,5,6,7],  # field pk\n",
    "    ['cat1','cat2','dog1','dog2','dog3','person1','person2'],  # field words\n",
    "    [cat1, cat2, dog1, dog2, dog3, person1, person2],  # field embeddings\n",
    "]"
   ]
  },
  {
   "cell_type": "code",
   "execution_count": null,
   "metadata": {
    "id": "8pcUr4-OoGjb"
   },
   "outputs": [],
   "source": [
    "image.insert(data)\n",
    "image.flush()\n",
    "image.load()"
   ]
  },
  {
   "cell_type": "code",
   "execution_count": null,
   "metadata": {
    "id": "iSI3xsjcoGjb"
   },
   "outputs": [],
   "source": [
    "search_params = {\"metric_type\": \"L2\"}"
   ]
  },
  {
   "cell_type": "code",
   "execution_count": null,
   "metadata": {
    "id": "kpP9FFr2oGjb"
   },
   "outputs": [],
   "source": [
    "results = image.search(\n",
    "\tdata=[dog1],\n",
    "\tanns_field=\"embeddings\",\n",
    "\tparam=search_params,\n",
    "\tlimit=4,\n",
    "\texpr=None,\n",
    "\t# set the names of the fields you want to retrieve from the search result.\n",
    "\toutput_fields=['words'],\n",
    "\tconsistency_level=\"Strong\"\n",
    ")"
   ]
  },
  {
   "cell_type": "code",
   "execution_count": null,
   "metadata": {
    "id": "CWB2wq6OoGjb"
   },
   "outputs": [],
   "source": [
    "results[0].ids"
   ]
  },
  {
   "cell_type": "code",
   "execution_count": null,
   "metadata": {
    "id": "0AzYLVq6oGjb"
   },
   "outputs": [],
   "source": [
    "results[0].distances"
   ]
  },
  {
   "cell_type": "code",
   "execution_count": null,
   "metadata": {
    "id": "-cRSMzg-oGjb"
   },
   "outputs": [],
   "source": [
    "hit = results[0][3]\n",
    "hit.entity.get('words')"
   ]
  },
  {
   "cell_type": "code",
   "execution_count": null,
   "metadata": {
    "id": "_sleqskJoGjb"
   },
   "outputs": [],
   "source": [
    "results[0][0].entity.get('words')"
   ]
  },
  {
   "cell_type": "code",
   "execution_count": null,
   "metadata": {
    "id": "qe-C1StboGjb"
   },
   "outputs": [],
   "source": [
    "from PIL import Image"
   ]
  },
  {
   "cell_type": "code",
   "execution_count": null,
   "metadata": {
    "id": "4eWbVsANoGjb"
   },
   "outputs": [],
   "source": [
    "for i in range(0,len(results[0])):\n",
    "    name = results[0][i].entity.get('words')\n",
    "    print(name)\n",
    "    display(Image.open('./images/'+name+'.jpg'))"
   ]
  },
  {
   "cell_type": "code",
   "execution_count": null,
   "metadata": {
    "id": "fSP7XOHGoGjb"
   },
   "outputs": [],
   "source": [
    "results = image.search(\n",
    "\tdata=[cat1],\n",
    "\tanns_field=\"embeddings\",\n",
    "\tparam=search_params,\n",
    "\tlimit=4,\n",
    "\texpr=None,\n",
    "\t# set the names of the fields you want to retrieve from the search result.\n",
    "\toutput_fields=['words'],\n",
    "\tconsistency_level=\"Strong\"\n",
    ")"
   ]
  },
  {
   "cell_type": "code",
   "execution_count": null,
   "metadata": {
    "id": "rBgqIIydoGjb"
   },
   "outputs": [],
   "source": [
    "for i in range(0,len(results[0])):\n",
    "    name = results[0][i].entity.get('words')\n",
    "    print(name)\n",
    "    display(Image.open('./images/'+name+'.jpg'))"
   ]
  },
  {
   "cell_type": "code",
   "execution_count": null,
   "metadata": {
    "id": "jydif54SoGjb"
   },
   "outputs": [],
   "source": [
    "Binod1 = create_image_embedding(\"./images/Binod1.jpg\")\n",
    "Binod2 = create_image_embedding(\"./images/Binod2.jpg\")\n",
    "Binod3 = create_image_embedding(\"./images/Binod3.jpg\")\n",
    "Binod4 = create_image_embedding(\"./images/Binod4.jpg\")\n",
    "\n"
   ]
  },
  {
   "cell_type": "code",
   "execution_count": null,
   "metadata": {
    "id": "gQYmNtRboGjb"
   },
   "outputs": [],
   "source": [
    "Binod1.shape"
   ]
  },
  {
   "cell_type": "code",
   "execution_count": null,
   "metadata": {
    "id": "VtkSIMokoGjb"
   },
   "outputs": [],
   "source": [
    "#Insert data in collection\n",
    "data = [\n",
    "    [8,9,10,11],  # field pk\n",
    "    ['Binod1','Binod2','Binod3','Binod4'],  # field words\n",
    "    [Binod1,Binod2,Binod3,Binod4],  # field embeddings\n",
    "]"
   ]
  },
  {
   "cell_type": "code",
   "execution_count": null,
   "metadata": {
    "id": "pte--ahSoGjb"
   },
   "outputs": [],
   "source": [
    "image.insert(data)\n",
    "image.flush()\n",
    "image.load()"
   ]
  },
  {
   "cell_type": "code",
   "execution_count": null,
   "metadata": {
    "id": "3DIgoY7aoGjb"
   },
   "outputs": [],
   "source": [
    "image.release()"
   ]
  },
  {
   "cell_type": "code",
   "execution_count": null,
   "metadata": {
    "id": "sruU3l8JoGjb"
   },
   "outputs": [],
   "source": [
    "image.load()"
   ]
  },
  {
   "cell_type": "code",
   "execution_count": null,
   "metadata": {
    "id": "zMWLXSEXoGjb"
   },
   "outputs": [],
   "source": [
    "expr = \"pk in [6,7]\"\n",
    "image.delete(expr)"
   ]
  },
  {
   "cell_type": "code",
   "execution_count": null,
   "metadata": {
    "id": "MdmDFABToGjb"
   },
   "outputs": [],
   "source": [
    "results = image.search(\n",
    "\tdata=[Binod2],\n",
    "\tanns_field=\"embeddings\",\n",
    "\tparam=search_params,\n",
    "\tlimit=4,\n",
    "\texpr=None,\n",
    "\t# set the names of the fields you want to retrieve from the search result.\n",
    "\toutput_fields=['words'],\n",
    "\tconsistency_level=\"Strong\"\n",
    ")"
   ]
  },
  {
   "cell_type": "code",
   "execution_count": null,
   "metadata": {
    "id": "_yxxGpE1oGjb"
   },
   "outputs": [],
   "source": [
    "for i in range(0,len(results[0])):\n",
    "    name = results[0][i].entity.get('words')\n",
    "    print(name)\n",
    "    display(Image.open('./images/'+name+'.jpg'))"
   ]
  },
  {
   "cell_type": "code",
   "execution_count": null,
   "metadata": {
    "id": "5Fv4cEBQoGjb"
   },
   "outputs": [],
   "source": [
    "harsh1 = create_image_embedding(\"./images/harsh1.jpg\")\n",
    "harsh2 = create_image_embedding(\"./images/harsh2.jpg\")\n",
    "harsh3 = create_image_embedding(\"./images/harsh3.jpg\")\n",
    "harsh4 = create_image_embedding(\"./images/harsh4.jpg\")\n",
    "\n",
    "\n"
   ]
  },
  {
   "cell_type": "code",
   "execution_count": null,
   "metadata": {
    "id": "FJX0aPJ-oGjb"
   },
   "outputs": [],
   "source": [
    "#Insert data in collection\n",
    "data = [\n",
    "    [12,13,14,14],  # field pk\n",
    "    ['harsh1','harsh2','harsh3','harsh4'],  # field words\n",
    "    [harsh1,harsh2,harsh3,harsh4],  # field embeddings\n",
    "]\n",
    "image.insert(data)\n",
    "image.flush()\n",
    "image.load()"
   ]
  },
  {
   "cell_type": "code",
   "execution_count": null,
   "metadata": {
    "id": "yFvXQoFxoGjc"
   },
   "outputs": [],
   "source": [
    "results = image.search(\n",
    "\tdata=[harsh2],\n",
    "\tanns_field=\"embeddings\",\n",
    "\tparam=search_params,\n",
    "\tlimit=4,\n",
    "\texpr=None,\n",
    "\t# set the names of the fields you want to retrieve from the search result.\n",
    "\toutput_fields=['words'],\n",
    "\tconsistency_level=\"Strong\"\n",
    ")"
   ]
  },
  {
   "cell_type": "code",
   "execution_count": null,
   "metadata": {
    "id": "QJ_bvwLboGjc"
   },
   "outputs": [],
   "source": [
    "for i in range(0,len(results[0])):\n",
    "    name = results[0][i].entity.get('words')\n",
    "    print(name)\n",
    "    display(Image.open('./images/'+name+'.jpg'))"
   ]
  },
  {
   "cell_type": "code",
   "execution_count": null,
   "metadata": {
    "id": "lhVU3pkfoGjc"
   },
   "outputs": [],
   "source": []
  },
  {
   "cell_type": "code",
   "execution_count": null,
   "metadata": {
    "id": "PYNrn2j6oGjc"
   },
   "outputs": [],
   "source": []
  },
  {
   "cell_type": "code",
   "execution_count": null,
   "metadata": {
    "id": "n3L1o1reoGjc"
   },
   "outputs": [],
   "source": []
  },
  {
   "cell_type": "code",
   "execution_count": null,
   "metadata": {
    "id": "jmbjsGaZoGjc"
   },
   "outputs": [],
   "source": []
  },
  {
   "cell_type": "code",
   "execution_count": null,
   "metadata": {
    "id": "nEFc46pDoGjc"
   },
   "outputs": [],
   "source": []
  }
 ],
 "metadata": {
  "accelerator": "GPU",
  "colab": {
   "gpuType": "T4",
   "provenance": []
  },
  "kernelspec": {
   "display_name": "Python 3 (ipykernel)",
   "language": "python",
   "name": "python3"
  },
  "language_info": {
   "codemirror_mode": {
    "name": "ipython",
    "version": 3
   },
   "file_extension": ".py",
   "mimetype": "text/x-python",
   "name": "python",
   "nbconvert_exporter": "python",
   "pygments_lexer": "ipython3",
   "version": "3.11.3"
  }
 },
 "nbformat": 4,
 "nbformat_minor": 1
}
