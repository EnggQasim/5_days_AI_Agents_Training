{
 "cells": [
  {
   "cell_type": "raw",
   "id": "14a5bca8",
   "metadata": {},
   "source": [
    "https://samueldamilare.medium.com/mastering-vector-embeddings-search-text-audio-video-and-images-with-ease-1f1b9f3ec55d"
   ]
  },
  {
   "cell_type": "code",
   "execution_count": 2,
   "id": "5f1e5160",
   "metadata": {},
   "outputs": [
    {
     "name": "stdout",
     "output_type": "stream",
     "text": [
      "\u001b[31mERROR: pip's dependency resolver does not currently take into account all the packages that are installed. This behaviour is the source of the following dependency conflicts.\r\n",
      "tensorflow-macos 2.15.0 requires keras<2.16,>=2.15.0, but you have keras 3.6.0 which is incompatible.\r\n",
      "tensorflow-macos 2.15.0 requires ml-dtypes~=0.2.0, but you have ml-dtypes 0.4.1 which is incompatible.\r\n",
      "tensorflow-macos 2.15.0 requires tensorboard<2.16,>=2.15, but you have tensorboard 2.17.1 which is incompatible.\u001b[0m\u001b[31m\r\n",
      "\u001b[0m"
     ]
    }
   ],
   "source": [
    "!pip install -Uq tensorflow_hub  pydub"
   ]
  },
  {
   "cell_type": "code",
   "execution_count": 3,
   "id": "2a45d563",
   "metadata": {},
   "outputs": [
    {
     "name": "stdout",
     "output_type": "stream",
     "text": [
      "\u001b[31mERROR: pip's dependency resolver does not currently take into account all the packages that are installed. This behaviour is the source of the following dependency conflicts.\r\n",
      "tensorflow-macos 2.15.0 requires keras<2.16,>=2.15.0, but you have keras 3.6.0 which is incompatible.\r\n",
      "tensorflow-macos 2.15.0 requires ml-dtypes~=0.2.0, but you have ml-dtypes 0.4.1 which is incompatible.\r\n",
      "tensorflow-macos 2.15.0 requires tensorboard<2.16,>=2.15, but you have tensorboard 2.17.1 which is incompatible.\u001b[0m\u001b[31m\r\n",
      "\u001b[0m"
     ]
    }
   ],
   "source": [
    "!pip install -Uq tensorflow-io"
   ]
  },
  {
   "cell_type": "code",
   "execution_count": 5,
   "id": "37d6e75c",
   "metadata": {},
   "outputs": [
    {
     "name": "stdout",
     "output_type": "stream",
     "text": [
      "Audio embedding shape: (34, 1024)\n"
     ]
    }
   ],
   "source": [
    "import tensorflow as tf\n",
    "import tensorflow_hub as hub\n",
    "\n",
    "# Load the YAMNET model\n",
    "model = hub.load('https://tfhub.dev/google/yamnet/1')\n",
    "\n",
    "# Load an audio file\n",
    "audio, sample_rate = tf.audio.decode_wav(tf.io.read_file('audio/h1.wav'))\n",
    "audio = tf.squeeze(audio, axis=-1)\n",
    "\n",
    "# Generate embeddings\n",
    "scores, embeddings, log_mel_spectrogram = model(audio)\n",
    "\n",
    "print(f\"Audio embedding shape: {embeddings.shape}\")"
   ]
  },
  {
   "cell_type": "code",
   "execution_count": 6,
   "id": "9e431899",
   "metadata": {},
   "outputs": [
    {
     "data": {
      "text/plain": [
       "<tf.Tensor: shape=(1680, 64), dtype=float32, numpy=\n",
       "array([[-6.9077554, -6.9077554, -6.9077554, ..., -6.9077554, -6.9077554,\n",
       "        -6.9077554],\n",
       "       [-6.9077554, -6.9077554, -6.9077554, ..., -6.9077554, -6.9077554,\n",
       "        -6.9077554],\n",
       "       [-6.9077554, -6.9077554, -6.9077554, ..., -6.9077554, -6.9077554,\n",
       "        -6.9077554],\n",
       "       ...,\n",
       "       [-6.9077554, -6.9077554, -6.9077554, ..., -6.9077554, -6.9077554,\n",
       "        -6.9077554],\n",
       "       [-6.9077554, -6.9077554, -6.9077554, ..., -6.9077554, -6.9077554,\n",
       "        -6.9077554],\n",
       "       [-6.9077554, -6.9077554, -6.9077554, ..., -6.9077554, -6.9077554,\n",
       "        -6.9077554]], dtype=float32)>"
      ]
     },
     "execution_count": 6,
     "metadata": {},
     "output_type": "execute_result"
    }
   ],
   "source": [
    "log_mel_spectrogram"
   ]
  },
  {
   "cell_type": "code",
   "execution_count": null,
   "id": "ca9402d7",
   "metadata": {},
   "outputs": [],
   "source": [
    "import tensorflow as tf\n",
    "import tensorflow_hub as hub\n",
    "import numpy as np\n",
    "\n",
    "def get_vggish_embedding(audio_path):\n",
    "    # Load the VGGish model\n",
    "    model = hub.load('https://tfhub.dev/google/vggish/1')\n",
    "\n",
    "    # Load and preprocess audio file\n",
    "    audio, sample_rate = tf.audio.decode_wav(tf.io.read_file(audio_path))\n",
    "    audio = tf.squeeze(audio, axis=-1)\n",
    "    \n",
    "    # Ensure audio is the correct length (0.96 seconds)\n",
    "    audio = audio[:int(0.96 * sample_rate)]\n",
    "    if len(audio) < int(0.96 * sample_rate):\n",
    "        audio = tf.pad(audio, [[0, int(0.96 * sample_rate) - len(audio)]])\n",
    "\n",
    "    # Generate embedding\n",
    "    embedding = model(audio)\n",
    "    return embedding.numpy()\n",
    "\n",
    "# Example usage\n",
    "audio_path = \"audio/h1.wav\"\n",
    "vggish_embedding = get_vggish_embedding(audio_path)\n",
    "print(f\"VGGish embedding shape: {vggish_embedding.shape}\")"
   ]
  },
  {
   "cell_type": "code",
   "execution_count": null,
   "id": "fadc1db4",
   "metadata": {},
   "outputs": [],
   "source": []
  }
 ],
 "metadata": {
  "kernelspec": {
   "display_name": "Python 3 (ipykernel)",
   "language": "python",
   "name": "python3"
  },
  "language_info": {
   "codemirror_mode": {
    "name": "ipython",
    "version": 3
   },
   "file_extension": ".py",
   "mimetype": "text/x-python",
   "name": "python",
   "nbconvert_exporter": "python",
   "pygments_lexer": "ipython3",
   "version": "3.11.3"
  }
 },
 "nbformat": 4,
 "nbformat_minor": 5
}
